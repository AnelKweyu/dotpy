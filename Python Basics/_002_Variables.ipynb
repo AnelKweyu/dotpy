{
  "cells": [
    {
      "cell_type": "markdown",
      "metadata": {
        "id": "view-in-github",
        "colab_type": "text"
      },
      "source": [
        "<a href=\"https://colab.research.google.com/github/AnelKweyu/Python-Guide/blob/master/_2_Python_Variables.ipynb\" target=\"_parent\"><img src=\"https://colab.research.google.com/assets/colab-badge.svg\" alt=\"Open In Colab\"/></a>"
      ]
    },
    {
      "cell_type": "markdown",
      "id": "aca3cab4-941a-4c66-9d8a-cb0e8f0a7cd7",
      "metadata": {
        "id": "aca3cab4-941a-4c66-9d8a-cb0e8f0a7cd7"
      },
      "source": [
        "# Variables\n",
        "Variables are containers for storing data values."
      ]
    },
    {
      "cell_type": "markdown",
      "id": "ba6ff300-a3a5-4b9e-b54c-a4102775fb38",
      "metadata": {
        "id": "ba6ff300-a3a5-4b9e-b54c-a4102775fb38"
      },
      "source": [
        "### Creating Variables\n",
        "Python has no command for declaring a variable.\n",
        "A variable is created the moment you first assign a value to it."
      ]
    },
    {
      "cell_type": "code",
      "execution_count": null,
      "id": "86b4781e-506b-4959-90f2-d87c0f1003da",
      "metadata": {
        "id": "86b4781e-506b-4959-90f2-d87c0f1003da",
        "outputId": "781ff41e-e054-4643-fd53-d8981ae2a963"
      },
      "outputs": [
        {
          "name": "stdout",
          "output_type": "stream",
          "text": [
            "5\n",
            "Anelka\n"
          ]
        }
      ],
      "source": [
        "x = 5\n",
        "y = \"Anelka\"\n",
        "print(x)\n",
        "print(y)"
      ]
    },
    {
      "cell_type": "markdown",
      "id": "64a7a28b-b1f1-49b0-8e98-3111c0d01185",
      "metadata": {
        "id": "64a7a28b-b1f1-49b0-8e98-3111c0d01185"
      },
      "source": [
        "Variables do not need to be declared with any particular type, and can even change type after they have been set.\n"
      ]
    },
    {
      "cell_type": "code",
      "execution_count": null,
      "id": "8069fa59-9879-47ec-9182-a3d84f046d9b",
      "metadata": {
        "id": "8069fa59-9879-47ec-9182-a3d84f046d9b",
        "outputId": "df3f2218-f024-4856-fd85-0e6c99eeea83"
      },
      "outputs": [
        {
          "name": "stdout",
          "output_type": "stream",
          "text": [
            "Anelka\n"
          ]
        }
      ],
      "source": [
        "x = 4       # x is of type int\n",
        "x = \"Anelka\" # x is now of type str\n",
        "print(x)"
      ]
    },
    {
      "cell_type": "markdown",
      "id": "643f9576-e5be-47a6-81a1-96aa532e6ce1",
      "metadata": {
        "id": "643f9576-e5be-47a6-81a1-96aa532e6ce1"
      },
      "source": [
        "**Many Values to Multiple Variables**"
      ]
    },
    {
      "cell_type": "code",
      "execution_count": null,
      "id": "e4eef366-2a1e-4d53-bf60-38d395960313",
      "metadata": {
        "id": "e4eef366-2a1e-4d53-bf60-38d395960313",
        "outputId": "bac40d29-f5fa-48f5-bbde-07cd6ef52f06"
      },
      "outputs": [
        {
          "name": "stdout",
          "output_type": "stream",
          "text": [
            "Oppo\n",
            "Bumaye\n",
            "H2H\n"
          ]
        }
      ],
      "source": [
        "x, y, z = \"Oppo\", \"Bumaye\", \"H2H\"\n",
        "print(x)\n",
        "print(y)\n",
        "print(z)"
      ]
    },
    {
      "cell_type": "markdown",
      "id": "d19f866a-5f9a-48b3-83ed-68f4d4c2225c",
      "metadata": {
        "id": "d19f866a-5f9a-48b3-83ed-68f4d4c2225c"
      },
      "source": [
        "**One Value to Multiple Variables**"
      ]
    },
    {
      "cell_type": "code",
      "execution_count": null,
      "id": "b3e9850e-8933-4547-aed4-b4484fa21f9e",
      "metadata": {
        "id": "b3e9850e-8933-4547-aed4-b4484fa21f9e",
        "outputId": "254aa779-9f7d-47d7-f0a3-cbf6fe9d4bd4"
      },
      "outputs": [
        {
          "name": "stdout",
          "output_type": "stream",
          "text": [
            "Oppo\n",
            "Oppo\n",
            "Oppo\n"
          ]
        }
      ],
      "source": [
        "x = y = z = \"Oppo\"\n",
        "print(x)\n",
        "print(y)\n",
        "print(z)"
      ]
    },
    {
      "cell_type": "markdown",
      "id": "0b9eb302-2e7a-476f-86b4-392de5d0ed60",
      "metadata": {
        "id": "0b9eb302-2e7a-476f-86b4-392de5d0ed60"
      },
      "source": [
        "**Unpack a Collection**"
      ]
    },
    {
      "cell_type": "code",
      "execution_count": null,
      "id": "cd133147-c319-425d-8799-b726bab5a2c2",
      "metadata": {
        "id": "cd133147-c319-425d-8799-b726bab5a2c2",
        "outputId": "8bce0f18-2d92-4c94-fa0a-08e4a5c17b6c"
      },
      "outputs": [
        {
          "name": "stdout",
          "output_type": "stream",
          "text": [
            "Oppo\n",
            "Bumaye\n",
            "H2H\n"
          ]
        }
      ],
      "source": [
        "nganya = [\"Oppo\",\"Bumaye\",\"H2H\"]\n",
        "x, y, z = nganya\n",
        "print(x)\n",
        "print(y)\n",
        "print(z)"
      ]
    },
    {
      "cell_type": "markdown",
      "id": "7fdba1e9-955b-4f7c-ab41-f55b78d27120",
      "metadata": {
        "jp-MarkdownHeadingCollapsed": true,
        "id": "7fdba1e9-955b-4f7c-ab41-f55b78d27120"
      },
      "source": [
        "### Casting"
      ]
    },
    {
      "cell_type": "code",
      "execution_count": null,
      "id": "bab3e60c-830e-4add-beb6-07cd3c55d45d",
      "metadata": {
        "id": "bab3e60c-830e-4add-beb6-07cd3c55d45d"
      },
      "outputs": [],
      "source": [
        "#integers\n",
        "x = int(1)   # x will be 1\n",
        "y = int(2.8) # y will be 2\n",
        "z = int(\"3\") # z will be 3\n",
        "\n",
        "#Floats:\n",
        "x = float(1)     # x will be 1.0\n",
        "y = float(2.8)   # y will be 2.8\n",
        "z = float(\"3\")   # z will be 3.0\n",
        "w = float(\"4.2\") # w will be 4.2\n",
        "\n",
        "#Strings:\n",
        "x = str(\"s1\") # x will be 's1'\n",
        "y = str(2)    # y will be '2'\n",
        "z = str(3.0)  # z will be '3.0'"
      ]
    },
    {
      "cell_type": "markdown",
      "id": "cdc82d68-1210-4f90-b6d8-6419a027ce5b",
      "metadata": {
        "jp-MarkdownHeadingCollapsed": true,
        "id": "cdc82d68-1210-4f90-b6d8-6419a027ce5b"
      },
      "source": [
        "### Get the Type\n",
        "You can get the data type of a variable with the `type()` function."
      ]
    },
    {
      "cell_type": "code",
      "execution_count": null,
      "id": "dc138c76-f7b4-4c67-b638-c84f6fab30b2",
      "metadata": {
        "id": "dc138c76-f7b4-4c67-b638-c84f6fab30b2",
        "outputId": "e71ed2f8-d3f6-4cb0-db44-b4b668a3620e"
      },
      "outputs": [
        {
          "name": "stdout",
          "output_type": "stream",
          "text": [
            "<class 'int'>\n",
            "<class 'str'>\n"
          ]
        }
      ],
      "source": [
        "x = 5\n",
        "y = \"Anelka\"\n",
        "print(type(x))\n",
        "print(type(y))"
      ]
    },
    {
      "cell_type": "markdown",
      "id": "bd230169-a831-4a80-9548-1f344bee8e92",
      "metadata": {
        "jp-MarkdownHeadingCollapsed": true,
        "id": "bd230169-a831-4a80-9548-1f344bee8e92"
      },
      "source": [
        "### Single or Double Quotes?\n",
        "String variables can be declared either by using single or double quotes:"
      ]
    },
    {
      "cell_type": "code",
      "execution_count": null,
      "id": "91b23c55-5f15-4ea0-bdf5-03f112a6c649",
      "metadata": {
        "id": "91b23c55-5f15-4ea0-bdf5-03f112a6c649"
      },
      "outputs": [],
      "source": [
        "x = \"Anelka\"\n",
        "# is the same as\n",
        "x = 'Anelka'"
      ]
    },
    {
      "cell_type": "markdown",
      "id": "6b5743d7-0151-4544-8e31-1d2e1cb84f0e",
      "metadata": {
        "jp-MarkdownHeadingCollapsed": true,
        "id": "6b5743d7-0151-4544-8e31-1d2e1cb84f0e"
      },
      "source": [
        "### Case-Sensitive\n",
        "Variable names are case-sensitive."
      ]
    },
    {
      "cell_type": "code",
      "execution_count": null,
      "id": "4169e3f9-85ee-426c-ada8-03332d64cef6",
      "metadata": {
        "id": "4169e3f9-85ee-426c-ada8-03332d64cef6"
      },
      "outputs": [],
      "source": [
        "a = 4\n",
        "A = \"Anelka\"\n",
        "#A will not overwrite a"
      ]
    },
    {
      "cell_type": "markdown",
      "id": "e568f457-2856-487b-b200-8e05b4e4b313",
      "metadata": {
        "id": "e568f457-2856-487b-b200-8e05b4e4b313"
      },
      "source": [
        "## Variable Names\n",
        "A variable can have a short name (like x and y) or a more descriptive name (age, carname, total_volume). Rules for Python variables:\n",
        "- A variable name must start with a letter or the underscore character\n",
        "- A variable name cannot start with a number\n",
        "- A variable name can only contain alpha-numeric characters and underscores (A-z, 0-9, and _ )\n",
        "- Variable names are case-sensitive (age, Age and AGE are three different variables)\n",
        "- A variable name cannot be any of the Python keywords."
      ]
    },
    {
      "cell_type": "code",
      "execution_count": null,
      "id": "d9a783be-bec9-45cb-951f-43c275e7671b",
      "metadata": {
        "id": "d9a783be-bec9-45cb-951f-43c275e7671b"
      },
      "outputs": [],
      "source": [
        "myvar = \"Anelka\"\n",
        "my_var = \"Anelka\"\n",
        "_my_var = \"Anelka\"\n",
        "myVar = \"Anelka\"\n",
        "MYVAR = \"Anelka\"\n",
        "myvar2 = \"Anelka\""
      ]
    },
    {
      "cell_type": "markdown",
      "id": "0c35ef58-56d9-424f-90f1-7cbae2f49855",
      "metadata": {
        "id": "0c35ef58-56d9-424f-90f1-7cbae2f49855"
      },
      "source": [
        "### Multi Words Variable Names"
      ]
    },
    {
      "cell_type": "markdown",
      "id": "851608ff-4c5e-4bbe-8a6a-3a1c952e2cb4",
      "metadata": {
        "id": "851608ff-4c5e-4bbe-8a6a-3a1c952e2cb4"
      },
      "source": [
        "**Camel Case**"
      ]
    },
    {
      "cell_type": "code",
      "execution_count": null,
      "id": "99412cbb-92dd-47b5-8903-1c0f30cf9350",
      "metadata": {
        "id": "99412cbb-92dd-47b5-8903-1c0f30cf9350"
      },
      "outputs": [],
      "source": [
        "myVariableName = \"Anelka\""
      ]
    },
    {
      "cell_type": "markdown",
      "id": "885d80e9-f25f-4100-b6b8-16587bc7083c",
      "metadata": {
        "id": "885d80e9-f25f-4100-b6b8-16587bc7083c"
      },
      "source": [
        "**Pascal Case**"
      ]
    },
    {
      "cell_type": "code",
      "execution_count": null,
      "id": "21620e3a-35f0-42b3-811d-1d392c846252",
      "metadata": {
        "id": "21620e3a-35f0-42b3-811d-1d392c846252"
      },
      "outputs": [],
      "source": [
        "MyVariableName = \"Anelka\""
      ]
    },
    {
      "cell_type": "markdown",
      "id": "a500bf59-6374-4921-a8cb-a5bfe2e4f3e5",
      "metadata": {
        "id": "a500bf59-6374-4921-a8cb-a5bfe2e4f3e5"
      },
      "source": [
        "**Snake Case**"
      ]
    },
    {
      "cell_type": "code",
      "execution_count": null,
      "id": "b3af5c0a-2264-48b6-91d3-f7ab2a3afd08",
      "metadata": {
        "id": "b3af5c0a-2264-48b6-91d3-f7ab2a3afd08"
      },
      "outputs": [],
      "source": [
        "my_variable_name = \"Anelka\""
      ]
    },
    {
      "cell_type": "markdown",
      "id": "4aa15a9a-ef8d-4e69-b7e1-6759e5b3a993",
      "metadata": {
        "id": "4aa15a9a-ef8d-4e69-b7e1-6759e5b3a993"
      },
      "source": [
        "## Output Variables\n",
        "The Python `print()` function is often used to output variables."
      ]
    },
    {
      "cell_type": "code",
      "execution_count": null,
      "id": "52a9872c-36f4-42bd-9296-ec98ffa4b773",
      "metadata": {
        "id": "52a9872c-36f4-42bd-9296-ec98ffa4b773",
        "outputId": "51b07b22-0ca3-4762-c0d3-43fae0e55a57"
      },
      "outputs": [
        {
          "name": "stdout",
          "output_type": "stream",
          "text": [
            "Anelka is awesome\n"
          ]
        }
      ],
      "source": [
        "x = \"Anelka is awesome\"\n",
        "print(x)"
      ]
    },
    {
      "cell_type": "markdown",
      "id": "119135b1-2c46-4654-a71e-7c2fd84e1525",
      "metadata": {
        "id": "119135b1-2c46-4654-a71e-7c2fd84e1525"
      },
      "source": [
        "In the `print()` function, you output multiple variables, separated by a comma:"
      ]
    },
    {
      "cell_type": "code",
      "execution_count": null,
      "id": "222a008d-4cc1-43ab-95d5-0c06aa2d2b71",
      "metadata": {
        "id": "222a008d-4cc1-43ab-95d5-0c06aa2d2b71",
        "outputId": "fc15c56e-77e7-436e-833f-6b0483df3a5a"
      },
      "outputs": [
        {
          "name": "stdout",
          "output_type": "stream",
          "text": [
            "Anelka is awesome\n"
          ]
        }
      ],
      "source": [
        "x = \"Anelka\"\n",
        "y = \"is\"\n",
        "z = \"awesome\"\n",
        "print(x, y, z)"
      ]
    },
    {
      "cell_type": "markdown",
      "id": "60431de6-949a-461f-b347-2a11b4bbf2a2",
      "metadata": {
        "id": "60431de6-949a-461f-b347-2a11b4bbf2a2"
      },
      "source": [
        "You can also use the `+` operator to output multiple variables:"
      ]
    },
    {
      "cell_type": "code",
      "execution_count": null,
      "id": "9a735a39-a1ba-4bb9-9450-57a6d107ed11",
      "metadata": {
        "id": "9a735a39-a1ba-4bb9-9450-57a6d107ed11",
        "outputId": "9a595f02-1d03-42e6-eca6-ccc9bb671e94"
      },
      "outputs": [
        {
          "name": "stdout",
          "output_type": "stream",
          "text": [
            "Anelka is awesome\n"
          ]
        }
      ],
      "source": [
        "x = \"Anelka \"\n",
        "y = \"is \"\n",
        "z = \"awesome\"\n",
        "print(x + y + z)"
      ]
    },
    {
      "cell_type": "markdown",
      "id": "0c924841-1871-49db-bd48-5b600ffb6318",
      "metadata": {
        "id": "0c924841-1871-49db-bd48-5b600ffb6318"
      },
      "source": [
        "For numbers, the `+` character works as a mathematical operator:"
      ]
    },
    {
      "cell_type": "code",
      "execution_count": null,
      "id": "e84aea43-2951-48a6-9714-73b5320bfcfe",
      "metadata": {
        "id": "e84aea43-2951-48a6-9714-73b5320bfcfe",
        "outputId": "7db6fc2d-6b61-499d-dbb9-536e9d1e4dad"
      },
      "outputs": [
        {
          "name": "stdout",
          "output_type": "stream",
          "text": [
            "15\n"
          ]
        }
      ],
      "source": [
        "x = 5\n",
        "y = 10\n",
        "print(x + y)"
      ]
    },
    {
      "cell_type": "markdown",
      "id": "811216c4-03a5-497f-b97c-556bdc16f70c",
      "metadata": {
        "id": "811216c4-03a5-497f-b97c-556bdc16f70c"
      },
      "source": [
        "In the `print()` function, when you try to combine a string and a number with the `+` operator, Python will give you an error:"
      ]
    },
    {
      "cell_type": "code",
      "execution_count": null,
      "id": "b8206e49-2dff-4e25-b8c4-ef77514ac6b3",
      "metadata": {
        "id": "b8206e49-2dff-4e25-b8c4-ef77514ac6b3",
        "outputId": "5e5897b7-b117-4852-d0b3-bfb2a8a3a473"
      },
      "outputs": [
        {
          "ename": "TypeError",
          "evalue": "unsupported operand type(s) for +: 'int' and 'str'",
          "output_type": "error",
          "traceback": [
            "\u001b[1;31m---------------------------------------------------------------------------\u001b[0m",
            "\u001b[1;31mTypeError\u001b[0m                                 Traceback (most recent call last)",
            "Cell \u001b[1;32mIn[18], line 3\u001b[0m\n\u001b[0;32m      1\u001b[0m x \u001b[38;5;241m=\u001b[39m \u001b[38;5;241m5\u001b[39m\n\u001b[0;32m      2\u001b[0m y \u001b[38;5;241m=\u001b[39m \u001b[38;5;124m\"\u001b[39m\u001b[38;5;124mAnelka\u001b[39m\u001b[38;5;124m\"\u001b[39m\n\u001b[1;32m----> 3\u001b[0m \u001b[38;5;28mprint\u001b[39m(x \u001b[38;5;241m+\u001b[39m y)\n",
            "\u001b[1;31mTypeError\u001b[0m: unsupported operand type(s) for +: 'int' and 'str'"
          ]
        }
      ],
      "source": [
        "x = 5\n",
        "y = \"Anelka\"\n",
        "print(x + y)"
      ]
    },
    {
      "cell_type": "markdown",
      "id": "4f0d0466-52eb-4d1a-a5b1-4b3c08162e00",
      "metadata": {
        "id": "4f0d0466-52eb-4d1a-a5b1-4b3c08162e00"
      },
      "source": [
        "The best way to output multiple variables in the `print()` function is to separate them with commas, which even support different data types:\n"
      ]
    },
    {
      "cell_type": "code",
      "execution_count": null,
      "id": "6c40fa12-fa17-4ee3-af9c-fbd3fa9b6108",
      "metadata": {
        "id": "6c40fa12-fa17-4ee3-af9c-fbd3fa9b6108",
        "outputId": "58195515-4db3-4764-f874-31181fd3c703"
      },
      "outputs": [
        {
          "name": "stdout",
          "output_type": "stream",
          "text": [
            "5 Anelka\n"
          ]
        }
      ],
      "source": [
        "x = 5\n",
        "y = \"Anelka\"\n",
        "print(x, y)"
      ]
    },
    {
      "cell_type": "markdown",
      "id": "eb2e90a5-9fb5-4a66-b13d-b2d8ba3571d2",
      "metadata": {
        "id": "eb2e90a5-9fb5-4a66-b13d-b2d8ba3571d2"
      },
      "source": [
        "## Global Variables\n",
        "Variables that are created outside of a function (as in all of the examples above) are known as global variables & s can be used by everyone, both inside of functions and outside."
      ]
    },
    {
      "cell_type": "markdown",
      "id": "710b5836-605f-4aba-879b-9d52fef71e4b",
      "metadata": {
        "id": "710b5836-605f-4aba-879b-9d52fef71e4b"
      },
      "source": [
        "Create a variable outside of a function, and use it inside the function"
      ]
    },
    {
      "cell_type": "code",
      "execution_count": null,
      "id": "c4ad3049-977b-4fc0-a0d7-ec94ab5bd6b2",
      "metadata": {
        "id": "c4ad3049-977b-4fc0-a0d7-ec94ab5bd6b2",
        "outputId": "db630632-6f23-4e2f-9559-9093e83761cf"
      },
      "outputs": [
        {
          "name": "stdout",
          "output_type": "stream",
          "text": [
            "Anelka is awesome\n"
          ]
        }
      ],
      "source": [
        "x = \"awesome\"\n",
        "\n",
        "def myfunc():\n",
        "  print(\"Anelka is \" + x)\n",
        "\n",
        "myfunc()"
      ]
    },
    {
      "cell_type": "markdown",
      "id": "19fe3c31-b182-49e2-949e-b126c498bded",
      "metadata": {
        "id": "19fe3c31-b182-49e2-949e-b126c498bded"
      },
      "source": [
        "If you create a variable with the same name inside a function, this variable will be local, and can only be used inside the function. The global variable with the same name will remain as it was, global and with the original value."
      ]
    },
    {
      "cell_type": "code",
      "execution_count": null,
      "id": "44494c6a-7c9a-4634-9aad-9236567dea33",
      "metadata": {
        "id": "44494c6a-7c9a-4634-9aad-9236567dea33",
        "outputId": "32d5577a-7de2-4f5c-e61a-170e08cba1f0"
      },
      "outputs": [
        {
          "name": "stdout",
          "output_type": "stream",
          "text": [
            "Anelka is the best\n",
            "Anelka is awesome\n"
          ]
        }
      ],
      "source": [
        "x = \"awesome\"\n",
        "\n",
        "def myfunc():\n",
        "  x = \"the best\"\n",
        "  print(\"Anelka is \" + x)\n",
        "\n",
        "myfunc()\n",
        "\n",
        "print(\"Anelka is \" + x)"
      ]
    },
    {
      "cell_type": "markdown",
      "id": "a71edf83-d713-4d0c-a93b-6cd04df368d3",
      "metadata": {
        "id": "a71edf83-d713-4d0c-a93b-6cd04df368d3"
      },
      "source": [
        "### The global Keyword"
      ]
    },
    {
      "cell_type": "markdown",
      "id": "32c8b2bb-e648-437c-84d5-136a5266d8d5",
      "metadata": {
        "id": "32c8b2bb-e648-437c-84d5-136a5266d8d5"
      },
      "source": [
        "Normally, when you create a variable inside a function, that variable is local, and can only be used inside that function.\n",
        "To create a global variable inside a function, you can use the `global` keyword. (global scope)"
      ]
    },
    {
      "cell_type": "code",
      "execution_count": null,
      "id": "0808d1c1-8459-4dd6-8b33-05b3a5d4841d",
      "metadata": {
        "id": "0808d1c1-8459-4dd6-8b33-05b3a5d4841d",
        "outputId": "2432da29-b41a-4f69-de04-18d26aca083b"
      },
      "outputs": [
        {
          "name": "stdout",
          "output_type": "stream",
          "text": [
            "Anelka is the best\n"
          ]
        }
      ],
      "source": [
        "def myfunc():\n",
        "  global x\n",
        "  x = \"the best\"\n",
        "\n",
        "myfunc()\n",
        "\n",
        "print(\"Anelka is \" + x)"
      ]
    },
    {
      "cell_type": "markdown",
      "id": "55b9a953-7310-4fab-bf42-5638e5cab326",
      "metadata": {
        "id": "55b9a953-7310-4fab-bf42-5638e5cab326"
      },
      "source": [
        "To change the value of a global variable inside a function, refer to the variable by using the `global` keyword:"
      ]
    },
    {
      "cell_type": "code",
      "execution_count": null,
      "id": "3b662a74-4488-48bd-8ae9-0e6b0a848c49",
      "metadata": {
        "id": "3b662a74-4488-48bd-8ae9-0e6b0a848c49",
        "outputId": "6b58a7a1-b8a8-45e3-ffbf-c19bf45fb14e"
      },
      "outputs": [
        {
          "name": "stdout",
          "output_type": "stream",
          "text": [
            "Anelka is the best\n"
          ]
        }
      ],
      "source": [
        "x = \"awesome\"\n",
        "\n",
        "def myfunc():\n",
        "  global x\n",
        "  x = \"the best\"\n",
        "\n",
        "myfunc()\n",
        "\n",
        "print(\"Anelka is \" + x)"
      ]
    }
  ],
  "metadata": {
    "kernelspec": {
      "display_name": "Python 3 (ipykernel)",
      "language": "python",
      "name": "python3"
    },
    "language_info": {
      "codemirror_mode": {
        "name": "ipython",
        "version": 3
      },
      "file_extension": ".py",
      "mimetype": "text/x-python",
      "name": "python",
      "nbconvert_exporter": "python",
      "pygments_lexer": "ipython3",
      "version": "3.11.5"
    },
    "colab": {
      "provenance": [],
      "include_colab_link": true
    }
  },
  "nbformat": 4,
  "nbformat_minor": 5
}