{
  "cells": [
    {
      "cell_type": "markdown",
      "metadata": {
        "id": "view-in-github",
        "colab_type": "text"
      },
      "source": [
        "<a href=\"https://colab.research.google.com/github/AnelKweyu/Python-Guide/blob/master/_1_Python_Comments.ipynb\" target=\"_parent\"><img src=\"https://colab.research.google.com/assets/colab-badge.svg\" alt=\"Open In Colab\"/></a>"
      ]
    },
    {
      "cell_type": "markdown",
      "id": "b76d7c02-7627-48f4-8e32-a2791c7ef49b",
      "metadata": {
        "jp-MarkdownHeadingCollapsed": true,
        "id": "b76d7c02-7627-48f4-8e32-a2791c7ef49b"
      },
      "source": [
        "# Python Single Line Comments"
      ]
    },
    {
      "cell_type": "markdown",
      "id": "d944b855-7c9d-4eaf-9101-faa78a24fb09",
      "metadata": {
        "id": "d944b855-7c9d-4eaf-9101-faa78a24fb09"
      },
      "source": [
        "Comments starts with a `#`, and Python will ignore them:"
      ]
    },
    {
      "cell_type": "code",
      "execution_count": null,
      "id": "a11fb9e9-9745-4113-82ff-1aeca80a395e",
      "metadata": {
        "id": "a11fb9e9-9745-4113-82ff-1aeca80a395e",
        "outputId": "c2dec693-37eb-48bf-a0df-7341c8e64297"
      },
      "outputs": [
        {
          "name": "stdout",
          "output_type": "stream",
          "text": [
            "Hello, World!\n"
          ]
        }
      ],
      "source": [
        "#This is a comment\n",
        "print(\"Hello, World!\")"
      ]
    },
    {
      "cell_type": "markdown",
      "id": "ba1296bb-ebe2-4024-93a9-1358809547ca",
      "metadata": {
        "id": "ba1296bb-ebe2-4024-93a9-1358809547ca"
      },
      "source": [
        "Comments can be placed at the end of a line, and Python will ignore the rest of the line:\n"
      ]
    },
    {
      "cell_type": "code",
      "execution_count": null,
      "id": "883a93e0-3f14-47a3-8415-2e931b67868d",
      "metadata": {
        "id": "883a93e0-3f14-47a3-8415-2e931b67868d",
        "outputId": "458443c3-cbbb-4711-864e-d4824edeb0cb"
      },
      "outputs": [
        {
          "name": "stdout",
          "output_type": "stream",
          "text": [
            "Hello, World!\n"
          ]
        }
      ],
      "source": [
        "print(\"Hello, World!\") #This is a comment"
      ]
    },
    {
      "cell_type": "markdown",
      "id": "d8ef384b-44b3-4de5-8e92-cb77ec7611ce",
      "metadata": {
        "id": "d8ef384b-44b3-4de5-8e92-cb77ec7611ce"
      },
      "source": [
        "A comment does not have to be text that explains the code, it can also be used to prevent Python from executing code:\n"
      ]
    },
    {
      "cell_type": "code",
      "execution_count": null,
      "id": "17b7b8af-fdbd-4792-bca5-4f0d3b37aa74",
      "metadata": {
        "id": "17b7b8af-fdbd-4792-bca5-4f0d3b37aa74",
        "outputId": "df000162-fdc7-4753-8c89-cb11597fa8e2"
      },
      "outputs": [
        {
          "name": "stdout",
          "output_type": "stream",
          "text": [
            "Cheers, Mate!\n"
          ]
        }
      ],
      "source": [
        "#print(\"Hello, World!\")\n",
        "print(\"Cheers, Mate!\")"
      ]
    },
    {
      "cell_type": "markdown",
      "id": "ed0310cf-912d-442b-acef-5b909f345355",
      "metadata": {
        "jp-MarkdownHeadingCollapsed": true,
        "id": "ed0310cf-912d-442b-acef-5b909f345355"
      },
      "source": [
        "# Multiline Comments\n",
        "Python does not really have a syntax for multiline comments\n",
        "\n",
        "To add a multiline comment you could insert `#` for each line:"
      ]
    },
    {
      "cell_type": "code",
      "execution_count": null,
      "id": "8c21eb9f-1e14-492a-8080-b36753d34a49",
      "metadata": {
        "id": "8c21eb9f-1e14-492a-8080-b36753d34a49",
        "outputId": "1ff583d4-ab71-4f29-e526-e5c869e9f49d"
      },
      "outputs": [
        {
          "name": "stdout",
          "output_type": "stream",
          "text": [
            "Hello, World!\n"
          ]
        }
      ],
      "source": [
        "#This is a comment\n",
        "#written in\n",
        "#more than just one line\n",
        "print(\"Hello, World!\")"
      ]
    },
    {
      "cell_type": "markdown",
      "id": "788b4f5f-f0e9-411a-a169-9b1f3c36b6e8",
      "metadata": {
        "id": "788b4f5f-f0e9-411a-a169-9b1f3c36b6e8"
      },
      "source": [
        "Or, not quite as intended, you can use a multiline string.\n",
        "Since Python will ignore string literals that are not assigned to a variable, you can add a multiline string (triple quotes) in your code, and place your comment inside it:"
      ]
    },
    {
      "cell_type": "code",
      "execution_count": null,
      "id": "f5bba21c-5da5-42bf-a83c-2c9390316b2a",
      "metadata": {
        "id": "f5bba21c-5da5-42bf-a83c-2c9390316b2a",
        "outputId": "7da44073-94be-4b2e-a5c1-ab9c084a13bc"
      },
      "outputs": [
        {
          "name": "stdout",
          "output_type": "stream",
          "text": [
            "Hello, World!\n"
          ]
        }
      ],
      "source": [
        "\"\"\"\n",
        "This is a comment\n",
        "written in\n",
        "more than just one line\n",
        "\"\"\"\n",
        "print(\"Hello, World!\")"
      ]
    },
    {
      "cell_type": "markdown",
      "id": "71b64bae-07b9-47d1-aad2-4f5faa8edd8d",
      "metadata": {
        "id": "71b64bae-07b9-47d1-aad2-4f5faa8edd8d"
      },
      "source": [
        "As long as the string is not assigned to a variable, Python will read the code, but then ignore it, and you have made a multiline comment."
      ]
    }
  ],
  "metadata": {
    "kernelspec": {
      "display_name": "Python 3 (ipykernel)",
      "language": "python",
      "name": "python3"
    },
    "language_info": {
      "codemirror_mode": {
        "name": "ipython",
        "version": 3
      },
      "file_extension": ".py",
      "mimetype": "text/x-python",
      "name": "python",
      "nbconvert_exporter": "python",
      "pygments_lexer": "ipython3",
      "version": "3.11.5"
    },
    "colab": {
      "provenance": [],
      "include_colab_link": true
    }
  },
  "nbformat": 4,
  "nbformat_minor": 5
}