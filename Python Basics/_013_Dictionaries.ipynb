{
  "nbformat": 4,
  "nbformat_minor": 0,
  "metadata": {
    "colab": {
      "provenance": [],
      "authorship_tag": "ABX9TyOAGQVPT1OsHnsQbOwrlw6+",
      "include_colab_link": true
    },
    "kernelspec": {
      "name": "python3",
      "display_name": "Python 3"
    },
    "language_info": {
      "name": "python"
    }
  },
  "cells": [
    {
      "cell_type": "markdown",
      "metadata": {
        "id": "view-in-github",
        "colab_type": "text"
      },
      "source": [
        "<a href=\"https://colab.research.google.com/github/AnelKweyu/Python-Guide/blob/master/_13_Dictionaries.ipynb\" target=\"_parent\"><img src=\"https://colab.research.google.com/assets/colab-badge.svg\" alt=\"Open In Colab\"/></a>"
      ]
    },
    {
      "cell_type": "markdown",
      "source": [
        "Dictionaries are used to store data values in key:value pairs.\n",
        "\n",
        "A dictionary is a collection which is ordered*, changeable and do not allow duplicates."
      ],
      "metadata": {
        "id": "McQTTZyXdFgM"
      }
    },
    {
      "cell_type": "markdown",
      "source": [
        "As of Python version 3.7, dictionaries are ordered. In Python 3.6 and earlier, dictionaries are unordered.\n",
        "\n"
      ],
      "metadata": {
        "id": "pyhk2TMldIeK"
      }
    },
    {
      "cell_type": "markdown",
      "source": [
        "Dictionaries are written with curly brackets, and have keys and values:"
      ],
      "metadata": {
        "id": "yLqhspicdQET"
      }
    },
    {
      "cell_type": "code",
      "execution_count": 1,
      "metadata": {
        "colab": {
          "base_uri": "https://localhost:8080/"
        },
        "id": "gM9xIMorF9jH",
        "outputId": "dad9c5e0-7c6b-4a9a-9663-a800e5702d8a"
      },
      "outputs": [
        {
          "output_type": "stream",
          "name": "stdout",
          "text": [
            "{'brand': 'Ford', 'model': 'Mustang', 'year': 1964}\n"
          ]
        }
      ],
      "source": [
        "thisdict = {\n",
        "  \"brand\": \"Ford\",\n",
        "  \"model\": \"Mustang\",\n",
        "  \"year\": 1964\n",
        "}\n",
        "print(thisdict)"
      ]
    },
    {
      "cell_type": "markdown",
      "source": [
        "### Dictionary Items\n",
        "Dictionary items are ordered, changeable, and does not allow duplicates.\n",
        "\n",
        "Dictionary items are presented in key:value pairs, and can be referred to by using the key name."
      ],
      "metadata": {
        "id": "VoBEkybUdU0P"
      }
    },
    {
      "cell_type": "code",
      "source": [
        "thisdict = {\n",
        "  \"brand\": \"Ford\",\n",
        "  \"model\": \"Mustang\",\n",
        "  \"year\": 1964\n",
        "}\n",
        "print(thisdict[\"brand\"])"
      ],
      "metadata": {
        "colab": {
          "base_uri": "https://localhost:8080/"
        },
        "id": "KmQkTDoseXM1",
        "outputId": "d9d22180-de63-4963-ca62-76dc95e31c8e"
      },
      "execution_count": 2,
      "outputs": [
        {
          "output_type": "stream",
          "name": "stdout",
          "text": [
            "Ford\n"
          ]
        }
      ]
    },
    {
      "cell_type": "markdown",
      "source": [
        "### Ordered or Unordered?\n",
        "When we say that dictionaries are ordered, it means that the items have a defined order, and that order will not change.\n",
        "\n",
        "Unordered means that the items does not have a defined order, you cannot refer to an item by using an index."
      ],
      "metadata": {
        "id": "CJHcvp8fejVA"
      }
    },
    {
      "cell_type": "markdown",
      "source": [
        "### Changeable\n",
        "Dictionaries are changeable, meaning that we can change, add or remove items after the dictionary has been created.\n",
        "\n"
      ],
      "metadata": {
        "id": "TbJnKwXgesZj"
      }
    },
    {
      "cell_type": "markdown",
      "source": [
        "### Duplicates Not Allowed\n",
        "Dictionaries cannot have two items with the same key:"
      ],
      "metadata": {
        "id": "OToWZJ4de7_T"
      }
    },
    {
      "cell_type": "code",
      "source": [
        "thisdict = {\n",
        "  \"brand\": \"Ford\",\n",
        "  \"model\": \"Mustang\",\n",
        "  \"year\": 1964,\n",
        "  \"year\": 2020\n",
        "}\n",
        "print(thisdict)"
      ],
      "metadata": {
        "colab": {
          "base_uri": "https://localhost:8080/"
        },
        "id": "ntXy9lhee-fw",
        "outputId": "9072abf0-1114-493d-bbec-fa7205b9a4b8"
      },
      "execution_count": 3,
      "outputs": [
        {
          "output_type": "stream",
          "name": "stdout",
          "text": [
            "{'brand': 'Ford', 'model': 'Mustang', 'year': 2020}\n"
          ]
        }
      ]
    },
    {
      "cell_type": "markdown",
      "source": [
        "### Dictionary Length\n",
        "To determine how many items a dictionary has, use the `len()` function:"
      ],
      "metadata": {
        "id": "QyaMpr36gtWj"
      }
    },
    {
      "cell_type": "code",
      "source": [
        "print(len(thisdict))"
      ],
      "metadata": {
        "colab": {
          "base_uri": "https://localhost:8080/"
        },
        "id": "aFBr62OYg6Tm",
        "outputId": "344768b9-a878-4526-b93d-19765766888a"
      },
      "execution_count": 4,
      "outputs": [
        {
          "output_type": "stream",
          "name": "stdout",
          "text": [
            "3\n"
          ]
        }
      ]
    },
    {
      "cell_type": "markdown",
      "source": [
        "### Dictionary Items - Data Types\n",
        "The values in dictionary items can be of any data type:"
      ],
      "metadata": {
        "id": "mtEmG5kMjWuF"
      }
    },
    {
      "cell_type": "code",
      "source": [
        "thisdict = {\n",
        "  \"brand\": \"Ford\",\n",
        "  \"electric\": False,\n",
        "  \"year\": 1964,\n",
        "  \"colors\": [\"red\", \"white\", \"blue\"]\n",
        "}"
      ],
      "metadata": {
        "id": "ekhxZIiBjYQW"
      },
      "execution_count": 5,
      "outputs": []
    },
    {
      "cell_type": "markdown",
      "source": [
        "### type()\n",
        "From Python's perspective, dictionaries are defined as objects with the data type 'dict':\n",
        "\n",
        "\n",
        "```\n",
        "<class 'dict'>\n",
        "```\n",
        "\n"
      ],
      "metadata": {
        "id": "JyCrAwENjfz8"
      }
    },
    {
      "cell_type": "code",
      "source": [
        "thisdict = {\n",
        "  \"brand\": \"Ford\",\n",
        "  \"model\": \"Mustang\",\n",
        "  \"year\": 1964\n",
        "}\n",
        "print(type(thisdict))"
      ],
      "metadata": {
        "colab": {
          "base_uri": "https://localhost:8080/"
        },
        "id": "4Tg-_PX-jjZi",
        "outputId": "26028fb5-c718-4954-c401-f45a9a1501f4"
      },
      "execution_count": 6,
      "outputs": [
        {
          "output_type": "stream",
          "name": "stdout",
          "text": [
            "<class 'dict'>\n"
          ]
        }
      ]
    },
    {
      "cell_type": "markdown",
      "source": [
        "### The dict() Constructor\n",
        "It is also possible to use the dict() constructor to make a dictionary."
      ],
      "metadata": {
        "id": "2ppPVW5Ijuda"
      }
    },
    {
      "cell_type": "code",
      "source": [
        "thisdict = dict(name = \"John\", age = 36, country = \"Norway\")\n",
        "print(thisdict)"
      ],
      "metadata": {
        "colab": {
          "base_uri": "https://localhost:8080/"
        },
        "id": "-vh9n_UDjwhP",
        "outputId": "3350f486-642f-4238-95e0-54fb5e2f8f40"
      },
      "execution_count": 7,
      "outputs": [
        {
          "output_type": "stream",
          "name": "stdout",
          "text": [
            "{'name': 'John', 'age': 36, 'country': 'Norway'}\n"
          ]
        }
      ]
    },
    {
      "cell_type": "markdown",
      "source": [
        "## Access Dictionary Items\n",
        "You can access the items of a dictionary by referring to its key name, inside square brackets:"
      ],
      "metadata": {
        "id": "sN1BO0v13C4M"
      }
    },
    {
      "cell_type": "code",
      "source": [
        "thisdict = {\n",
        "  \"brand\": \"Ford\",\n",
        "  \"model\": \"Mustang\",\n",
        "  \"year\": 1964\n",
        "}\n",
        "x = thisdict[\"model\"]"
      ],
      "metadata": {
        "id": "qWc0GSUD3KAe"
      },
      "execution_count": 8,
      "outputs": []
    },
    {
      "cell_type": "markdown",
      "source": [
        "There is also a method called `get()` that will give you the same result:"
      ],
      "metadata": {
        "id": "Cnm5M4Q03NYi"
      }
    },
    {
      "cell_type": "code",
      "source": [
        "x = thisdict.get(\"model\")"
      ],
      "metadata": {
        "id": "z9iCtNgF3NAl"
      },
      "execution_count": 9,
      "outputs": []
    },
    {
      "cell_type": "markdown",
      "source": [
        "### Get Keys\n",
        "The `keys()` method will return a list of all the keys in the dictionary."
      ],
      "metadata": {
        "id": "YvneSrGD3rVr"
      }
    },
    {
      "cell_type": "code",
      "source": [
        "x = thisdict.keys()"
      ],
      "metadata": {
        "id": "9dw2H9BB3uFs"
      },
      "execution_count": 10,
      "outputs": []
    },
    {
      "cell_type": "markdown",
      "source": [
        "The list of the keys is a view of the dictionary, meaning that any changes done to the dictionary will be reflected in the keys list.\n",
        "\n"
      ],
      "metadata": {
        "id": "IjdxS5_g3zfa"
      }
    },
    {
      "cell_type": "code",
      "source": [
        "car = {\n",
        "\"brand\": \"Ford\",\n",
        "\"model\": \"Mustang\",\n",
        "\"year\": 1964\n",
        "}\n",
        "\n",
        "x = car.keys()\n",
        "\n",
        "print(x) #before the change\n",
        "\n",
        "car[\"color\"] = \"white\"\n",
        "\n",
        "print(x) #after the change"
      ],
      "metadata": {
        "colab": {
          "base_uri": "https://localhost:8080/"
        },
        "id": "U649H0MS33_E",
        "outputId": "7f2b74d4-b839-460d-b76c-d8e0e06692e7"
      },
      "execution_count": 11,
      "outputs": [
        {
          "output_type": "stream",
          "name": "stdout",
          "text": [
            "dict_keys(['brand', 'model', 'year'])\n",
            "dict_keys(['brand', 'model', 'year', 'color'])\n"
          ]
        }
      ]
    },
    {
      "cell_type": "markdown",
      "source": [
        "### Get Values\n",
        "The `values()` method will return a list of all the values in the dictionary."
      ],
      "metadata": {
        "id": "9elTx8cJ4BM5"
      }
    },
    {
      "cell_type": "code",
      "source": [
        "x = thisdict.values()"
      ],
      "metadata": {
        "id": "qVIInxYQ37hX"
      },
      "execution_count": 12,
      "outputs": []
    },
    {
      "cell_type": "markdown",
      "source": [
        "The list of the values is a view of the dictionary, meaning that any changes done to the dictionary will be reflected in the values list."
      ],
      "metadata": {
        "id": "deO7MN__4IGK"
      }
    },
    {
      "cell_type": "code",
      "source": [
        "car = {\n",
        "\"brand\": \"Ford\",\n",
        "\"model\": \"Mustang\",\n",
        "\"year\": 1964\n",
        "}\n",
        "\n",
        "x = car.values()\n",
        "\n",
        "print(x) #before the change\n",
        "\n",
        "car[\"year\"] = 2020\n",
        "\n",
        "print(x) #after the change"
      ],
      "metadata": {
        "colab": {
          "base_uri": "https://localhost:8080/"
        },
        "id": "BEMbcrcS4NaY",
        "outputId": "3888c153-2c34-4f01-c028-5c5890f0c00b"
      },
      "execution_count": 13,
      "outputs": [
        {
          "output_type": "stream",
          "name": "stdout",
          "text": [
            "dict_values(['Ford', 'Mustang', 1964])\n",
            "dict_values(['Ford', 'Mustang', 2020])\n"
          ]
        }
      ]
    },
    {
      "cell_type": "code",
      "source": [
        "car = {\n",
        "\"brand\": \"Ford\",\n",
        "\"model\": \"Mustang\",\n",
        "\"year\": 1964\n",
        "}\n",
        "\n",
        "x = car.values()\n",
        "\n",
        "print(x) #before the change\n",
        "\n",
        "car[\"color\"] = \"red\"\n",
        "\n",
        "print(x) #after the change"
      ],
      "metadata": {
        "colab": {
          "base_uri": "https://localhost:8080/"
        },
        "id": "dDPJFHqQ4Wq3",
        "outputId": "782f53f7-d812-4951-f234-3a6c32ac47a3"
      },
      "execution_count": 14,
      "outputs": [
        {
          "output_type": "stream",
          "name": "stdout",
          "text": [
            "dict_values(['Ford', 'Mustang', 1964])\n",
            "dict_values(['Ford', 'Mustang', 1964, 'red'])\n"
          ]
        }
      ]
    },
    {
      "cell_type": "markdown",
      "source": [
        "### Get Items\n",
        "The `items()` method will return each item in a dictionary, as tuples in a list."
      ],
      "metadata": {
        "id": "f4xOEwXE4pbR"
      }
    },
    {
      "cell_type": "code",
      "source": [
        "x = thisdict.items()"
      ],
      "metadata": {
        "id": "QD5YLSp44uVe"
      },
      "execution_count": 15,
      "outputs": []
    },
    {
      "cell_type": "markdown",
      "source": [
        "The returned list is a view of the items of the dictionary, meaning that any changes done to the dictionary will be reflected in the items list."
      ],
      "metadata": {
        "id": "K0KbE3Js42Tv"
      }
    },
    {
      "cell_type": "code",
      "source": [
        "car = {\n",
        "\"brand\": \"Ford\",\n",
        "\"model\": \"Mustang\",\n",
        "\"year\": 1964\n",
        "}\n",
        "\n",
        "x = car.items()\n",
        "\n",
        "print(x) #before the change\n",
        "\n",
        "car[\"year\"] = 2020\n",
        "\n",
        "print(x) #after the change"
      ],
      "metadata": {
        "colab": {
          "base_uri": "https://localhost:8080/"
        },
        "id": "tSgkz8S147Me",
        "outputId": "7f6a27a8-dfe1-4977-85b7-cae5f9e2ed85"
      },
      "execution_count": 16,
      "outputs": [
        {
          "output_type": "stream",
          "name": "stdout",
          "text": [
            "dict_items([('brand', 'Ford'), ('model', 'Mustang'), ('year', 1964)])\n",
            "dict_items([('brand', 'Ford'), ('model', 'Mustang'), ('year', 2020)])\n"
          ]
        }
      ]
    },
    {
      "cell_type": "code",
      "source": [
        "car = {\n",
        "\"brand\": \"Ford\",\n",
        "\"model\": \"Mustang\",\n",
        "\"year\": 1964\n",
        "}\n",
        "\n",
        "x = car.items()\n",
        "\n",
        "print(x) #before the change\n",
        "\n",
        "car[\"color\"] = \"red\"\n",
        "\n",
        "print(x) #after the change"
      ],
      "metadata": {
        "colab": {
          "base_uri": "https://localhost:8080/"
        },
        "id": "TZojYVoU48e_",
        "outputId": "c4f2019f-d390-4523-e9f4-e89ece76eb2b"
      },
      "execution_count": 17,
      "outputs": [
        {
          "output_type": "stream",
          "name": "stdout",
          "text": [
            "dict_items([('brand', 'Ford'), ('model', 'Mustang'), ('year', 1964)])\n",
            "dict_items([('brand', 'Ford'), ('model', 'Mustang'), ('year', 1964), ('color', 'red')])\n"
          ]
        }
      ]
    },
    {
      "cell_type": "markdown",
      "source": [
        "### Check if Key Exists\n",
        "To determine if a specified key is present in a dictionary use the in keyword:"
      ],
      "metadata": {
        "id": "48DTAcj15CtC"
      }
    },
    {
      "cell_type": "code",
      "source": [
        "thisdict = {\n",
        "  \"brand\": \"Ford\",\n",
        "  \"model\": \"Mustang\",\n",
        "  \"year\": 1964\n",
        "}\n",
        "if \"model\" in thisdict:\n",
        "  print(\"Yes, 'model' is one of the keys in the thisdict dictionary\")"
      ],
      "metadata": {
        "colab": {
          "base_uri": "https://localhost:8080/"
        },
        "id": "Odozne2w5Ety",
        "outputId": "141af04b-89f1-4b98-bdeb-56c8ca5f2518"
      },
      "execution_count": 18,
      "outputs": [
        {
          "output_type": "stream",
          "name": "stdout",
          "text": [
            "Yes, 'model' is one of the keys in the thisdict dictionary\n"
          ]
        }
      ]
    },
    {
      "cell_type": "markdown",
      "source": [
        "## Change Dictionary Items"
      ],
      "metadata": {
        "id": "wBi37EpV5Znx"
      }
    },
    {
      "cell_type": "markdown",
      "source": [
        "### Change Values\n",
        "You can change the value of a specific item by referring to its key name:"
      ],
      "metadata": {
        "id": "wUUxTCv_5fdb"
      }
    },
    {
      "cell_type": "code",
      "source": [
        "thisdict = {\n",
        "  \"brand\": \"Ford\",\n",
        "  \"model\": \"Mustang\",\n",
        "  \"year\": 1964\n",
        "}\n",
        "thisdict[\"year\"] = 2018"
      ],
      "metadata": {
        "id": "kTtIA7hg5qJk"
      },
      "execution_count": 19,
      "outputs": []
    },
    {
      "cell_type": "markdown",
      "source": [
        "### Update Dictionary\n",
        "The `update()` method will update the dictionary with the items from the given argument.\n",
        "\n",
        "The argument must be a dictionary, or an iterable object with key:value pairs."
      ],
      "metadata": {
        "id": "5lWM0Fl85zjh"
      }
    },
    {
      "cell_type": "code",
      "source": [
        "thisdict = {\n",
        "  \"brand\": \"Ford\",\n",
        "  \"model\": \"Mustang\",\n",
        "  \"year\": 1964\n",
        "}"
      ],
      "metadata": {
        "id": "l0kSCkWZ52vr"
      },
      "execution_count": 20,
      "outputs": []
    },
    {
      "cell_type": "markdown",
      "source": [
        "## Add Dictionary Items"
      ],
      "metadata": {
        "id": "SBwEBdV2zkgR"
      }
    },
    {
      "cell_type": "markdown",
      "source": [
        "### Adding Items\n",
        "Adding an item to the dictionary is done by using a new index key and assigning a value to it:"
      ],
      "metadata": {
        "id": "3LpnFv_Hzl2j"
      }
    },
    {
      "cell_type": "code",
      "source": [
        "thisdict = {\n",
        "  \"brand\": \"Ford\",\n",
        "  \"model\": \"Mustang\",\n",
        "  \"year\": 1964\n",
        "}\n",
        "thisdict[\"color\"] = \"red\"\n",
        "print(thisdict)"
      ],
      "metadata": {
        "colab": {
          "base_uri": "https://localhost:8080/"
        },
        "id": "wiSRzRP5zpoo",
        "outputId": "94061e45-2645-460a-f0df-35de068e40db"
      },
      "execution_count": 21,
      "outputs": [
        {
          "output_type": "stream",
          "name": "stdout",
          "text": [
            "{'brand': 'Ford', 'model': 'Mustang', 'year': 1964, 'color': 'red'}\n"
          ]
        }
      ]
    },
    {
      "cell_type": "markdown",
      "source": [
        "### Update Dictionary\n",
        "The `update()` method will update the dictionary with the items from a given argument. If the item does not exist, the item will be added.\n",
        "\n",
        "The argument must be a dictionary, or an iterable object with key:value pairs."
      ],
      "metadata": {
        "id": "oaXJHQ_PzvZf"
      }
    },
    {
      "cell_type": "code",
      "source": [
        "thisdict = {\n",
        "  \"brand\": \"Ford\",\n",
        "  \"model\": \"Mustang\",\n",
        "  \"year\": 1964\n",
        "}\n",
        "thisdict.update({\"color\": \"red\"})"
      ],
      "metadata": {
        "id": "Il36uCepzyik"
      },
      "execution_count": 22,
      "outputs": []
    },
    {
      "cell_type": "markdown",
      "source": [
        "## Remove Dictionary Items\n"
      ],
      "metadata": {
        "id": "Foq7CxGQz-Kx"
      }
    },
    {
      "cell_type": "markdown",
      "source": [
        "### Removing Items\n",
        "There are several methods to remove items from a dictionary:"
      ],
      "metadata": {
        "id": "ZBebIihm0A7W"
      }
    },
    {
      "cell_type": "markdown",
      "source": [
        "The `pop()` method removes the item with the specified key name:"
      ],
      "metadata": {
        "id": "vIswlwTp0FJ2"
      }
    },
    {
      "cell_type": "code",
      "source": [
        "thisdict = {\n",
        "  \"brand\": \"Ford\",\n",
        "  \"model\": \"Mustang\",\n",
        "  \"year\": 1964\n",
        "}\n",
        "thisdict.pop(\"model\")\n",
        "print(thisdict)"
      ],
      "metadata": {
        "colab": {
          "base_uri": "https://localhost:8080/"
        },
        "id": "BliqEpV00KZu",
        "outputId": "1058d767-bbd9-4967-b49a-f98a36d4031f"
      },
      "execution_count": 23,
      "outputs": [
        {
          "output_type": "stream",
          "name": "stdout",
          "text": [
            "{'brand': 'Ford', 'year': 1964}\n"
          ]
        }
      ]
    },
    {
      "cell_type": "markdown",
      "source": [
        "The `popitem()` method removes the last inserted item (in versions before 3.7, a random item is removed instead):"
      ],
      "metadata": {
        "id": "-EPMmWCJ0KsT"
      }
    },
    {
      "cell_type": "code",
      "source": [
        "thisdict = {\n",
        "  \"brand\": \"Ford\",\n",
        "  \"model\": \"Mustang\",\n",
        "  \"year\": 1964\n",
        "}\n",
        "thisdict.popitem()\n",
        "print(thisdict)"
      ],
      "metadata": {
        "colab": {
          "base_uri": "https://localhost:8080/"
        },
        "id": "h0QkUhSY0Tju",
        "outputId": "b9b9b970-611b-4819-d467-256b0bfc46eb"
      },
      "execution_count": 24,
      "outputs": [
        {
          "output_type": "stream",
          "name": "stdout",
          "text": [
            "{'brand': 'Ford', 'model': 'Mustang'}\n"
          ]
        }
      ]
    },
    {
      "cell_type": "markdown",
      "source": [
        "The `del` keyword removes the item with the specified key name:"
      ],
      "metadata": {
        "id": "Wqv4WubS0UBq"
      }
    },
    {
      "cell_type": "code",
      "source": [
        "thisdict = {\n",
        "  \"brand\": \"Ford\",\n",
        "  \"model\": \"Mustang\",\n",
        "  \"year\": 1964\n",
        "}\n",
        "del thisdict[\"model\"]\n",
        "print(thisdict)"
      ],
      "metadata": {
        "colab": {
          "base_uri": "https://localhost:8080/"
        },
        "id": "Sd3IqLiS0eL8",
        "outputId": "17b8cd0b-9a27-4243-e6e2-4f0828f2c9f2"
      },
      "execution_count": 25,
      "outputs": [
        {
          "output_type": "stream",
          "name": "stdout",
          "text": [
            "{'brand': 'Ford', 'year': 1964}\n"
          ]
        }
      ]
    },
    {
      "cell_type": "markdown",
      "source": [
        "The `del` keyword can also delete the dictionary completely:"
      ],
      "metadata": {
        "id": "GVs8X6x80elc"
      }
    },
    {
      "cell_type": "code",
      "source": [
        "thisdict = {\n",
        "  \"brand\": \"Ford\",\n",
        "  \"model\": \"Mustang\",\n",
        "  \"year\": 1964\n",
        "}\n",
        "del thisdict\n",
        "print(thisdict) #this will cause an error because \"thisdict\" no longer exists."
      ],
      "metadata": {
        "colab": {
          "base_uri": "https://localhost:8080/",
          "height": 217
        },
        "id": "02AGMtlu0luF",
        "outputId": "520133eb-bb7e-41cf-9100-60bb23f987c4"
      },
      "execution_count": 27,
      "outputs": [
        {
          "output_type": "error",
          "ename": "NameError",
          "evalue": "ignored",
          "traceback": [
            "\u001b[0;31m---------------------------------------------------------------------------\u001b[0m",
            "\u001b[0;31mNameError\u001b[0m                                 Traceback (most recent call last)",
            "\u001b[0;32m<ipython-input-27-cf8f189c2310>\u001b[0m in \u001b[0;36m<cell line: 7>\u001b[0;34m()\u001b[0m\n\u001b[1;32m      5\u001b[0m }\n\u001b[1;32m      6\u001b[0m \u001b[0;32mdel\u001b[0m \u001b[0mthisdict\u001b[0m\u001b[0;34m\u001b[0m\u001b[0;34m\u001b[0m\u001b[0m\n\u001b[0;32m----> 7\u001b[0;31m \u001b[0mprint\u001b[0m\u001b[0;34m(\u001b[0m\u001b[0mthisdict\u001b[0m\u001b[0;34m)\u001b[0m \u001b[0;31m#this will cause an error because \"thisdict\" no longer exists.\u001b[0m\u001b[0;34m\u001b[0m\u001b[0;34m\u001b[0m\u001b[0m\n\u001b[0m",
            "\u001b[0;31mNameError\u001b[0m: name 'thisdict' is not defined"
          ]
        }
      ]
    },
    {
      "cell_type": "markdown",
      "source": [
        "The `clear()` method empties the dictionary:"
      ],
      "metadata": {
        "id": "-cfers9m0mGV"
      }
    },
    {
      "cell_type": "code",
      "source": [
        "thisdict = {\n",
        "  \"brand\": \"Ford\",\n",
        "  \"model\": \"Mustang\",\n",
        "  \"year\": 1964\n",
        "}\n",
        "thisdict.clear()\n",
        "print(thisdict)"
      ],
      "metadata": {
        "colab": {
          "base_uri": "https://localhost:8080/"
        },
        "id": "3DCEhepp0o_P",
        "outputId": "36e8a478-1a67-4575-ac97-e4053d52f39d"
      },
      "execution_count": 28,
      "outputs": [
        {
          "output_type": "stream",
          "name": "stdout",
          "text": [
            "{}\n"
          ]
        }
      ]
    },
    {
      "cell_type": "markdown",
      "source": [
        "## Loop Dictionaries"
      ],
      "metadata": {
        "id": "WAyZslRX1MZK"
      }
    },
    {
      "cell_type": "markdown",
      "source": [
        "### Loop Through a Dictionary\n",
        "You can loop through a dictionary by using a `for` loop.\n",
        "\n",
        "When looping through a dictionary, the return value are the keys of the dictionary, but there are methods to return the values as well."
      ],
      "metadata": {
        "id": "jRbPGcyy1NtI"
      }
    },
    {
      "cell_type": "markdown",
      "source": [
        "Print all key names in the dictionary, one by one:"
      ],
      "metadata": {
        "id": "hvc6jkAO1iFM"
      }
    },
    {
      "cell_type": "code",
      "source": [
        "for x in thisdict:\n",
        "  print(x)"
      ],
      "metadata": {
        "id": "aNUvOgjC1VE5"
      },
      "execution_count": 29,
      "outputs": []
    },
    {
      "cell_type": "markdown",
      "source": [
        "Print all values in the dictionary, one by one:"
      ],
      "metadata": {
        "id": "L3WnRSUD1jAs"
      }
    },
    {
      "cell_type": "code",
      "source": [
        "for x in thisdict:\n",
        "  print(thisdict[x])"
      ],
      "metadata": {
        "id": "16aWRkRm1aX3"
      },
      "execution_count": 30,
      "outputs": []
    },
    {
      "cell_type": "markdown",
      "source": [
        "You can also use the `values()` method to return values of a dictionary:"
      ],
      "metadata": {
        "id": "CWgJ9W9D1WsF"
      }
    },
    {
      "cell_type": "code",
      "source": [
        "for x in thisdict.values():\n",
        "  print(x)"
      ],
      "metadata": {
        "id": "7z5QMNxM1v9w"
      },
      "execution_count": 31,
      "outputs": []
    },
    {
      "cell_type": "markdown",
      "source": [
        "You can use the `keys()` method to return the keys of a dictionary:"
      ],
      "metadata": {
        "id": "qwf9-YhH1zR0"
      }
    },
    {
      "cell_type": "code",
      "source": [
        "for x in thisdict.keys():\n",
        "  print(x)"
      ],
      "metadata": {
        "id": "O4GcIpnL14fG"
      },
      "execution_count": 32,
      "outputs": []
    },
    {
      "cell_type": "markdown",
      "source": [
        "Loop through both keys and values, by using the `items()` method:"
      ],
      "metadata": {
        "id": "m4pGkH4j17sc"
      }
    },
    {
      "cell_type": "code",
      "source": [
        "for x, y in thisdict.items():\n",
        "  print(x, y)"
      ],
      "metadata": {
        "id": "ic5UXZHT19iJ"
      },
      "execution_count": 33,
      "outputs": []
    },
    {
      "cell_type": "markdown",
      "source": [
        "## Copy Dictionaries\n"
      ],
      "metadata": {
        "id": "Dllnb3s22GFy"
      }
    },
    {
      "cell_type": "markdown",
      "source": [
        "### Copy a Dictionary\n",
        "You cannot copy a dictionary simply by typing `dict2 = dict1`, because: `dict2` will only be a reference to `dict1`, and changes made in `dict1` will automatically also be made in `dict2`.\n",
        "\n",
        "There are ways to make a copy, one way is to use the built-in Dictionary method `copy()`."
      ],
      "metadata": {
        "id": "M_JUObRX2IDO"
      }
    },
    {
      "cell_type": "code",
      "source": [
        "thisdict = {\n",
        "  \"brand\": \"Ford\",\n",
        "  \"model\": \"Mustang\",\n",
        "  \"year\": 1964\n",
        "}\n",
        "mydict = thisdict.copy()\n",
        "print(mydict)"
      ],
      "metadata": {
        "colab": {
          "base_uri": "https://localhost:8080/"
        },
        "id": "oBuR8ECE2T4j",
        "outputId": "e4eaf1df-027e-48bb-cb4d-5f3684a9a71c"
      },
      "execution_count": 34,
      "outputs": [
        {
          "output_type": "stream",
          "name": "stdout",
          "text": [
            "{'brand': 'Ford', 'model': 'Mustang', 'year': 1964}\n"
          ]
        }
      ]
    },
    {
      "cell_type": "markdown",
      "source": [
        "Another way to make a copy is to use the built-in function `dict()`."
      ],
      "metadata": {
        "id": "iAMYGV-U2YK-"
      }
    },
    {
      "cell_type": "code",
      "source": [
        "thisdict = {\n",
        "  \"brand\": \"Ford\",\n",
        "  \"model\": \"Mustang\",\n",
        "  \"year\": 1964\n",
        "}\n",
        "mydict = dict(thisdict)\n",
        "print(mydict)"
      ],
      "metadata": {
        "colab": {
          "base_uri": "https://localhost:8080/"
        },
        "id": "sg80sucJ2XzM",
        "outputId": "cb4d6d5e-2c5a-460c-fe76-13faf50294c9"
      },
      "execution_count": 35,
      "outputs": [
        {
          "output_type": "stream",
          "name": "stdout",
          "text": [
            "{'brand': 'Ford', 'model': 'Mustang', 'year': 1964}\n"
          ]
        }
      ]
    },
    {
      "cell_type": "markdown",
      "source": [
        "## Nested Dictionaries\n",
        "A dictionary can contain dictionaries, this is called nested dictionaries."
      ],
      "metadata": {
        "id": "aR9SgoyT2fYB"
      }
    },
    {
      "cell_type": "markdown",
      "source": [
        "Create a dictionary that contain three dictionaries"
      ],
      "metadata": {
        "id": "H24TE0V22td0"
      }
    },
    {
      "cell_type": "code",
      "source": [
        "myfamily = {\n",
        "  \"child1\" : {\n",
        "    \"name\" : \"Emil\",\n",
        "    \"year\" : 2004\n",
        "  },\n",
        "  \"child2\" : {\n",
        "    \"name\" : \"Tobias\",\n",
        "    \"year\" : 2007\n",
        "  },\n",
        "  \"child3\" : {\n",
        "    \"name\" : \"Linus\",\n",
        "    \"year\" : 2011\n",
        "  }\n",
        "}"
      ],
      "metadata": {
        "id": "EtwxTlKH2uFr"
      },
      "execution_count": 36,
      "outputs": []
    },
    {
      "cell_type": "markdown",
      "source": [
        "Or, if you want to add three dictionaries into a new dictionary:"
      ],
      "metadata": {
        "id": "KfIR_v9S2yeh"
      }
    },
    {
      "cell_type": "markdown",
      "source": [
        "Create three dictionaries, then create one dictionary that will contain the other three dictionaries:"
      ],
      "metadata": {
        "id": "wL7yGR0r28Jc"
      }
    },
    {
      "cell_type": "code",
      "source": [
        "child1 = {\n",
        "  \"name\" : \"Emil\",\n",
        "  \"year\" : 2004\n",
        "}\n",
        "child2 = {\n",
        "  \"name\" : \"Tobias\",\n",
        "  \"year\" : 2007\n",
        "}\n",
        "child3 = {\n",
        "  \"name\" : \"Linus\",\n",
        "  \"year\" : 2011\n",
        "}\n",
        "\n",
        "myfamily = {\n",
        "  \"child1\" : child1,\n",
        "  \"child2\" : child2,\n",
        "  \"child3\" : child3\n",
        "}"
      ],
      "metadata": {
        "id": "z7g44yvU2zlK"
      },
      "execution_count": 37,
      "outputs": []
    },
    {
      "cell_type": "markdown",
      "source": [
        "### Access Items in Nested Dictionaries\n",
        "To access items from a nested dictionary, you use the name of the dictionaries, starting with the outer dictionary:"
      ],
      "metadata": {
        "id": "mhNEQJn43Bin"
      }
    },
    {
      "cell_type": "code",
      "source": [
        "print(myfamily[\"child2\"][\"name\"])"
      ],
      "metadata": {
        "colab": {
          "base_uri": "https://localhost:8080/"
        },
        "id": "r4WG9PYH3GBO",
        "outputId": "21e5bba1-a29c-485a-afc3-c322519cfb0a"
      },
      "execution_count": 38,
      "outputs": [
        {
          "output_type": "stream",
          "name": "stdout",
          "text": [
            "Tobias\n"
          ]
        }
      ]
    },
    {
      "cell_type": "markdown",
      "source": [
        "## Dictionary Methods"
      ],
      "metadata": {
        "id": "74iQ2bMi3RLe"
      }
    },
    {
      "cell_type": "markdown",
      "source": [
        "| **Method**   | **Description**                                                                                             |\n",
        "|:------------:|:-----------------------------------------------------------------------------------------------------------:|\n",
        "| `clear()`      | Removes all the elements from the dictionary                                                                |\n",
        "| `copy()`       | Returns a copy of the dictionary                                                                            |\n",
        "| `fromkeys()`   | Returns a dictionary with the specified keys and value                                                      |\n",
        "| `get()`        | Returns the value of the specified key                                                                      |\n",
        "| `items()`      | Returns a list containing a tuple for each key value pair                                                   |\n",
        "|`keys()`       | Returns a list containing the dictionary's keys                                                             |\n",
        "| `pop()`        | Removes the element with the specified key                                                                  |\n",
        "| `popitem()`    | Removes the last inserted key-value pair                                                            \n",
        "| `setdefault()` | Returns the value of the specified key. If the key does not exist: insert the key, with the specified value |\n",
        "| `update()`     | Updates the dictionary with the specified key-value pairs                                                   |\n",
        "| `values()`     | Returns a list of all the values in the dictionary                                                          |\n"
      ],
      "metadata": {
        "id": "juw0S5x33T2L"
      }
    }
  ]
}