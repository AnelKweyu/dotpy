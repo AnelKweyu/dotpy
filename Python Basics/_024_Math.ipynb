{
  "nbformat": 4,
  "nbformat_minor": 0,
  "metadata": {
    "colab": {
      "provenance": [],
      "authorship_tag": "ABX9TyN+AYhebTB4HDLcOUPpmKUN",
      "include_colab_link": true
    },
    "kernelspec": {
      "name": "python3",
      "display_name": "Python 3"
    },
    "language_info": {
      "name": "python"
    }
  },
  "cells": [
    {
      "cell_type": "markdown",
      "metadata": {
        "id": "view-in-github",
        "colab_type": "text"
      },
      "source": [
        "<a href=\"https://colab.research.google.com/github/AnelKweyu/Python-Guide/blob/master/_24_Math.ipynb\" target=\"_parent\"><img src=\"https://colab.research.google.com/assets/colab-badge.svg\" alt=\"Open In Colab\"/></a>"
      ]
    },
    {
      "cell_type": "markdown",
      "source": [
        "# Python Math\n",
        "Python has a set of built-in math functions, including an extensive math module, that allows you to perform mathematical tasks on numbers."
      ],
      "metadata": {
        "id": "4J27v98M-hiH"
      }
    },
    {
      "cell_type": "markdown",
      "source": [
        "## Built-in Math Functions\n"
      ],
      "metadata": {
        "id": "Xtvj08_c-r5y"
      }
    },
    {
      "cell_type": "markdown",
      "source": [
        "The `min()`and `max()` functions can be used to find the lowest or highest value in an iterable:"
      ],
      "metadata": {
        "id": "okHBQUnL-10O"
      }
    },
    {
      "cell_type": "code",
      "source": [
        "x = min(5, 10, 25)\n",
        "y = max(5, 10, 25)\n",
        "\n",
        "print(x)\n",
        "print(y)"
      ],
      "metadata": {
        "colab": {
          "base_uri": "https://localhost:8080/"
        },
        "id": "vGicpUS7-x6M",
        "outputId": "2315cdfe-0d86-4451-a430-153de52ca79b"
      },
      "execution_count": 1,
      "outputs": [
        {
          "output_type": "stream",
          "name": "stdout",
          "text": [
            "5\n",
            "25\n"
          ]
        }
      ]
    },
    {
      "cell_type": "markdown",
      "source": [
        "The `abs()` function returns the absolute (positive) value of the specified number:"
      ],
      "metadata": {
        "id": "VLSCYYsK-9pE"
      }
    },
    {
      "cell_type": "code",
      "source": [
        "x = abs(-7.25)\n",
        "\n",
        "print(x)"
      ],
      "metadata": {
        "colab": {
          "base_uri": "https://localhost:8080/"
        },
        "id": "68p7Qq9x_Dst",
        "outputId": "e7ccb735-20de-4750-db25-9097a5f026d7"
      },
      "execution_count": 2,
      "outputs": [
        {
          "output_type": "stream",
          "name": "stdout",
          "text": [
            "7.25\n"
          ]
        }
      ]
    },
    {
      "cell_type": "markdown",
      "source": [
        "The pow(x, y) function returns the value of x to the power of y  ( x<sup>y</sup> )."
      ],
      "metadata": {
        "id": "Po9K1ZpS_HZK"
      }
    },
    {
      "cell_type": "code",
      "source": [
        "x = pow(4, 3)\n",
        "\n",
        "print(x)"
      ],
      "metadata": {
        "colab": {
          "base_uri": "https://localhost:8080/"
        },
        "id": "ivN8uVeEALa3",
        "outputId": "b2c377eb-63ab-4cb3-b68c-3839e767cdce"
      },
      "execution_count": 3,
      "outputs": [
        {
          "output_type": "stream",
          "name": "stdout",
          "text": [
            "64\n"
          ]
        }
      ]
    },
    {
      "cell_type": "markdown",
      "source": [
        "## The Math Module\n",
        "Python has also a built-in module called `math`, which extends the list of mathematical functions.\n",
        "\n",
        "To use it, you must import the `math` module:"
      ],
      "metadata": {
        "id": "WZhAKYipAWy7"
      }
    },
    {
      "cell_type": "code",
      "source": [
        "import math"
      ],
      "metadata": {
        "id": "OC6fop2hALUw"
      },
      "execution_count": 4,
      "outputs": []
    },
    {
      "cell_type": "markdown",
      "source": [
        "When you have imported the math module, you can start using methods and constants of the module.\n",
        "\n",
        "The `math.sqrt()` method for example, returns the square root of a number:"
      ],
      "metadata": {
        "id": "ACz04QTYAlsZ"
      }
    },
    {
      "cell_type": "code",
      "source": [
        "import math\n",
        "\n",
        "x = math.sqrt(64)\n",
        "\n",
        "print(x)"
      ],
      "metadata": {
        "colab": {
          "base_uri": "https://localhost:8080/"
        },
        "id": "JBKYys1wAkVK",
        "outputId": "60cf0a5e-daa6-458d-f3d0-a4fa803d987c"
      },
      "execution_count": 5,
      "outputs": [
        {
          "output_type": "stream",
          "name": "stdout",
          "text": [
            "8.0\n"
          ]
        }
      ]
    },
    {
      "cell_type": "markdown",
      "source": [
        "### Math Methods"
      ],
      "metadata": {
        "id": "L7M-NSoPCwo_"
      }
    },
    {
      "cell_type": "markdown",
      "source": [
        "| **Method**       | **Description**                                                                                                   |\n",
        "|:----------------:|:-----------------------------------------------------------------------------------------------------------------:|\n",
        "| `math.acos()`      | Returns the arc cosine of a number                                                                                |\n",
        "| `math.acosh()`     | Returns the inverse hyperbolic cosine of a number                                                                 |\n",
        "| `math.asin()`      | Returns the arc sine of a number                                                                                  |\n",
        "|`math.asinh()`     | Returns the inverse hyperbolic sine of a number                                                                   |\n",
        "| `math.atan()`      | Returns the arc tangent of a number in radians                                                                    |\n",
        "| `math.atan2()`     | Returns the arc tangent of y/x in radians                                                                         |\n",
        "| `math.atanh()`     | Returns the inverse hyperbolic tangent of a number                                                                |\n",
        "| `math.ceil()`      | Rounds a number up to the nearest integer                                                                         |\n",
        "| `math.comb()`      | Returns the number of ways to choose k items from n items without repetition and order                            |\n",
        "| `math.copysign()`  | Returns a float consisting of the value of the first parameter and the sign of the second parameter               |\n",
        "| `math.cos()`       | Returns the cosine of a number                                                                                    |\n",
        "| `math.cosh()`      | Returns the hyperbolic cosine of a number                                                                         |\n",
        "| `math.degrees()`   | Converts an angle from radians to degrees                                                                         |\n",
        "| `math.dist()`      | Returns the Euclidean distance between two points (p and q), where p and q are the coordinates of that point |\n",
        "| `math.erf()`      | Returns the error function of a number                                                                            |\n",
        "| `math.erfc()`      | Returns the complementary error function of a number                                                              |\n",
        "| `math.exp()`       | Returns E raised to the power of x                                                                                |\n",
        "| `math.expm1()`     | Returns Ex - 1                                                                                               |\n",
        "| `math.fabs()`      | Returns the absolute value of a number                                                                            |\n",
        "| `math.factorial()` | Returns the factorial of a number                                                                                 |\n",
        "| `math.floor()`     | Rounds a number down to the nearest integer                                                                       |\n",
        "| `math.fmod()`      | Returns the remainder of x/y                                                                                      |\n",
        "| `math.frexp()`    | Returns the mantissa and the exponent, of a specified number                                                      |\n",
        "| `math.fsum()`      | Returns the sum of all items in any iterable (tuples, arrays, lists, etc.)                                        |\n",
        "| `math.gamma()`     | Returns the gamma function at x                                                                                   |\n",
        "| `math.gcd()`       | Returns the greatest common divisor of two integers                                                               |\n",
        "| `math.hypot()`     | Returns the Euclidean norm                                                                                        |\n",
        "| `math.isclose()`   | Checks whether two values are close to each other, or not                                                         |\n",
        "| `math.isfinite()`  | Checks whether a number is finite or not                                                                          |\n",
        "| `math.isinf()`     | Checks whether a number is infinite or not                                                                        |\n",
        "| `math.isnan()`     | Checks whether a value is NaN (not a number) or not                                                               |\n",
        "| `math.isqrt()`     | Rounds a square root number downwards to the nearest integer                                                      |\n",
        "| `math.ldexp()`     | Returns the inverse of `math.frexp()` which is x * (2**i) of the given numbers x and i                         |\n",
        "| `math.lgamma()`    | Returns the log gamma value of x                                                                                  |\n",
        "| `math.log()`       | Returns the natural logarithm of a number, or the logarithm of number to base                                     |\n",
        "| `math.log10()`     | Returns the base-10 logarithm of x                                                                                |\n",
        "| `math.log1p()`     | Returns the natural logarithm of 1+x                                                                              |\n",
        "| `math.log2()`      | Returns the base-2 logarithm of x                                                                                 |\n",
        "| `math.perm()`      | Returns the number of ways to choose k items from n items with order and without repetition                       |\n",
        "| `math.pow()`       | Returns the value of x to the power of y                                                                          |\n",
        "| `math.prod()`      | Returns the product of all the elements in an iterable                                                            |\n",
        "| `math.radians()`   | Converts a degree value into radians                                                                              |\n",
        "| `math.remainder()` | Returns the closest value that can make numerator completely divisible by the denominator                         |\n",
        "| `math.sin()`       | Returns the sine of a number                                                                                      |\n",
        "| `math.sinh()`      | Returns the hyperbolic sine of a number                                                                           |\n",
        "| `math.sqrt()`      | Returns the square root of a number                                                                               |\n",
        "| `math.tan()`       | Returns the tangent of a number                                                                                   |\n",
        "| `math.tanh()`      | Returns the hyperbolic tangent of a number                                                                        |\n",
        "| `math.trunc()`     | Returns the truncated integer parts of a number                                                                   |\n"
      ],
      "metadata": {
        "id": "s1EEX7xQBSGx"
      }
    },
    {
      "cell_type": "markdown",
      "source": [
        "### Math Constants"
      ],
      "metadata": {
        "id": "WesW7LmPDC_d"
      }
    },
    {
      "cell_type": "markdown",
      "source": [
        "| **Constant** | **Description**                                   |\n",
        "|:------------:|:-------------------------------------------------:|\n",
        "| `math.e`       | Returns Euler's number (2.7182...)                |\n",
        "| `math.inf`     | Returns a floating-point positive infinity        |\n",
        "| `math.nan`     | Returns a floating-point NaN (Not a Number) value |\n",
        "| `math.pi`      | Returns PI (3.1415...)                            |\n",
        "| `math.tau`     | Returns tau (6.2831...)                           |\n"
      ],
      "metadata": {
        "id": "HzFhS2caDDec"
      }
    },
    {
      "cell_type": "markdown",
      "source": [
        "## Python `cmath` Module\n",
        "Python has a built-in module that you can use for mathematical tasks for complex numbers.\n",
        "\n",
        "The methods in this module accepts int, float, and complex numbers. It even accepts Python objects that has a `__complex__()` or `__float__()` method.\n",
        "\n",
        "The methods in this module almost always return a complex number. If the return value can be expressed as a real number, the return value has an imaginary part of 0.\n",
        "\n"
      ],
      "metadata": {
        "id": "SxFZYOyMZCyI"
      }
    },
    {
      "cell_type": "markdown",
      "source": [
        "### cMath Methods"
      ],
      "metadata": {
        "id": "MkFoMBf_ZmVP"
      }
    },
    {
      "cell_type": "markdown",
      "source": [
        "| **Method**           | **Description**                                                                                                  |\n",
        "|:--------------------:|:----------------------------------------------------------------------------------------------------------------:|\n",
        "| `cmath.acos(x)`        | Returns the arc cosine value of x                                                                                |\n",
        "| `cmath.acosh(x)`       | Returns the hyperbolic arc cosine of x                                                                           |\n",
        "| `cmath.asin(x)`        | Returns the arc sine of x                                                                                        |\n",
        "| `cmath.asinh(x)`       | Returns the hyperbolic arc sine of x                                                                             |\n",
        "| `cmath.atan(x)`        | Returns the arc tangent value of x                                                                               |\n",
        "| `cmath.atanh(x)`       | Returns the hyperbolic arctangent value of x                                                                     |\n",
        "| `cmath.cos(x)`         | Returns the cosine of x                                                                                          |\n",
        "| `cmath.cosh(x)`        | Returns the hyperbolic cosine of x                                                                               |\n",
        "| `cmath.exp(x)`         | Returns the value of Ex, where E is Euler's number (approximately 2.718281...), and x is the number passed to it |\n",
        "| `cmath.isclose()`      | Checks whether two values are close, or not                                                                      |\n",
        "| `cmath.isfinite(x)`    | Checks whether x is a finite number                                                                              |\n",
        "| `cmath.isinf(x)`       | Check whether x is a positive or negative infinty                                                                |\n",
        "| `cmath.isnan(x)`      | Checks whether x is NaN (not a number)                                                                           |\n",
        "| `cmath.log(x[, base])`| Returns the logarithm of x to the base                                                                           |\n",
        "| `cmath.log10(x)`       | Returns the base-10 logarithm of x                                                                               |\n",
        "| `cmath.phase()`        | Return the phase of a complex number                                                                             |\n",
        "| `cmath.polar()`        | Convert a complex number to polar coordinates                                                                    |\n",
        "| `cmath.rect()`         | Convert polar coordinates to rectangular form                                                                    |\n",
        "| `cmath.sin(x)`         | Returns the sine of x                                                                                            |\n",
        "| `cmath.sinh(x)`        | Returns the hyperbolic sine of x                                                                                 |\n",
        "|`cmath.sqrt(x)`        | Returns the square root of x                                                                                     |\n",
        "| `cmath.tan(x)`         | Returns the tangent of x                                                                                         |\n",
        "| `cmath.tanh(x)`        | Returns the hyperbolic tangent of x                                                                              |\n"
      ],
      "metadata": {
        "id": "eiTBYL9cZ-YA"
      }
    },
    {
      "cell_type": "markdown",
      "source": [
        "### cMath Constants"
      ],
      "metadata": {
        "id": "7izELylLZm1t"
      }
    },
    {
      "cell_type": "markdown",
      "source": [
        "| **Constant** | **Description**                                  |\n",
        "|:------------:|:------------------------------------------------:|\n",
        "| `cmath.e`      | Returns Euler's number (2.7182...)               |\n",
        "| `cmath.inf`   | Returns a floating-point positive infinity value |\n",
        "| `cmath.infj`   | Returns a complex infinity value                 |\n",
        "| `cmath.nan`    | Returns floating-point NaN (Not a Number) value  |\n",
        "| `cmath.nanj`  | Returns complex NaN (Not a Number) value         |\n",
        "| `cmath.pi`     | Returns PI (3.1415...)                           |\n",
        "| `cmath.tau`    | Returns tau (6.2831...)                          |\n"
      ],
      "metadata": {
        "id": "H5sHt7Ufa7Yu"
      }
    },
    {
      "cell_type": "markdown",
      "source": [
        "## Python statistics Module"
      ],
      "metadata": {
        "id": "a7eoOBvPbxab"
      }
    },
    {
      "cell_type": "markdown",
      "source": [
        "Python statistics Module\n",
        "Python has a built-in module that you can use to calculate mathematical statistics of numeric data."
      ],
      "metadata": {
        "id": "EHKhxHmrb0r1"
      }
    },
    {
      "cell_type": "markdown",
      "source": [
        "### Statistics Methods\n"
      ],
      "metadata": {
        "id": "NKeIzfCdb99L"
      }
    },
    {
      "cell_type": "markdown",
      "source": [
        "| **Method**                  | **Description**                                                             |\n",
        "|:---------------------------:|:---------------------------------------------------------------------------:|\n",
        "| `statistics.harmonic_mean()`  | Calculates the harmonic mean (central location) of the given data           |\n",
        "| `statistics.mean()`           | Calculates the mean (average) of the given data                             |\n",
        "| `statistics.median()`         | Calculates the median (middle value) of the given data                      |\n",
        "| `statistics.median_grouped()` | Calculates the median of grouped continuous data                      |\n",
        "| `statistics.median_high()`    | Calculates the high median of the given data                                |\n",
        "| `statistics.median_low()`     | Calculates the low median of the given data                                 |\n",
        "| `statistics.mode()`         | Calculates the mode (central tendency) of the given numeric or nominal data |\n",
        "| `statistics.pstdev()`         | Calculates the standard deviation from an entire population                 |\n",
        "| `statistics.stdev()`          | Calculates the standard deviation from a sample of data                     |\n",
        "| `statistics.pvariance()`      | Calculates the variance of an entire population                             |\n",
        "| `statistics.variance()`       | Calculates the variance from a sample of data                               |\n"
      ],
      "metadata": {
        "id": "uAo2KBtfcA0M"
      }
    },
    {
      "cell_type": "markdown",
      "source": [
        "## Python Random Module\n",
        "Python has a built-in module that you can use to make random numbers.\n",
        "\n",
        "The random module has a set of methods:"
      ],
      "metadata": {
        "id": "frBzCdt8c2gM"
      }
    },
    {
      "cell_type": "markdown",
      "source": [
        "| **Method**        | **Description**                                                                                                                                         |\n",
        "|:-----------------:|:-------------------------------------------------------------------------------------------------------------------------------------------------------:|\n",
        "| `seed()`            | Initialize the random number generator                                                                                                                  |\n",
        "| `getstate()`       | Returns the current internal state of the random number generator                                                                                       |\n",
        "| `setstate()`        | Restores the internal state of the random number generator                                                                                              |\n",
        "| `getrandbits()`     | Returns a number representing the random bits                                                                                                           |\n",
        "| `randrange()`       | Returns a random number between the given range                                                                                                         |\n",
        "| `randint()`         | Returns a random number between the given range                                                                                                         |\n",
        "| `choice()`          | Returns a random element from the given sequence                                                                                                        |\n",
        "| `choices()`         | Returns a list with a random selection from the given sequence                                                                                          |\n",
        "| `shuffle()`         | Takes a sequence and returns the sequence in a random order                                                                                             |\n",
        "| `sample()`          | Returns a given sample of a sequence                                                                                                                    |\n",
        "| `random()`          | Returns a random float number between 0 and 1                                                                                                           |\n",
        "| `uniform()`         | Returns a random float number between two given parameters                                                                                              |\n",
        "| `triangular()`      | Returns a random float number between two given parameters, you can also set a mode parameter to specify the midpoint between the two other parameters |\n",
        "| `betavariate()`     | Returns a random float number between 0 and 1 based on the Beta distribution (used in statistics)                                                      |\n",
        "| `expovariate()`     | Returns a random float number based on the Exponential distribution (used in statistics)                                                               |\n",
        "| `gammavariate()`    | Returns a random float number based on the Gamma distribution (used in statistics)                                                                     |\n",
        "| `gauss()`           | Returns a random float number based on the Gaussian distribution (used in probability theories)                                                        |\n",
        "| `lognormvariate()`  | Returns a random float number based on a log-normal distribution (used in probability theories)                                                        |\n",
        "| `normalvariate()`   | Returns a random float number based on the normal distribution (used in probability theories)                                                          |\n",
        "| `vonmisesvariate()` | Returns a random float number based on the von Mises distribution (used in directional statistics)                                                     |\n",
        "| `paretovariate()`   | Returns a random float number based on the Pareto distribution (used in probability theories)                                                          |\n",
        "| `weibullvariate()`  | Returns a random float number based on the Weibull distribution (used in statistics)                                                                   |\n"
      ],
      "metadata": {
        "id": "pvANbeEgdAtk"
      }
    }
  ]
}