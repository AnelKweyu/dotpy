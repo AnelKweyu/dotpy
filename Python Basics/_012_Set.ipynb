{
  "nbformat": 4,
  "nbformat_minor": 0,
  "metadata": {
    "colab": {
      "provenance": [],
      "authorship_tag": "ABX9TyN6h4oqyrjAhrT+hb9bkCRa",
      "include_colab_link": true
    },
    "kernelspec": {
      "name": "python3",
      "display_name": "Python 3"
    },
    "language_info": {
      "name": "python"
    }
  },
  "cells": [
    {
      "cell_type": "markdown",
      "metadata": {
        "id": "view-in-github",
        "colab_type": "text"
      },
      "source": [
        "<a href=\"https://colab.research.google.com/github/AnelKweyu/Python-Guide/blob/master/_12_Set.ipynb\" target=\"_parent\"><img src=\"https://colab.research.google.com/assets/colab-badge.svg\" alt=\"Open In Colab\"/></a>"
      ]
    },
    {
      "cell_type": "markdown",
      "source": [
        "Sets are used to store multiple items in a single variable.\n",
        "\n",
        "Set is one of 4 built-in data types in Python used to store collections of data, the other 3 are List, Tuple, and Dictionary, all with different qualities and usage.\n",
        "\n",
        "A set is a collection which is unordered, unchangeable*, and unindexed."
      ],
      "metadata": {
        "id": "wSWxE_EzS6fu"
      }
    },
    {
      "cell_type": "markdown",
      "source": [
        "**Note** : Set items are unchangeable, but you can remove items and add new items."
      ],
      "metadata": {
        "id": "WrwsM--XTBC4"
      }
    },
    {
      "cell_type": "markdown",
      "source": [
        "Sets are written with curly brackets."
      ],
      "metadata": {
        "id": "1PIKeWtYTMYe"
      }
    },
    {
      "cell_type": "code",
      "execution_count": 1,
      "metadata": {
        "colab": {
          "base_uri": "https://localhost:8080/"
        },
        "id": "4nLKZfUOFnhN",
        "outputId": "91573f87-02b5-490e-f3d5-702c238312ef"
      },
      "outputs": [
        {
          "output_type": "stream",
          "name": "stdout",
          "text": [
            "{'apple', 'banana', 'cherry'}\n"
          ]
        }
      ],
      "source": [
        "thisset = {\"apple\", \"banana\", \"cherry\"}\n",
        "print(thisset)"
      ]
    },
    {
      "cell_type": "markdown",
      "source": [
        "**Note**: Sets are unordered, so you cannot be sure in which order the items will appear."
      ],
      "metadata": {
        "id": "jT3-ILlMTnXV"
      }
    },
    {
      "cell_type": "markdown",
      "source": [
        "### Set Items\n",
        "Set items are unordered, unchangeable, and do not allow duplicate values."
      ],
      "metadata": {
        "id": "GwHvXMXOZ8RD"
      }
    },
    {
      "cell_type": "markdown",
      "source": [
        "### Unordered\n",
        "Unordered means that the items in a set do not have a defined order.\n",
        "\n",
        "Set items can appear in a different order every time you use them, and cannot be referred to by index or key.\n",
        "\n"
      ],
      "metadata": {
        "id": "EhV1jfB4aCYI"
      }
    },
    {
      "cell_type": "markdown",
      "source": [
        "### Unchangeable\n",
        "Set items are unchangeable, meaning that we cannot change the items after the set has been created."
      ],
      "metadata": {
        "id": "YD8lLcUXaIQP"
      }
    },
    {
      "cell_type": "markdown",
      "source": [
        "Once a set is created, you cannot change its items, but you can remove items and add new items."
      ],
      "metadata": {
        "id": "TdjTsHKMaRY1"
      }
    },
    {
      "cell_type": "markdown",
      "source": [
        "### Duplicates Not Allowed\n",
        "Sets cannot have two items with the same value."
      ],
      "metadata": {
        "id": "grXnUYsBachc"
      }
    },
    {
      "cell_type": "code",
      "source": [
        "thisset = {\"apple\", \"banana\", \"cherry\", \"apple\"}\n",
        "\n",
        "print(thisset)"
      ],
      "metadata": {
        "colab": {
          "base_uri": "https://localhost:8080/"
        },
        "id": "15PpM8VsaeJ5",
        "outputId": "7536729d-0beb-442d-b5b0-d0bdb318dfe8"
      },
      "execution_count": 2,
      "outputs": [
        {
          "output_type": "stream",
          "name": "stdout",
          "text": [
            "{'apple', 'banana', 'cherry'}\n"
          ]
        }
      ]
    },
    {
      "cell_type": "markdown",
      "source": [
        "**Note**: The values `True` and `1` are considered the same value in sets, and are treated as duplicates"
      ],
      "metadata": {
        "id": "DGNTmf6OassD"
      }
    },
    {
      "cell_type": "code",
      "source": [
        "thisset = {\"apple\", \"banana\", \"cherry\", True, 1, 2}\n",
        "\n",
        "print(thisset)"
      ],
      "metadata": {
        "colab": {
          "base_uri": "https://localhost:8080/"
        },
        "id": "q-R1tj6mavZi",
        "outputId": "0accd1e5-7f76-46fc-a21e-e99949856bba"
      },
      "execution_count": 3,
      "outputs": [
        {
          "output_type": "stream",
          "name": "stdout",
          "text": [
            "{'apple', True, 2, 'cherry', 'banana'}\n"
          ]
        }
      ]
    },
    {
      "cell_type": "markdown",
      "source": [
        "**Note**: The values `False` and `0` are considered the same value in sets, and are treated as duplicates"
      ],
      "metadata": {
        "id": "rK9AGsPNa_6Q"
      }
    },
    {
      "cell_type": "code",
      "source": [
        "thisset = {\"apple\", \"banana\", \"cherry\", False, True, 0}\n",
        "\n",
        "print(thisset)"
      ],
      "metadata": {
        "colab": {
          "base_uri": "https://localhost:8080/"
        },
        "id": "eeiOm7mWbUTZ",
        "outputId": "6f14fb7b-7748-4d8a-9556-6a0e0f88cfde"
      },
      "execution_count": 4,
      "outputs": [
        {
          "output_type": "stream",
          "name": "stdout",
          "text": [
            "{'apple', False, True, 'cherry', 'banana'}\n"
          ]
        }
      ]
    },
    {
      "cell_type": "markdown",
      "source": [
        "### Get the Length of a Set\n",
        "To determine how many items a set has, use the `len()` function."
      ],
      "metadata": {
        "id": "kKOjVGiwbhvt"
      }
    },
    {
      "cell_type": "code",
      "source": [
        "thisset = {\"apple\", \"banana\", \"cherry\"}\n",
        "\n",
        "print(len(thisset))"
      ],
      "metadata": {
        "colab": {
          "base_uri": "https://localhost:8080/"
        },
        "id": "KjkzvyNDblyz",
        "outputId": "92104d46-5fbe-4616-e419-d1af1b75b9c0"
      },
      "execution_count": 5,
      "outputs": [
        {
          "output_type": "stream",
          "name": "stdout",
          "text": [
            "3\n"
          ]
        }
      ]
    },
    {
      "cell_type": "markdown",
      "source": [
        "### Set Items - Data Types\n",
        "Set items can be of any data type:"
      ],
      "metadata": {
        "id": "VnoEGDo2b7tc"
      }
    },
    {
      "cell_type": "code",
      "source": [
        "set1 = {\"apple\", \"banana\", \"cherry\"}\n",
        "set2 = {1, 5, 7, 9, 3}\n",
        "set3 = {True, False, False}"
      ],
      "metadata": {
        "id": "FOeycC5Eb-vk"
      },
      "execution_count": 6,
      "outputs": []
    },
    {
      "cell_type": "markdown",
      "source": [
        "A set can contain different data types:"
      ],
      "metadata": {
        "id": "kmJU9mdocFz9"
      }
    },
    {
      "cell_type": "code",
      "source": [
        "set1 = {\"abc\", 34, True, 40, \"male\"}"
      ],
      "metadata": {
        "id": "kPz8BBfXcJOg"
      },
      "execution_count": 7,
      "outputs": []
    },
    {
      "cell_type": "markdown",
      "source": [
        "### type()\n",
        "From Python's perspective, sets are defined as objects with the data type 'set':\n",
        "\n",
        "\n",
        "```\n",
        "<class 'set'>\n",
        "```\n",
        "\n"
      ],
      "metadata": {
        "id": "s-ZSC_LhcQwD"
      }
    },
    {
      "cell_type": "code",
      "source": [
        "myset = {\"apple\", \"banana\", \"cherry\"}\n",
        "print(type(myset))"
      ],
      "metadata": {
        "colab": {
          "base_uri": "https://localhost:8080/"
        },
        "id": "z-bGJc7-ccl3",
        "outputId": "0d8276d8-4176-4e79-9fa4-b8f13d4d1aa6"
      },
      "execution_count": 8,
      "outputs": [
        {
          "output_type": "stream",
          "name": "stdout",
          "text": [
            "<class 'set'>\n"
          ]
        }
      ]
    },
    {
      "cell_type": "markdown",
      "source": [
        "### The set() Constructor\n",
        "It is also possible to use the `set()` constructor to make a set."
      ],
      "metadata": {
        "id": "iuhXnyoqcnxs"
      }
    },
    {
      "cell_type": "code",
      "source": [
        "thisset = set((\"apple\", \"banana\", \"cherry\")) # note the double round-brackets\n",
        "print(thisset)"
      ],
      "metadata": {
        "colab": {
          "base_uri": "https://localhost:8080/"
        },
        "id": "iGbBtCvNcsp_",
        "outputId": "99b8fd5a-4a59-4c17-af3b-1289a2614f75"
      },
      "execution_count": 9,
      "outputs": [
        {
          "output_type": "stream",
          "name": "stdout",
          "text": [
            "{'apple', 'banana', 'cherry'}\n"
          ]
        }
      ]
    },
    {
      "cell_type": "markdown",
      "source": [
        "## Access Set Items\n",
        "You cannot access items in a set by referring to an index or a key.\n",
        "\n",
        "But you can loop through the set items using a `for` loop, or ask if a specified value is present in a set, by using the `in` keyword."
      ],
      "metadata": {
        "id": "LUm6deLW1tKc"
      }
    },
    {
      "cell_type": "code",
      "source": [
        "thisset = {\"apple\", \"banana\", \"cherry\"}\n",
        "\n",
        "for x in thisset:\n",
        "  print(x)"
      ],
      "metadata": {
        "colab": {
          "base_uri": "https://localhost:8080/"
        },
        "id": "1I82lQxP18CX",
        "outputId": "7f6aba5a-13d5-42ca-e998-30cf3814a9ee"
      },
      "execution_count": 10,
      "outputs": [
        {
          "output_type": "stream",
          "name": "stdout",
          "text": [
            "apple\n",
            "banana\n",
            "cherry\n"
          ]
        }
      ]
    },
    {
      "cell_type": "code",
      "source": [
        "thisset = {\"apple\", \"banana\", \"cherry\"}\n",
        "\n",
        "print(\"banana\" in thisset)"
      ],
      "metadata": {
        "colab": {
          "base_uri": "https://localhost:8080/"
        },
        "id": "E_bAzWPd2Pqz",
        "outputId": "a79198df-8f1f-4b14-e169-0a099baa6fd8"
      },
      "execution_count": 11,
      "outputs": [
        {
          "output_type": "stream",
          "name": "stdout",
          "text": [
            "True\n"
          ]
        }
      ]
    },
    {
      "cell_type": "markdown",
      "source": [
        "### Change Items\n",
        "Once a set is created, you cannot change its items, but you can add new items."
      ],
      "metadata": {
        "id": "fPWKM-oE2c0J"
      }
    },
    {
      "cell_type": "markdown",
      "source": [
        "## Add Set Items\n",
        "\n",
        "Once a set is created, you cannot change its items, but you can add new items."
      ],
      "metadata": {
        "id": "ueyNnfU_6V3B"
      }
    },
    {
      "cell_type": "markdown",
      "source": [
        "To add one item to a set use the `add()` method."
      ],
      "metadata": {
        "id": "R6_eazqA6qjC"
      }
    },
    {
      "cell_type": "code",
      "source": [
        "thisset = {\"apple\", \"banana\", \"cherry\"}\n",
        "\n",
        "thisset.add(\"orange\")\n",
        "\n",
        "print(thisset)"
      ],
      "metadata": {
        "colab": {
          "base_uri": "https://localhost:8080/"
        },
        "id": "1ZxiM4Hg6481",
        "outputId": "383f1181-356b-44ce-cb60-8a209c3e1b91"
      },
      "execution_count": 12,
      "outputs": [
        {
          "output_type": "stream",
          "name": "stdout",
          "text": [
            "{'apple', 'banana', 'orange', 'cherry'}\n"
          ]
        }
      ]
    },
    {
      "cell_type": "markdown",
      "source": [
        "### Add Sets\n",
        "To add items from another set into the current set, use the `update()` method."
      ],
      "metadata": {
        "id": "Sa-_0PZh7KyU"
      }
    },
    {
      "cell_type": "code",
      "source": [
        "thisset = {\"apple\", \"banana\", \"cherry\"}\n",
        "tropical = {\"pineapple\", \"mango\", \"papaya\"}\n",
        "\n",
        "thisset.update(tropical)\n",
        "\n",
        "print(thisset)"
      ],
      "metadata": {
        "id": "QoIUo5fB7TZM",
        "colab": {
          "base_uri": "https://localhost:8080/"
        },
        "outputId": "9a221612-0758-485d-aab7-cff55d7a7141"
      },
      "execution_count": 13,
      "outputs": [
        {
          "output_type": "stream",
          "name": "stdout",
          "text": [
            "{'apple', 'cherry', 'mango', 'pineapple', 'papaya', 'banana'}\n"
          ]
        }
      ]
    },
    {
      "cell_type": "markdown",
      "source": [
        "### Add Any Iterable\n",
        "The object in the `update()` method does not have to be a set, it can be any iterable object (tuples, lists, dictionaries etc.)."
      ],
      "metadata": {
        "id": "-rUib1sy7UhB"
      }
    },
    {
      "cell_type": "code",
      "source": [
        "thisset = {\"apple\", \"banana\", \"cherry\"}\n",
        "mylist = [\"kiwi\", \"orange\"]\n",
        "\n",
        "thisset.update(mylist)\n",
        "\n",
        "print(thisset)"
      ],
      "metadata": {
        "id": "Jw7ZvJlF7hmB",
        "colab": {
          "base_uri": "https://localhost:8080/"
        },
        "outputId": "ab4ce7bb-6ee1-4970-924c-0b87785598a3"
      },
      "execution_count": 14,
      "outputs": [
        {
          "output_type": "stream",
          "name": "stdout",
          "text": [
            "{'apple', 'kiwi', 'banana', 'orange', 'cherry'}\n"
          ]
        }
      ]
    },
    {
      "cell_type": "markdown",
      "source": [
        "## Remove Set Items"
      ],
      "metadata": {
        "id": "krk14sgkY6Dg"
      }
    },
    {
      "cell_type": "markdown",
      "source": [
        "### Remove Item\n",
        "To remove an item in a set, use the `remove()`, or the `discard()` method."
      ],
      "metadata": {
        "id": "1pSjex6oZHDG"
      }
    },
    {
      "cell_type": "code",
      "source": [
        "thisset = {\"apple\", \"banana\", \"cherry\"}\n",
        "\n",
        "thisset.remove(\"banana\")\n",
        "\n",
        "print(thisset)"
      ],
      "metadata": {
        "colab": {
          "base_uri": "https://localhost:8080/"
        },
        "id": "Kd_md2ANZPol",
        "outputId": "fd1d3e47-80be-4e0e-df06-a023004b0706"
      },
      "execution_count": 15,
      "outputs": [
        {
          "output_type": "stream",
          "name": "stdout",
          "text": [
            "{'apple', 'cherry'}\n"
          ]
        }
      ]
    },
    {
      "cell_type": "markdown",
      "source": [
        "**Note**: If the item to remove does not exist, remove() will raise an error."
      ],
      "metadata": {
        "id": "-DRPwyzdZajd"
      }
    },
    {
      "cell_type": "code",
      "source": [
        "thisset = {\"apple\", \"banana\", \"cherry\"}\n",
        "\n",
        "thisset.discard(\"banana\")\n",
        "\n",
        "print(thisset)"
      ],
      "metadata": {
        "colab": {
          "base_uri": "https://localhost:8080/"
        },
        "id": "lc6KOKgpZvKr",
        "outputId": "599c2d41-9b19-4f21-aa12-8e0935b907d0"
      },
      "execution_count": 16,
      "outputs": [
        {
          "output_type": "stream",
          "name": "stdout",
          "text": [
            "{'apple', 'cherry'}\n"
          ]
        }
      ]
    },
    {
      "cell_type": "markdown",
      "source": [
        "**Note**: If the item to remove does not exist, `discard()` will NOT raise an error."
      ],
      "metadata": {
        "id": "T7qjoPEJZef6"
      }
    },
    {
      "cell_type": "markdown",
      "source": [
        "You can also use the `pop()` method to remove an item, but this method will remove a random item, so you cannot be sure what item that gets removed.\n",
        "\n",
        "The return value of the `pop()` method is the removed item."
      ],
      "metadata": {
        "id": "t9U36Le3Z-0N"
      }
    },
    {
      "cell_type": "code",
      "source": [
        "thisset = {\"apple\", \"banana\", \"cherry\"}\n",
        "\n",
        "x = thisset.pop()\n",
        "\n",
        "print(x)\n",
        "\n",
        "print(thisset)"
      ],
      "metadata": {
        "colab": {
          "base_uri": "https://localhost:8080/"
        },
        "id": "-FGj3ZvHaFWG",
        "outputId": "144e295c-866d-4f95-84dc-9464814b4fc4"
      },
      "execution_count": 17,
      "outputs": [
        {
          "output_type": "stream",
          "name": "stdout",
          "text": [
            "apple\n",
            "{'banana', 'cherry'}\n"
          ]
        }
      ]
    },
    {
      "cell_type": "markdown",
      "source": [
        "**Note**: Sets are unordered, so when using the `pop()` method, you do not know which item that gets removed."
      ],
      "metadata": {
        "id": "wKTNGssPaLCD"
      }
    },
    {
      "cell_type": "markdown",
      "source": [
        "The `clear()` method empties the set:"
      ],
      "metadata": {
        "id": "c3QjxyRlaZGZ"
      }
    },
    {
      "cell_type": "code",
      "source": [
        "thisset = {\"apple\", \"banana\", \"cherry\"}\n",
        "\n",
        "thisset.clear()\n",
        "\n",
        "print(thisset)"
      ],
      "metadata": {
        "colab": {
          "base_uri": "https://localhost:8080/"
        },
        "id": "Mvuu8tniabkX",
        "outputId": "553443b9-56a7-412b-e9d5-2a8d0afbec6e"
      },
      "execution_count": 18,
      "outputs": [
        {
          "output_type": "stream",
          "name": "stdout",
          "text": [
            "set()\n"
          ]
        }
      ]
    },
    {
      "cell_type": "markdown",
      "source": [
        "The `del` keyword will delete the set completely:"
      ],
      "metadata": {
        "id": "fmcatTJ_acHY"
      }
    },
    {
      "cell_type": "code",
      "source": [
        "thisset = {\"apple\", \"banana\", \"cherry\"}\n",
        "\n",
        "del thisset\n",
        "\n",
        "print(thisset)"
      ],
      "metadata": {
        "colab": {
          "base_uri": "https://localhost:8080/",
          "height": 217
        },
        "id": "9lYU10mGacvH",
        "outputId": "cd30b335-1b79-49f0-bec5-1c1f508e92cd"
      },
      "execution_count": 20,
      "outputs": [
        {
          "output_type": "error",
          "ename": "NameError",
          "evalue": "ignored",
          "traceback": [
            "\u001b[0;31m---------------------------------------------------------------------------\u001b[0m",
            "\u001b[0;31mNameError\u001b[0m                                 Traceback (most recent call last)",
            "\u001b[0;32m<ipython-input-20-b0ed94c1bb6f>\u001b[0m in \u001b[0;36m<cell line: 5>\u001b[0;34m()\u001b[0m\n\u001b[1;32m      3\u001b[0m \u001b[0;32mdel\u001b[0m \u001b[0mthisset\u001b[0m\u001b[0;34m\u001b[0m\u001b[0;34m\u001b[0m\u001b[0m\n\u001b[1;32m      4\u001b[0m \u001b[0;34m\u001b[0m\u001b[0m\n\u001b[0;32m----> 5\u001b[0;31m \u001b[0mprint\u001b[0m\u001b[0;34m(\u001b[0m\u001b[0mthisset\u001b[0m\u001b[0;34m)\u001b[0m\u001b[0;34m\u001b[0m\u001b[0;34m\u001b[0m\u001b[0m\n\u001b[0m",
            "\u001b[0;31mNameError\u001b[0m: name 'thisset' is not defined"
          ]
        }
      ]
    },
    {
      "cell_type": "markdown",
      "source": [
        "## Loop Sets"
      ],
      "metadata": {
        "id": "MabLu4p4a1aZ"
      }
    },
    {
      "cell_type": "markdown",
      "source": [
        "### Loop Items\n",
        "You can loop through the set items by using a `for` loop:"
      ],
      "metadata": {
        "id": "K2TksD1wa35s"
      }
    },
    {
      "cell_type": "code",
      "source": [
        "thisset = {\"apple\", \"banana\", \"cherry\"}\n",
        "\n",
        "for x in thisset:\n",
        "  print(x)"
      ],
      "metadata": {
        "colab": {
          "base_uri": "https://localhost:8080/"
        },
        "id": "cN7ubaf0bA8H",
        "outputId": "cca56486-11da-4264-94bc-24c37c7128d2"
      },
      "execution_count": 21,
      "outputs": [
        {
          "output_type": "stream",
          "name": "stdout",
          "text": [
            "apple\n",
            "banana\n",
            "cherry\n"
          ]
        }
      ]
    },
    {
      "cell_type": "markdown",
      "source": [
        "## Join Sets"
      ],
      "metadata": {
        "id": "VcQVbcE_tlHa"
      }
    },
    {
      "cell_type": "markdown",
      "source": [
        "### Join Two Sets\n",
        "There are several ways to join two or more sets in Python.\n",
        "\n",
        "You can use the `union()` method that returns a new set containing all items from both sets, or the `update()` method that inserts all the items from one set into another:"
      ],
      "metadata": {
        "id": "75v4srlgtnop"
      }
    },
    {
      "cell_type": "code",
      "source": [
        "set1 = {\"a\", \"b\" , \"c\"}\n",
        "set2 = {1, 2, 3}\n",
        "\n",
        "set3 = set1.union(set2)\n",
        "print(set3)"
      ],
      "metadata": {
        "colab": {
          "base_uri": "https://localhost:8080/"
        },
        "id": "N9Czjyrrt4yF",
        "outputId": "a107b11f-c2b1-4126-be93-79c533b53b93"
      },
      "execution_count": 22,
      "outputs": [
        {
          "output_type": "stream",
          "name": "stdout",
          "text": [
            "{1, 2, 'b', 3, 'c', 'a'}\n"
          ]
        }
      ]
    },
    {
      "cell_type": "code",
      "source": [
        "set1 = {\"a\", \"b\" , \"c\"}\n",
        "set2 = {1, 2, 3}\n",
        "\n",
        "set1.update(set2)\n",
        "print(set1)"
      ],
      "metadata": {
        "colab": {
          "base_uri": "https://localhost:8080/"
        },
        "id": "ACaH0Oylt9JF",
        "outputId": "f61cda28-44b7-4d02-873b-2db5c365cf04"
      },
      "execution_count": 23,
      "outputs": [
        {
          "output_type": "stream",
          "name": "stdout",
          "text": [
            "{1, 2, 'b', 3, 'c', 'a'}\n"
          ]
        }
      ]
    },
    {
      "cell_type": "markdown",
      "source": [
        "**Note**: Both `union()` and `update()` will exclude any duplicate items."
      ],
      "metadata": {
        "id": "4fSeYcxMuGe1"
      }
    },
    {
      "cell_type": "markdown",
      "source": [
        "### Keep ONLY the Duplicates\n",
        "The `intersection_update()` method will keep only the items that are present in both sets."
      ],
      "metadata": {
        "id": "r0kRtiUouNGs"
      }
    },
    {
      "cell_type": "code",
      "source": [
        "x = {\"apple\", \"banana\", \"cherry\"}\n",
        "y = {\"google\", \"microsoft\", \"apple\"}\n",
        "\n",
        "x.intersection_update(y)\n",
        "\n",
        "print(x)"
      ],
      "metadata": {
        "colab": {
          "base_uri": "https://localhost:8080/"
        },
        "id": "JwmgxtRLuioq",
        "outputId": "63fe2c34-3776-4b7a-fdc4-92ca215c8675"
      },
      "execution_count": 24,
      "outputs": [
        {
          "output_type": "stream",
          "name": "stdout",
          "text": [
            "{'apple'}\n"
          ]
        }
      ]
    },
    {
      "cell_type": "markdown",
      "source": [
        "The `intersection()` method will return a new set, that only contains the items that are present in both sets."
      ],
      "metadata": {
        "id": "dgHOzGWVuwve"
      }
    },
    {
      "cell_type": "code",
      "source": [
        "x = {\"apple\", \"banana\", \"cherry\"}\n",
        "y = {\"google\", \"microsoft\", \"apple\"}\n",
        "\n",
        "z = x.intersection(y)\n",
        "\n",
        "print(z)"
      ],
      "metadata": {
        "colab": {
          "base_uri": "https://localhost:8080/"
        },
        "id": "pzQmfWEvu1pW",
        "outputId": "e18bb389-473a-4933-80e0-b335900378d9"
      },
      "execution_count": 25,
      "outputs": [
        {
          "output_type": "stream",
          "name": "stdout",
          "text": [
            "{'apple'}\n"
          ]
        }
      ]
    },
    {
      "cell_type": "markdown",
      "source": [
        "### Keep All, But NOT the Duplicates\n",
        "The `symmetric_difference_update()` method will keep only the elements that are NOT present in both sets."
      ],
      "metadata": {
        "id": "13SCKecfvUSN"
      }
    },
    {
      "cell_type": "code",
      "source": [
        "x = {\"apple\", \"banana\", \"cherry\"}\n",
        "y = {\"google\", \"microsoft\", \"apple\"}\n",
        "\n",
        "x.symmetric_difference_update(y)\n",
        "\n",
        "print(x)"
      ],
      "metadata": {
        "colab": {
          "base_uri": "https://localhost:8080/"
        },
        "id": "dd2zmp1zvdVE",
        "outputId": "b2985a5d-b9da-4ad9-9664-2880ec9fa22d"
      },
      "execution_count": 26,
      "outputs": [
        {
          "output_type": "stream",
          "name": "stdout",
          "text": [
            "{'banana', 'microsoft', 'cherry', 'google'}\n"
          ]
        }
      ]
    },
    {
      "cell_type": "markdown",
      "source": [
        "The `symmetric_difference()` method will return a new set, that contains only the elements that are NOT present in both sets."
      ],
      "metadata": {
        "id": "4-GPZRQzvhcf"
      }
    },
    {
      "cell_type": "code",
      "source": [
        "x = {\"apple\", \"banana\", \"cherry\"}\n",
        "y = {\"google\", \"microsoft\", \"apple\"}\n",
        "\n",
        "z = x.symmetric_difference(y)\n",
        "\n",
        "print(z)"
      ],
      "metadata": {
        "colab": {
          "base_uri": "https://localhost:8080/"
        },
        "id": "XGTA35A_vkKh",
        "outputId": "6b4ec1a4-7a03-4667-eebd-a6c895785434"
      },
      "execution_count": 27,
      "outputs": [
        {
          "output_type": "stream",
          "name": "stdout",
          "text": [
            "{'banana', 'microsoft', 'cherry', 'google'}\n"
          ]
        }
      ]
    },
    {
      "cell_type": "markdown",
      "source": [
        "**Note**: The values True and 1 are considered the same value in sets, and are treated as duplicates:"
      ],
      "metadata": {
        "id": "4x2TkTiFvqsU"
      }
    },
    {
      "cell_type": "code",
      "source": [
        "x = {\"apple\", \"banana\", \"cherry\", True}\n",
        "y = {\"google\", 1, \"apple\", 2}\n",
        "\n",
        "z = x.symmetric_difference(y)\n",
        "\n",
        "print(z)"
      ],
      "metadata": {
        "colab": {
          "base_uri": "https://localhost:8080/"
        },
        "id": "Za1D8iHUvsPT",
        "outputId": "b23df85f-237a-4dce-e4f4-d290ec29b02c"
      },
      "execution_count": 28,
      "outputs": [
        {
          "output_type": "stream",
          "name": "stdout",
          "text": [
            "{2, 'cherry', 'google', 'banana'}\n"
          ]
        }
      ]
    },
    {
      "cell_type": "markdown",
      "source": [
        "## Set Methods"
      ],
      "metadata": {
        "id": "2txd0lodv1ol"
      }
    },
    {
      "cell_type": "markdown",
      "source": [
        "| **Method**                    | **Description**                                                                     |\n",
        "|:-----------------------------:|:-----------------------------------------------------------------------------------:|\n",
        "| `add()`                       | Adds an element to the set|\n",
        "| `clear()`                       | Removes all the elements from the set|\n",
        "| `copy()`                        | Returns a copy of the set|\n",
        "| `difference()`                  | Returns a set containing the difference between two or more sets|\n",
        "| `difference_update()`           | Removes the items in this set that are also included in another, specified set |\n",
        "| `discard()`                     | Remove the specified item|\n",
        "| `intersection()`                | Returns a set, that is the intersection of two other sets |\n",
        "| `intersection_update(`)         |Removes the items in this set that are not present in other, specified set(s) |\n",
        "| `isdisjoint()`                  | Returns whether two sets have a intersection or not |\n",
        "| `issubset()`                   | Returns whether another set contains this set or not                           |\n",
        "| `issuperset()`                  | Returns whether this set contains another set or not                             |\n",
        "| `pop()`                         | Removes an element from the set|\n",
        "| `remove()`                      | Removes the specified element|\n",
        "| `symmetric_difference()`        | Returns a set with the symmetric differences of two sets                       |\n",
        "| `symmetric_difference_update()` | inserts the symmetric differences from this set and another                      |\n",
        "| `union()`                       | Return a set containing the union of sets                                      |\n",
        "| `update()`                      | Update the set with the union of this set and others                             |\n"
      ],
      "metadata": {
        "id": "e-IsnoOKv22m"
      }
    }
  ]
}