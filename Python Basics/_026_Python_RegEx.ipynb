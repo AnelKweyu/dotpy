{
  "nbformat": 4,
  "nbformat_minor": 0,
  "metadata": {
    "colab": {
      "provenance": [],
      "authorship_tag": "ABX9TyN/KsxTwIzhX1HWPfPnMEHB",
      "include_colab_link": true
    },
    "kernelspec": {
      "name": "python3",
      "display_name": "Python 3"
    },
    "language_info": {
      "name": "python"
    }
  },
  "cells": [
    {
      "cell_type": "markdown",
      "metadata": {
        "id": "view-in-github",
        "colab_type": "text"
      },
      "source": [
        "<a href=\"https://colab.research.google.com/github/AnelKweyu/Python-Guide/blob/master/_26_Python_RegEx.ipynb\" target=\"_parent\"><img src=\"https://colab.research.google.com/assets/colab-badge.svg\" alt=\"Open In Colab\"/></a>"
      ]
    },
    {
      "cell_type": "markdown",
      "source": [
        "# Python RegEx\n",
        "A RegEx, or Regular Expression, is a sequence of characters that forms a search pattern.\n",
        "\n",
        "RegEx can be used to check if a string contains the specified search pattern."
      ],
      "metadata": {
        "id": "BgfciKu83UBw"
      }
    },
    {
      "cell_type": "markdown",
      "source": [
        "## RegEx Module\n",
        "Python has a built-in package called `re`, which can be used to work with Regular Expressions.\n",
        "\n",
        "Import the `re` module:"
      ],
      "metadata": {
        "id": "Fk80fOvO3f6h"
      }
    },
    {
      "cell_type": "code",
      "source": [
        "import re"
      ],
      "metadata": {
        "id": "vdevrf0T3odC"
      },
      "execution_count": 1,
      "outputs": []
    },
    {
      "cell_type": "markdown",
      "source": [
        "## RegEx in Python\n",
        "When you have imported the `re` module, you can start using regular expressions:"
      ],
      "metadata": {
        "id": "rTe1YdVt4WNI"
      }
    },
    {
      "cell_type": "code",
      "source": [
        "#Search the string to see if it starts with \"The\" and ends with \"Spain\":\n",
        "import re\n",
        "\n",
        "txt = \"The rain in Spain\"\n",
        "x = re.search(\"^The.*Spain$\", txt)"
      ],
      "metadata": {
        "id": "V1QwPiTy4cFG"
      },
      "execution_count": 2,
      "outputs": []
    },
    {
      "cell_type": "markdown",
      "source": [
        "## RegEx Functions"
      ],
      "metadata": {
        "id": "Is28u_8040kh"
      }
    },
    {
      "cell_type": "markdown",
      "source": [
        "| **Function** | **Description**                                                   |\n",
        "|:------------:|:-----------------------------------------------------------------:|\n",
        "| findall      | Returns a list containing all matches                             |\n",
        "| search       | Returns a Match object if there is a match anywhere in the string |\n",
        "| split        | Returns a list where the string has been split at each match      |\n",
        "| sub          | Replaces one or many matches with a string                        |\n"
      ],
      "metadata": {
        "id": "bQ-gIFW85bTn"
      }
    },
    {
      "cell_type": "markdown",
      "source": [
        "## Metacharacters"
      ],
      "metadata": {
        "id": "jcl1gc4h5gyQ"
      }
    },
    {
      "cell_type": "markdown",
      "source": [
        "| **Character** | **Description**                                                            | **Example**   |\n",
        "|:-------------:|:--------------------------------------------------------------------------:|:-------------:|\n",
        "| `[]`          | A set of characters                                                        | \"[a-m]\"       |\n",
        "| `\\`             | Signals a special sequence (can also be used to escape special characters) | \"\\d\"          |\n",
        "| `.`             | Any character (except newline character)                                   | \"he..o\"       |\n",
        "| `^`             | Starts with                                                                | \"^hello\"      |\n",
        "| `$`             | Ends with                                                                  | \"planet$\"     |\n",
        "| `*`             | Zero or more occurrences                                                   | \"he.*o\"       |\n",
        "| `+`            | One or more occurrences                                                    | \"he.+o\"       |\n",
        "| `?`             | Zero or one occurrences                                                    | \"he.?o\"       |\n",
        "| `{}`            | Exactly the specified number of occurrences                                | \"he.{2}o\"     |\n",
        "| `\\|`             | Either or                                                                  | \"falls|stays\" |\n",
        "| `()`            | Capture and group                                                          | &nbsp;        | &nbsp; |\n"
      ],
      "metadata": {
        "id": "Wcs8DiHb5ia5"
      }
    },
    {
      "cell_type": "markdown",
      "source": [
        "## Special Sequences"
      ],
      "metadata": {
        "id": "xColTy6Q8d12"
      }
    },
    {
      "cell_type": "markdown",
      "source": [
        "| **Special Sequence** | **Meaning**                                                                                                                                                                                                                                                            |\n",
        "|:--------------------:|:----------------------------------------------------------------------------------------------------------------------------------------------------------------------------------------------------------------------------------------------------------------------:|\n",
        "| `\\A`                  | Matches pattern only at the start of the string                                                                                                                                                                                                                        |\n",
        "| `\\Z`                  | Matches pattern only at the end of the string                                                                                                                                                                                                                          |\n",
        "| `\\d`                  | Matches to any digit\\. Short for character classes&nbsp; `[0\\-9\\]`                                                                                                                                                                                                       |\n",
        "| `\\D`                  | Matches to any non\\-digit\\.short for&nbsp; `[^0\\-9\\]`                                                                                                                                                                                                                    |\n",
        "| `\\s`                  | Matches any whitespace character\\.short for character class `[ \t\\\\n\\\\x0b\\\\r\\\\f\\]`                                                                                                                                                                                       |\n",
        "| `\\S`                  | Matches any non\\-whitespace character\\.short for `[^ \\\\t\\\\n\\\\x0b\\\\r\\\\f\\]`                                                                                                                                                                                               |\n",
        "| `\\w`                  | Matches any alphanumeric character\\.short for character class `[a\\-zA\\-Z\\_0\\-9\\]`                                                                                                                                                                                       |\n",
        "| `\\W`                  | Matches any non\\-alphanumeric character\\.short for `[^a\\-zA\\-Z\\_0\\-9\\]`                                                                                                                                                                                                 |\n",
        "| `\\b`                  | Matches the empty string, but only at the beginning or end of a word\\. Matches a word boundary where a word character is `[a\\-zA\\-Z0\\-9\\_\\]`\\.For example, ‘`\\bJessa\\b`' matches ‘Jessa’, ‘Jessa\\.’, ‘\\(Jessa\\)’, ‘Jessa Emma Kelly’ but not ‘JessaKelly’ or ‘Jessa5’\\. |\n",
        "| `\\B`                  | Opposite of a `\\b`\\. Matches the empty string, but only when it is not at the beginning or end of a word                                                                                                                                                                |\n"
      ],
      "metadata": {
        "id": "e0KfUPmh8yJJ"
      }
    },
    {
      "cell_type": "markdown",
      "source": [
        "## Sets"
      ],
      "metadata": {
        "id": "aYgE8JcB8hmP"
      }
    },
    {
      "cell_type": "markdown",
      "source": [
        "| **Set** | **Description**                                                             |\n",
        "|:-------------------:|:---------------------------------------------------------------------------:|\n",
        "| `[abc]`             | Match the letter a or b or c                                                |\n",
        "| `[abc][pq]`       | Match letter a or b or c followed by either p or q\\.                        |\n",
        "| `[^abc]`            | Match any letter except a, b, or c \\(negation\\)                             |\n",
        "| `[0-9]`            | Match any digit from 0 to 9\\. inclusive \\(range\\)                           |\n",
        "| `[a-z]`            | Match any lowercase letters from a to z\\. inclusive \\(range\\)               |\n",
        "| `[A-Z]`            | Match any UPPERCASE letters from A to Z\\. inclusive \\(range\\)               |\n",
        "| `[a-zA-z]`        | Match any lowercase or UPPERCASE letter\\. inclusive \\(range\\)               |\n",
        "| `[m-p2-8]`        | Ranges: matches a letter between m and p and digits from 2 to 8, but not p2 |\n",
        "| `[a-zA-Z0-9_]`  | Match any alphanumeric character                                            |\n"
      ],
      "metadata": {
        "id": "nITelsfu8xWY"
      }
    },
    {
      "cell_type": "markdown",
      "source": [
        "## The findall() Function\n",
        "The `findall()` function returns a list containing all matches."
      ],
      "metadata": {
        "id": "Bwb5e_elE8Uq"
      }
    },
    {
      "cell_type": "code",
      "source": [
        "import re\n",
        "\n",
        "txt = \"The rain in Spain\"\n",
        "x = re.findall(\"ai\", txt)\n",
        "print(x)"
      ],
      "metadata": {
        "colab": {
          "base_uri": "https://localhost:8080/"
        },
        "id": "i0RagJmyFJVh",
        "outputId": "362e7c9a-319f-4749-f93a-d76259a7707e"
      },
      "execution_count": 3,
      "outputs": [
        {
          "output_type": "stream",
          "name": "stdout",
          "text": [
            "['ai', 'ai']\n"
          ]
        }
      ]
    },
    {
      "cell_type": "markdown",
      "source": [
        "The list contains the matches in the order they are found.\n",
        "\n",
        "If no matches are found, an empty list is returned:"
      ],
      "metadata": {
        "id": "Lj8feYReFQjq"
      }
    },
    {
      "cell_type": "code",
      "source": [
        "import re\n",
        "\n",
        "txt = \"The rain in Spain\"\n",
        "x = re.findall(\"Portugal\", txt)\n",
        "print(x)"
      ],
      "metadata": {
        "colab": {
          "base_uri": "https://localhost:8080/"
        },
        "id": "M7X_q01vFRn7",
        "outputId": "272705dd-1ee0-4c8a-d1b6-00490e9593f5"
      },
      "execution_count": 4,
      "outputs": [
        {
          "output_type": "stream",
          "name": "stdout",
          "text": [
            "[]\n"
          ]
        }
      ]
    },
    {
      "cell_type": "markdown",
      "source": [
        "## The search() Function\n",
        "The `search()` function searches the string for a match, and returns a Match object if there is a match.\n",
        "\n",
        "If there is more than one match, only the first occurrence of the match will be returned:"
      ],
      "metadata": {
        "id": "3D_y7pY2FWNF"
      }
    },
    {
      "cell_type": "code",
      "source": [
        "#Search for the first white-space character in the string:\n",
        "import re\n",
        "\n",
        "txt = \"The rain in Spain\"\n",
        "x = re.search(\"\\s\", txt)\n",
        "\n",
        "print(\"The first white-space character is located in position:\", x.start())"
      ],
      "metadata": {
        "colab": {
          "base_uri": "https://localhost:8080/"
        },
        "id": "KGutjEP4FnFg",
        "outputId": "d5ae187a-6d50-4481-c6a2-6fb249dfd2e9"
      },
      "execution_count": 5,
      "outputs": [
        {
          "output_type": "stream",
          "name": "stdout",
          "text": [
            "The first white-space character is located in position: 3\n"
          ]
        }
      ]
    },
    {
      "cell_type": "markdown",
      "source": [
        "If no matches are found, the value `None` is returned:"
      ],
      "metadata": {
        "id": "SwZPo6nsFnex"
      }
    },
    {
      "cell_type": "code",
      "source": [
        "import re\n",
        "\n",
        "txt = \"The rain in Spain\"\n",
        "x = re.search(\"Portugal\", txt)\n",
        "print(x)"
      ],
      "metadata": {
        "colab": {
          "base_uri": "https://localhost:8080/"
        },
        "id": "VQS94BiWF4k-",
        "outputId": "650774fa-03e9-491b-afe8-17bd72c176d8"
      },
      "execution_count": 6,
      "outputs": [
        {
          "output_type": "stream",
          "name": "stdout",
          "text": [
            "None\n"
          ]
        }
      ]
    },
    {
      "cell_type": "markdown",
      "source": [
        "## The split() Function\n",
        "The `split()` function returns a list where the string has been split at each match:"
      ],
      "metadata": {
        "id": "D-ybwpwVGyC1"
      }
    },
    {
      "cell_type": "code",
      "source": [
        "#Split at each white-space character:\n",
        "import re\n",
        "\n",
        "txt = \"The rain in Spain\"\n",
        "x = re.split(\"\\s\", txt)\n",
        "print(x)"
      ],
      "metadata": {
        "colab": {
          "base_uri": "https://localhost:8080/"
        },
        "id": "iZcG-TGLG4a_",
        "outputId": "d693e5c3-bc57-4264-ab3b-4e9bb603b5c9"
      },
      "execution_count": 7,
      "outputs": [
        {
          "output_type": "stream",
          "name": "stdout",
          "text": [
            "['The', 'rain', 'in', 'Spain']\n"
          ]
        }
      ]
    },
    {
      "cell_type": "markdown",
      "source": [
        "You can control the number of occurrences by specifying the `maxsplit` parameter:"
      ],
      "metadata": {
        "id": "0pGycTcVHAv6"
      }
    },
    {
      "cell_type": "code",
      "source": [
        "#Split the string only at the first occurrence:\n",
        "import re\n",
        "\n",
        "txt = \"The rain in Spain\"\n",
        "x = re.split(\"\\s\", txt, 1)\n",
        "print(x)"
      ],
      "metadata": {
        "colab": {
          "base_uri": "https://localhost:8080/"
        },
        "id": "tYzzq8CQHLF3",
        "outputId": "6aaf1c3b-d67e-4454-f1a8-12fe240ac88a"
      },
      "execution_count": 8,
      "outputs": [
        {
          "output_type": "stream",
          "name": "stdout",
          "text": [
            "['The', 'rain in Spain']\n"
          ]
        }
      ]
    },
    {
      "cell_type": "markdown",
      "source": [
        "## The sub() Function\n",
        "The `sub()` function replaces the matches with the text of your choice:"
      ],
      "metadata": {
        "id": "j6SRu-O1Hnwm"
      }
    },
    {
      "cell_type": "code",
      "source": [
        "#Replace every white-space character with the number 9:\n",
        "import re\n",
        "\n",
        "txt = \"The rain in Spain\"\n",
        "x = re.sub(\"\\s\", \"9\", txt)\n",
        "print(x)"
      ],
      "metadata": {
        "colab": {
          "base_uri": "https://localhost:8080/"
        },
        "id": "g6Z4DclYHyMW",
        "outputId": "d4b7da17-d467-427c-87da-ec12f1b4b510"
      },
      "execution_count": 9,
      "outputs": [
        {
          "output_type": "stream",
          "name": "stdout",
          "text": [
            "The9rain9in9Spain\n"
          ]
        }
      ]
    },
    {
      "cell_type": "markdown",
      "source": [
        "You can control the number of replacements by specifying the `count` parameter:"
      ],
      "metadata": {
        "id": "rBab2a5LH6cU"
      }
    },
    {
      "cell_type": "code",
      "source": [
        "#Replace the first 2 occurrences:\n",
        "import re\n",
        "\n",
        "txt = \"The rain in Spain\"\n",
        "x = re.sub(\"\\s\", \"9\", txt, 2)\n",
        "print(x)"
      ],
      "metadata": {
        "colab": {
          "base_uri": "https://localhost:8080/"
        },
        "id": "IFJgsMwaIIJ-",
        "outputId": "f0bf836a-b217-4889-dd0c-d24d2f7262fd"
      },
      "execution_count": 10,
      "outputs": [
        {
          "output_type": "stream",
          "name": "stdout",
          "text": [
            "The9rain9in Spain\n"
          ]
        }
      ]
    },
    {
      "cell_type": "markdown",
      "source": [
        "## Match Object\n",
        "A Match Object is an object containing information about the search and the result."
      ],
      "metadata": {
        "id": "HAB8VxFoIlRP"
      }
    },
    {
      "cell_type": "markdown",
      "source": [
        "**Note**: If there is no match, the value `None` will be returned, instead of the Match Object."
      ],
      "metadata": {
        "id": "lx53FzvsIpPl"
      }
    },
    {
      "cell_type": "code",
      "source": [
        "import re\n",
        "\n",
        "txt = \"The rain in Spain\"\n",
        "x = re.search(\"ai\", txt)\n",
        "print(x) #this will print an object"
      ],
      "metadata": {
        "colab": {
          "base_uri": "https://localhost:8080/"
        },
        "id": "-wJkK7xTI2w9",
        "outputId": "c39f8839-2e11-4dd1-94b2-551d5a7c25ec"
      },
      "execution_count": 11,
      "outputs": [
        {
          "output_type": "stream",
          "name": "stdout",
          "text": [
            "<re.Match object; span=(5, 7), match='ai'>\n"
          ]
        }
      ]
    },
    {
      "cell_type": "markdown",
      "source": [
        "The Match object has properties and methods used to retrieve information about the search, and the result:\n",
        "\n",
        "`.span()` returns a tuple containing the start-, and end positions of the match.\n",
        "\n",
        "`.string` returns the string passed into the function\n",
        "\n",
        "`.group()` returns the part of the string where there was a match"
      ],
      "metadata": {
        "id": "QNQQ7uYCI8BD"
      }
    },
    {
      "cell_type": "code",
      "source": [
        "#Print the position (start- and end-position) of the first match occurrence.\n",
        "#The regular expression looks for any words that starts with an upper case \"S\":\n",
        "import re\n",
        "\n",
        "txt = \"The rain in Spain\"\n",
        "x = re.search(r\"\\bS\\w+\", txt)\n",
        "print(x.span())"
      ],
      "metadata": {
        "colab": {
          "base_uri": "https://localhost:8080/"
        },
        "id": "XzrbFKqEJMtT",
        "outputId": "7c07285c-9061-4613-8cb9-3d316fec8beb"
      },
      "execution_count": 12,
      "outputs": [
        {
          "output_type": "stream",
          "name": "stdout",
          "text": [
            "(12, 17)\n"
          ]
        }
      ]
    },
    {
      "cell_type": "code",
      "source": [
        "#Print the string passed into the function:\n",
        "import re\n",
        "\n",
        "txt = \"The rain in Spain\"\n",
        "x = re.search(r\"\\bS\\w+\", txt)\n",
        "print(x.string)"
      ],
      "metadata": {
        "colab": {
          "base_uri": "https://localhost:8080/"
        },
        "id": "W8LjPoNbJaEG",
        "outputId": "073544e8-8164-45a8-aff6-e6016971f921"
      },
      "execution_count": 13,
      "outputs": [
        {
          "output_type": "stream",
          "name": "stdout",
          "text": [
            "The rain in Spain\n"
          ]
        }
      ]
    },
    {
      "cell_type": "code",
      "source": [
        "#Print the part of the string where there was a match.\n",
        "#The regular expression looks for any words that starts with an upper case \"S\":\n",
        "import re\n",
        "\n",
        "txt = \"The rain in Spain\"\n",
        "x = re.search(r\"\\bS\\w+\", txt)\n",
        "print(x.group())"
      ],
      "metadata": {
        "colab": {
          "base_uri": "https://localhost:8080/"
        },
        "id": "gkXHBmuIJd07",
        "outputId": "9f87d5e7-70cb-4798-83b9-c2092547008b"
      },
      "execution_count": 14,
      "outputs": [
        {
          "output_type": "stream",
          "name": "stdout",
          "text": [
            "Spain\n"
          ]
        }
      ]
    }
  ]
}