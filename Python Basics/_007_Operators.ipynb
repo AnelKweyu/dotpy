{
  "nbformat": 4,
  "nbformat_minor": 0,
  "metadata": {
    "colab": {
      "provenance": [],
      "authorship_tag": "ABX9TyNo7ChDsqYbzWnMc7O5S5ph",
      "include_colab_link": true
    },
    "kernelspec": {
      "name": "python3",
      "display_name": "Python 3"
    },
    "language_info": {
      "name": "python"
    }
  },
  "cells": [
    {
      "cell_type": "markdown",
      "metadata": {
        "id": "view-in-github",
        "colab_type": "text"
      },
      "source": [
        "<a href=\"https://colab.research.google.com/github/AnelKweyu/Python-Guide/blob/master/_7_Operators.ipynb\" target=\"_parent\"><img src=\"https://colab.research.google.com/assets/colab-badge.svg\" alt=\"Open In Colab\"/></a>"
      ]
    },
    {
      "cell_type": "markdown",
      "source": [
        "Operators are used to perform operations on variables and values."
      ],
      "metadata": {
        "id": "5nACHzp3vqt6"
      }
    },
    {
      "cell_type": "markdown",
      "source": [
        "### Python divides the operators in the following groups:\n",
        "- Arithmetic operators\n",
        "- Assignment operators\n",
        "- Comparison operators\n",
        "- Logical operators\n",
        "- Identity operators\n",
        "- Membership operators\n",
        "- Bitwise operators"
      ],
      "metadata": {
        "id": "uhfxC5ecvxkC"
      }
    },
    {
      "cell_type": "markdown",
      "source": [
        "## Python Arithmetic Operators\n"
      ],
      "metadata": {
        "id": "ZPKuSnP5v_k9"
      }
    },
    {
      "cell_type": "markdown",
      "source": [
        "| **Operator** | **Name**       | **Example** |\n",
        "|:------------:|:--------------:|:-----------:|\n",
        "| `+`            | Addition       | x + y       |\n",
        "| `-`            | Subtraction    | x - y       |\n",
        "| `*`            | Multiplication | x * y       |\n",
        "| `/`            | Division       | x / y       |\n",
        "| `%`            | Modulus        | x % y       |\n",
        "| `**`           | Exponentiation | x ** y      |\n",
        "| `//`           | Floor division | x // y      |\n"
      ],
      "metadata": {
        "id": "hyf9OsNKxBBF"
      }
    },
    {
      "cell_type": "markdown",
      "source": [
        "## Python Assignment Operators"
      ],
      "metadata": {
        "id": "TmfvELTSxRFc"
      }
    },
    {
      "cell_type": "markdown",
      "source": [
        "| **Operator** | **Example**   | **Same As**      |\n",
        "|:------------:|:-------------:|:----------------:|\n",
        "| `=`            | x = 5         | x = 5            |\n",
        "| `+=`           | x += 3        | x = x + 3        |\n",
        "| `-=`           | x -= 3        | x = x - 3        |\n",
        "| `*=`           | x *= 3        | x = x * 3        |\n",
        "| `/=`           | x /= 3        | x = x / 3        |\n",
        "| `%=`           | x %= 3        | x = x % 3        |\n",
        "| `//=`          | x //= 3       | x = x // 3       |\n",
        "| `**=`          | x **= 3       | x = x ** 3       |\n",
        "| `&=`       | x &amp;= 3    | x = x &amp; 3    |\n",
        "| `\\|=`           | x \\|= 3        | x = x \\| 3        |\n",
        "| `^=`           | x ^= 3        | x = x ^ 3        |\n",
        "| `>>=`    | x &gt;&gt;= 3 | x = x &gt;&gt; 3 |\n",
        "| `<<=`    | x &lt;&lt;= 3 | x = x &lt;&lt; 3 |\n"
      ],
      "metadata": {
        "id": "v9axCTwYx96U"
      }
    },
    {
      "cell_type": "markdown",
      "source": [
        "## Python Comparison Operators"
      ],
      "metadata": {
        "id": "1v369Bs6yAs4"
      }
    },
    {
      "cell_type": "markdown",
      "source": [
        "| **Operator** | **Name**                 | **Example** |\n",
        "|:------------:|:------------------------:|:-----------:|\n",
        "| `==`           | Equal                    | x == y      |\n",
        "| `!=`           | Not equal                | x != y      |\n",
        "| `>`         | Greater than             | x &gt; y    |\n",
        "| `<`         | Less than                | x &lt; y    |\n",
        "| `>=`        | Greater than or equal to | x &gt;= y   |\n",
        "| `<=`        | Less than or equal to    | x &lt;= y   |\n"
      ],
      "metadata": {
        "id": "dVb_yLAMyYyr"
      }
    },
    {
      "cell_type": "markdown",
      "source": [
        "##Python Logical Operators"
      ],
      "metadata": {
        "id": "X9mWVPa3ysn7"
      }
    },
    {
      "cell_type": "markdown",
      "source": [
        "| **Operator** | **Description**                                         | **Example**                  |\n",
        "|:------------:|:-------------------------------------------------------:|:----------------------------:|\n",
        "| `and`    | Returns True if both statements are true                | x &lt; 5 and&nbsp; x &lt; 10 |\n",
        "| `or`          | Returns True if one of the statements is true           | x &lt; 5 or x &lt; 4         |\n",
        "| `not`          | Reverse the result, returns False if the result is true | not(x &lt; 5 and x &lt; 10)  |\n"
      ],
      "metadata": {
        "id": "HYCIS3Dky02b"
      }
    },
    {
      "cell_type": "markdown",
      "source": [
        "##Python Identity Operators"
      ],
      "metadata": {
        "id": "PYqo1JAjzEqs"
      }
    },
    {
      "cell_type": "markdown",
      "source": [
        "| **Operator** | **Description**                                        | **Example** |\n",
        "|:------------:|:------------------------------------------------------:|:-----------:|\n",
        "| `is`     | Returns True if both variables are the same object     | x is y      |\n",
        "| `is not`       | Returns True if both variables are not the same object | x is not y  |\n"
      ],
      "metadata": {
        "id": "TJ62XoQBzJ-h"
      }
    },
    {
      "cell_type": "markdown",
      "source": [
        "##Python Membership Operators"
      ],
      "metadata": {
        "id": "Z7DnIO3pzWg6"
      }
    },
    {
      "cell_type": "markdown",
      "source": [
        "| **Operator** | **Description**                                                                   | **Example** |\n",
        "|:------------:|:---------------------------------------------------------------------------------:|:-----------:|\n",
        "| `in`     | Returns True if a sequence with the specified value is present in the object      | x in y      |\n",
        "| `not in`       | Returns True if a sequence with the specified value is not present in the\n",
        "`object` | x not in y  |"
      ],
      "metadata": {
        "id": "rZncSYc4zcMg"
      }
    },
    {
      "cell_type": "markdown",
      "source": [
        "## Python Bitwise Operators"
      ],
      "metadata": {
        "id": "wcLoa_KFzprT"
      }
    },
    {
      "cell_type": "markdown",
      "source": [
        "| **Operator** | **Name**             | **Description**                                                                                          | **Example**  |\n",
        "|:------------:|:--------------------:|:--------------------------------------------------------------------------------------------------------:|:------------:|\n",
        "| `&`  | AND                  | Sets each bit to 1 if both bits are 1                                                                    | x &amp; y    |\n",
        "| `\\|`           | OR                   | Sets each bit to 1 if one of two bits is 1                                                               | x \\| y       |\n",
        "| `^`            | XOR                  | Sets each bit to 1 if only one of two bits is 1                                                          | x ^ y        |\n",
        "| `~`            | NOT                  | Inverts all the bits                                                                                     | ~x           |\n",
        "| `<<`     | Zero fill left shift | Shift left by pushing zeros in from the right and let the leftmost bits fall off| x &lt;&lt; 2 |\n",
        "| `>>`    | Signed right shift   | Shift right by pushing copies of the leftmost bit in from the left, and let the rightmost bits fall off | x &gt;&gt; 2 |\n",
        "\n",
        "\n"
      ],
      "metadata": {
        "id": "TLKSgEA_zu_e"
      }
    },
    {
      "cell_type": "markdown",
      "source": [
        "## Operator Precedence\n",
        "Operator precedence describes the order in which operations are performed."
      ],
      "metadata": {
        "id": "3AbFGk9w0S5g"
      }
    },
    {
      "cell_type": "markdown",
      "source": [
        "| **Operator**                                                                                                                      | **Description**                                       |\n",
        "|:---------------------------------------------------------------------------------------------------------------------------------:|:-----------------------------------------------------:|\n",
        "| `()`                                                                                                                                | Parentheses                                           |\n",
        "| `**`                                                                                                                                | Exponentiation                                        |\n",
        "|\n",
        "  `+x`&nbsp;  `-x`&nbsp;  `~x`                                                                                         | Unary plus, unary minus, and bitwise NOT              |\n",
        "|\n",
        "  `*`&nbsp;  `/`&nbsp;  `//`&nbsp;  `%`| Multiplication, division, floor division, and modulus |\n",
        "|\n",
        "  `+`&nbsp; `-` | Addition and subtraction                              |\n",
        "|\n",
        "  `<<` `>>`                                                                                                     | Bitwise left and right shifts                         |\n",
        "| `&`| Bitwise AND                                           |\n",
        "| `^`| Bitwise XOR                                           |\n",
        "| `\\|` | Bitwise OR                                            |\n",
        "| `==` `!=` `> ` `>=` `<` `<=` `is` `is not` `not in`| Comparisons, identity, and membership operators       |\n",
        "| `not`                                                                                                                               | Logical NOT                                           |\n",
        "| `and`                                                                                                                               | AND                                                   |\n",
        "| `or`                                                                                                                                | OR                                                    |\n"
      ],
      "metadata": {
        "id": "niqph1U22Ls4"
      }
    }
  ]
}