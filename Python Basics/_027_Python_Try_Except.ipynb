{
  "nbformat": 4,
  "nbformat_minor": 0,
  "metadata": {
    "colab": {
      "provenance": [],
      "authorship_tag": "ABX9TyMjx3Cgs9JcvrLiMI4Rw9/P",
      "include_colab_link": true
    },
    "kernelspec": {
      "name": "python3",
      "display_name": "Python 3"
    },
    "language_info": {
      "name": "python"
    }
  },
  "cells": [
    {
      "cell_type": "markdown",
      "metadata": {
        "id": "view-in-github",
        "colab_type": "text"
      },
      "source": [
        "<a href=\"https://colab.research.google.com/github/AnelKweyu/Python-Guide/blob/master/_27_Python_Try_Except.ipynb\" target=\"_parent\"><img src=\"https://colab.research.google.com/assets/colab-badge.svg\" alt=\"Open In Colab\"/></a>"
      ]
    },
    {
      "cell_type": "markdown",
      "source": [
        "# Python Try Except"
      ],
      "metadata": {
        "id": "ay9TvDaEQvog"
      }
    },
    {
      "cell_type": "markdown",
      "source": [
        "The `try` block lets you test a block of code for errors.\n",
        "\n",
        "The `except` block lets you handle the error.\n",
        "\n",
        "The `else` block lets you execute code when there is no error.\n",
        "\n",
        "The `finally` block lets you execute code, regardless of the result of the try- and except blocks."
      ],
      "metadata": {
        "id": "2XGUXm5dQ7Md"
      }
    },
    {
      "cell_type": "markdown",
      "source": [
        "## Exception Handling\n",
        "When an error occurs, or exception as we call it, Python will normally stop and generate an error message.\n",
        "\n",
        "These exceptions can be handled using the `try` statement:"
      ],
      "metadata": {
        "id": "DGHEdagq3jhw"
      }
    },
    {
      "cell_type": "code",
      "source": [
        "#The try block will generate an exception, because x is not defined:\n",
        "try:\n",
        "  print(x)\n",
        "except:\n",
        "  print(\"An exception occurred\")"
      ],
      "metadata": {
        "colab": {
          "base_uri": "https://localhost:8080/"
        },
        "id": "ndcbGZMeQk3Z",
        "outputId": "71307a1b-9a4e-4d25-f978-9aedeae4e0ea"
      },
      "execution_count": null,
      "outputs": [
        {
          "output_type": "stream",
          "name": "stdout",
          "text": [
            "An exception occurred\n"
          ]
        }
      ]
    },
    {
      "cell_type": "markdown",
      "source": [
        "Since the try block raises an error, the except block will be executed.\n",
        "\n",
        "Without the try block, the program will crash and raise an error:"
      ],
      "metadata": {
        "id": "aF9dLzxt39Xs"
      }
    },
    {
      "cell_type": "code",
      "execution_count": null,
      "metadata": {
        "colab": {
          "base_uri": "https://localhost:8080/",
          "height": 181
        },
        "id": "JoTtbugSQgk4",
        "outputId": "f52c934c-e146-47b1-f2d4-d5e12424446f"
      },
      "outputs": [
        {
          "output_type": "error",
          "ename": "NameError",
          "evalue": "name 'x' is not defined",
          "traceback": [
            "\u001b[0;31m---------------------------------------------------------------------------\u001b[0m",
            "\u001b[0;31mNameError\u001b[0m                                 Traceback (most recent call last)",
            "\u001b[0;32m<ipython-input-2-fc17d851ef81>\u001b[0m in \u001b[0;36m<cell line: 1>\u001b[0;34m()\u001b[0m\n\u001b[0;32m----> 1\u001b[0;31m \u001b[0mprint\u001b[0m\u001b[0;34m(\u001b[0m\u001b[0mx\u001b[0m\u001b[0;34m)\u001b[0m\u001b[0;34m\u001b[0m\u001b[0;34m\u001b[0m\u001b[0m\n\u001b[0m",
            "\u001b[0;31mNameError\u001b[0m: name 'x' is not defined"
          ]
        }
      ],
      "source": [
        "print(x)"
      ]
    },
    {
      "cell_type": "markdown",
      "source": [
        "## Many Exceptions\n",
        "You can define as many exception blocks as you want, e.g. if you want to execute a special block of code for a special kind of error:"
      ],
      "metadata": {
        "id": "knewqe294gNV"
      }
    },
    {
      "cell_type": "code",
      "source": [
        "#Print one message if the try block raises a NameError and another for other errors:\n",
        "try:\n",
        "  print(x)\n",
        "except NameError:\n",
        "  print(\"Variable x is not defined\")\n",
        "except:\n",
        "  print(\"Something else went wrong\")\n"
      ],
      "metadata": {
        "colab": {
          "base_uri": "https://localhost:8080/"
        },
        "id": "IwRi8psP4g1n",
        "outputId": "545e195e-6869-4011-ac46-9ea2ee831305"
      },
      "execution_count": null,
      "outputs": [
        {
          "output_type": "stream",
          "name": "stdout",
          "text": [
            "Variable x is not defined\n"
          ]
        }
      ]
    },
    {
      "cell_type": "markdown",
      "source": [
        "## Else\n",
        "You can use the `else` keyword to define a block of code to be executed if no errors were raised:"
      ],
      "metadata": {
        "id": "n3PKEvlP49LS"
      }
    },
    {
      "cell_type": "code",
      "source": [
        "try:\n",
        "  print(\"Hello\")\n",
        "except:\n",
        "  print(\"Something went wrong\")\n",
        "else:\n",
        "  print(\"Nothing went wrong\")"
      ],
      "metadata": {
        "colab": {
          "base_uri": "https://localhost:8080/"
        },
        "id": "gdTiKxRt5AsZ",
        "outputId": "8100bc64-fe73-4278-c3d4-193ef30bec32"
      },
      "execution_count": null,
      "outputs": [
        {
          "output_type": "stream",
          "name": "stdout",
          "text": [
            "Hello\n",
            "Nothing went wrong\n"
          ]
        }
      ]
    },
    {
      "cell_type": "markdown",
      "source": [
        "## Finally\n",
        "The `finally` block, if specified, will be executed regardless if the try block raises an error or not."
      ],
      "metadata": {
        "id": "6nPHnD7p5BFU"
      }
    },
    {
      "cell_type": "code",
      "source": [
        "try:\n",
        "  print(x)\n",
        "except:\n",
        "  print(\"Something went wrong\")\n",
        "finally:\n",
        "  print(\"The 'try except' is finished\")"
      ],
      "metadata": {
        "colab": {
          "base_uri": "https://localhost:8080/"
        },
        "id": "G7kGnKsV5OGI",
        "outputId": "4d232da4-3ca2-40c4-f524-45570f3f42be"
      },
      "execution_count": null,
      "outputs": [
        {
          "output_type": "stream",
          "name": "stdout",
          "text": [
            "Something went wrong\n",
            "The 'try except' is finished\n"
          ]
        }
      ]
    },
    {
      "cell_type": "markdown",
      "source": [
        "This can be useful to close objects and clean up resources:"
      ],
      "metadata": {
        "id": "WTRIceat5OuU"
      }
    },
    {
      "cell_type": "code",
      "source": [
        "#Try to open and write to a file that is not writable:\n",
        "try:\n",
        "  f = open(\"demofile.txt\")\n",
        "  try:\n",
        "    f.write(\"Lorum Ipsum\")\n",
        "  except:\n",
        "    print(\"Something went wrong when writing to the file\")\n",
        "  finally:\n",
        "    f.close()\n",
        "except:\n",
        "  print(\"Something went wrong when opening the file\")"
      ],
      "metadata": {
        "colab": {
          "base_uri": "https://localhost:8080/"
        },
        "id": "BRA2j7NT5mKs",
        "outputId": "d1f669e3-7a42-4658-b9ff-2382b94c14c9"
      },
      "execution_count": null,
      "outputs": [
        {
          "output_type": "stream",
          "name": "stdout",
          "text": [
            "Something went wrong when opening the file\n"
          ]
        }
      ]
    },
    {
      "cell_type": "markdown",
      "source": [
        "The program can continue, without leaving the file object open."
      ],
      "metadata": {
        "id": "a0OuVyV_5mph"
      }
    },
    {
      "cell_type": "markdown",
      "source": [
        "## Raise an exception\n",
        "As a Python developer you can choose to throw an exception if a condition occurs.\n",
        "\n",
        "To throw (or raise) an exception, use the `raise` keyword."
      ],
      "metadata": {
        "id": "9A6KIJJu5s7b"
      }
    },
    {
      "cell_type": "code",
      "source": [
        "#Raise an error and stop the program if x is lower than 0:\n",
        "\n",
        "x = -1\n",
        "\n",
        "if x < 0:\n",
        "  raise Exception(\"Sorry, no numbers below zero\")"
      ],
      "metadata": {
        "colab": {
          "base_uri": "https://localhost:8080/",
          "height": 217
        },
        "id": "x8Z-xh5W6DfE",
        "outputId": "d9cbfc2e-2e69-43fc-a8c3-6d927a48c3cd"
      },
      "execution_count": null,
      "outputs": [
        {
          "output_type": "error",
          "ename": "Exception",
          "evalue": "Sorry, no numbers below zero",
          "traceback": [
            "\u001b[0;31m---------------------------------------------------------------------------\u001b[0m",
            "\u001b[0;31mException\u001b[0m                                 Traceback (most recent call last)",
            "\u001b[0;32m<ipython-input-7-ab80e4044a59>\u001b[0m in \u001b[0;36m<cell line: 5>\u001b[0;34m()\u001b[0m\n\u001b[1;32m      4\u001b[0m \u001b[0;34m\u001b[0m\u001b[0m\n\u001b[1;32m      5\u001b[0m \u001b[0;32mif\u001b[0m \u001b[0mx\u001b[0m \u001b[0;34m<\u001b[0m \u001b[0;36m0\u001b[0m\u001b[0;34m:\u001b[0m\u001b[0;34m\u001b[0m\u001b[0;34m\u001b[0m\u001b[0m\n\u001b[0;32m----> 6\u001b[0;31m   \u001b[0;32mraise\u001b[0m \u001b[0mException\u001b[0m\u001b[0;34m(\u001b[0m\u001b[0;34m\"Sorry, no numbers below zero\"\u001b[0m\u001b[0;34m)\u001b[0m\u001b[0;34m\u001b[0m\u001b[0;34m\u001b[0m\u001b[0m\n\u001b[0m",
            "\u001b[0;31mException\u001b[0m: Sorry, no numbers below zero"
          ]
        }
      ]
    },
    {
      "cell_type": "markdown",
      "source": [
        "The `raise` keyword is used to raise an exception.\n",
        "\n",
        "You can define what kind of error to raise, and the text to print to the user."
      ],
      "metadata": {
        "id": "4OwL5dFR6EHT"
      }
    },
    {
      "cell_type": "code",
      "source": [
        "x = \"hello\"\n",
        "\n",
        "if not type(x) is int:\n",
        "  raise TypeError(\"Only integers are allowed\")"
      ],
      "metadata": {
        "colab": {
          "base_uri": "https://localhost:8080/",
          "height": 217
        },
        "id": "aVOaSMKp6L2a",
        "outputId": "317732f9-0ad5-4227-9f49-8546b6323319"
      },
      "execution_count": null,
      "outputs": [
        {
          "output_type": "error",
          "ename": "TypeError",
          "evalue": "Only integers are allowed",
          "traceback": [
            "\u001b[0;31m---------------------------------------------------------------------------\u001b[0m",
            "\u001b[0;31mTypeError\u001b[0m                                 Traceback (most recent call last)",
            "\u001b[0;32m<ipython-input-8-bc91768a6271>\u001b[0m in \u001b[0;36m<cell line: 3>\u001b[0;34m()\u001b[0m\n\u001b[1;32m      2\u001b[0m \u001b[0;34m\u001b[0m\u001b[0m\n\u001b[1;32m      3\u001b[0m \u001b[0;32mif\u001b[0m \u001b[0;32mnot\u001b[0m \u001b[0mtype\u001b[0m\u001b[0;34m(\u001b[0m\u001b[0mx\u001b[0m\u001b[0;34m)\u001b[0m \u001b[0;32mis\u001b[0m \u001b[0mint\u001b[0m\u001b[0;34m:\u001b[0m\u001b[0;34m\u001b[0m\u001b[0;34m\u001b[0m\u001b[0m\n\u001b[0;32m----> 4\u001b[0;31m   \u001b[0;32mraise\u001b[0m \u001b[0mTypeError\u001b[0m\u001b[0;34m(\u001b[0m\u001b[0;34m\"Only integers are allowed\"\u001b[0m\u001b[0;34m)\u001b[0m\u001b[0;34m\u001b[0m\u001b[0;34m\u001b[0m\u001b[0m\n\u001b[0m",
            "\u001b[0;31mTypeError\u001b[0m: Only integers are allowed"
          ]
        }
      ]
    },
    {
      "cell_type": "markdown",
      "source": [
        "# Python Built-in Exceptions"
      ],
      "metadata": {
        "id": "roKXQYLgQT0T"
      }
    },
    {
      "cell_type": "markdown",
      "source": [
        "<table class=\"ws-table-all notranslate\" style=\"margin:0\">\n",
        "  <tbody>\n",
        "    <tr>\n",
        "      <th style=\"width:22%\">Exception</th>\n",
        "      <th style=\"width:78%\">Description</th>\n",
        "    </tr>\n",
        "    <tr>\n",
        "      <td>\n",
        "        ArithmeticError\n",
        "      </td>\n",
        "      <td>\n",
        "      Raised when an error occurs in numeric calculations</td>\n",
        "    </tr>\n",
        "    <tr>\n",
        "      <td>\n",
        "        AssertionError\n",
        "      </td>\n",
        "      <td>\n",
        "        Raised when an assert statement fails</td>\n",
        "    </tr>\n",
        "    <tr>\n",
        "      <td>\n",
        "        AttributeError\n",
        "      </td>\n",
        "      <td>\n",
        "      Raised when attribute reference or assignment fails</td>\n",
        "    </tr>\n",
        "    <tr>\n",
        "      <td>\n",
        "        Exception\n",
        "      </td>\n",
        "      <td>\n",
        "      Base class for all exceptions</td>\n",
        "    </tr>\n",
        "    <tr>\n",
        "      <td>\n",
        "        EOFError\n",
        "      </td>\n",
        "      <td>\n",
        "      Raised when\n",
        "      the input() method hits an \"end of file\" condition (EOF)</td>\n",
        "    </tr>\n",
        "    <tr>\n",
        "      <td>\n",
        "        FloatingPointError\n",
        "      </td>\n",
        "      <td>\n",
        "      Raised when a floating point calculation fails</td>\n",
        "    </tr>\n",
        "    <tr>\n",
        "      <td>\n",
        "        GeneratorExit\n",
        "      </td>\n",
        "      <td>\n",
        "      Raised when a generator is closed (with the close() method)</td>\n",
        "    </tr>\n",
        "    <tr>\n",
        "      <td>\n",
        "        ImportError\n",
        "      </td>\n",
        "      <td>\n",
        "      Raised when an imported module does not exist</td>\n",
        "    </tr>\n",
        "    <tr>\n",
        "      <td>\n",
        "        IndentationError\n",
        "      </td>\n",
        "      <td>\n",
        "      Raised when indentation is not correct</td>\n",
        "    </tr>\n",
        "    <tr>\n",
        "      <td>\n",
        "        IndexError\n",
        "      </td>\n",
        "      <td>\n",
        "      Raised when an index of a sequence does not exist</td>\n",
        "    </tr>\n",
        "    <tr>\n",
        "      <td>\n",
        "        KeyError\n",
        "      </td>\n",
        "      <td>\n",
        "      Raised when a key does not exist in a dictionary\n",
        "      </td>\n",
        "    </tr>\n",
        "    <tr>\n",
        "      <td>\n",
        "        KeyboardInterrupt\n",
        "      </td>\n",
        "      <td>\n",
        "      Raised when the user presses Ctrl+c,\n",
        "      Ctrl+z or Delete</td>\n",
        "    </tr>\n",
        "    <tr>\n",
        "      <td>\n",
        "        LookupError\n",
        "      </td>\n",
        "      <td>\n",
        "      Raised when errors raised cant be found\n",
        "      </td>\n",
        "    </tr>\n",
        "    <tr>\n",
        "      <td>\n",
        "        MemoryError\n",
        "      </td>\n",
        "      <td>\n",
        "      Raised when a program runs out of memory</td>\n",
        "    </tr>\n",
        "    <tr>\n",
        "      <td>\n",
        "        NameError\n",
        "      </td>\n",
        "      <td>\n",
        "      Raised when a variable does not exist</td>\n",
        "    </tr>\n",
        "    <tr>\n",
        "      <td>\n",
        "        NotImplementedError\n",
        "      </td>\n",
        "      <td>\n",
        "      Raised when an abstract method requires an inherited class to override the\n",
        "      method</td>\n",
        "    </tr>\n",
        "    <tr>\n",
        "      <td>\n",
        "        OSError\n",
        "      </td>\n",
        "      <td>\n",
        "      Raised when a system related operation causes an error </td>\n",
        "    </tr>\n",
        "    <tr>\n",
        "      <td>\n",
        "        OverflowError\n",
        "      </td>\n",
        "      <td>\n",
        "      Raised when the result of a numeric calculation is too large</td>\n",
        "    </tr>\n",
        "    <tr>\n",
        "      <td>\n",
        "        ReferenceError\n",
        "      </td>\n",
        "      <td>\n",
        "      Raised when a weak reference object does not exist</td>\n",
        "    </tr>\n",
        "    <tr>\n",
        "      <td>\n",
        "        RuntimeError\n",
        "      </td>\n",
        "      <td>\n",
        "      Raised when an error occurs that do not belong to any specific exceptions</td>\n",
        "    </tr>\n",
        "    <tr>\n",
        "      <td>\n",
        "        StopIteration\n",
        "      </td>\n",
        "      <td>\n",
        "      Raised when the next() method of an iterator has no further values</td>\n",
        "    </tr>\n",
        "    <tr>\n",
        "      <td>\n",
        "        SyntaxError\n",
        "      </td>\n",
        "      <td>\n",
        "      Raised when a syntax error occurs</td>\n",
        "    </tr>\n",
        "    <tr>\n",
        "      <td>\n",
        "        TabError\n",
        "      </td>\n",
        "      <td>\n",
        "      Raised when indentation consists of tabs or spaces</td>\n",
        "    </tr>\n",
        "    <tr>\n",
        "      <td>\n",
        "        SystemError\n",
        "      </td>\n",
        "      <td>\n",
        "      Raised when a system error occurs</td>\n",
        "    </tr>\n",
        "    <tr>\n",
        "      <td>\n",
        "        SystemExit\n",
        "      </td>\n",
        "      <td>\n",
        "      Raised when the sys.exit() function is called</td>\n",
        "    </tr>\n",
        "    <tr>\n",
        "      <td>\n",
        "        TypeError\n",
        "      </td>\n",
        "      <td>\n",
        "      Raised when two different types are combined</td>\n",
        "    </tr>\n",
        "    <tr>\n",
        "      <td>\n",
        "        UnboundLocalError\n",
        "      </td>\n",
        "      <td>\n",
        "      Raised when a local variable is referenced before assignment</td>\n",
        "    </tr>\n",
        "    <tr>\n",
        "      <td>\n",
        "        UnicodeError\n",
        "      </td>\n",
        "      <td>\n",
        "      Raised when a unicode problem occurs</td>\n",
        "    </tr>\n",
        "    <tr>\n",
        "      <td>\n",
        "        UnicodeEncodeError\n",
        "      </td>\n",
        "      <td>\n",
        "      Raised when a unicode encoding problem occurs</td>\n",
        "    </tr>\n",
        "    <tr>\n",
        "      <td>\n",
        "        UnicodeDecodeError\n",
        "      </td>\n",
        "      <td>\n",
        "      Raised when a unicode decoding problem occurs</td>\n",
        "    </tr>\n",
        "    <tr>\n",
        "      <td>\n",
        "        UnicodeTranslateError\n",
        "      </td>\n",
        "      <td>\n",
        "      Raised when a unicode translation problem occurs</td>\n",
        "    </tr>\n",
        "    <tr>\n",
        "      <td>\n",
        "        ValueError\n",
        "      </td>\n",
        "      <td>\n",
        "      Raised when there is a wrong value in a specified data type</td>\n",
        "    </tr>\n",
        "    <tr>\n",
        "      <td>\n",
        "        ZeroDivisionError\n",
        "      </td>\n",
        "      <td>\n",
        "      Raised when the second operator in a division is zero</td>\n",
        "    </tr>\n",
        "  </tbody>\n",
        "</table>"
      ],
      "metadata": {
        "id": "KJagiNR6QW_x"
      }
    }
  ]
}