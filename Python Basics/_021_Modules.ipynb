{
  "nbformat": 4,
  "nbformat_minor": 0,
  "metadata": {
    "colab": {
      "provenance": [],
      "authorship_tag": "ABX9TyNlCEKUvXpQbT0BSH8m4Frk",
      "include_colab_link": true
    },
    "kernelspec": {
      "name": "python3",
      "display_name": "Python 3"
    },
    "language_info": {
      "name": "python"
    }
  },
  "cells": [
    {
      "cell_type": "markdown",
      "metadata": {
        "id": "view-in-github",
        "colab_type": "text"
      },
      "source": [
        "<a href=\"https://colab.research.google.com/github/AnelKweyu/Python-Guide/blob/master/_21_Modules.ipynb\" target=\"_parent\"><img src=\"https://colab.research.google.com/assets/colab-badge.svg\" alt=\"Open In Colab\"/></a>"
      ]
    },
    {
      "cell_type": "markdown",
      "source": [
        "## What is a Module?\n",
        "Consider a module to be the same as a code library.\n",
        "\n",
        "A file containing a set of functions you want to include in your application."
      ],
      "metadata": {
        "id": "vipyelYuB6kQ"
      }
    },
    {
      "cell_type": "markdown",
      "source": [
        "## Create a Module\n",
        "To create a module just save the code you want in a file with the file extension `.py`"
      ],
      "metadata": {
        "id": "Wbc0BHhyCC5j"
      }
    },
    {
      "cell_type": "markdown",
      "source": [
        "Save this code in a file named `mymodule.py`"
      ],
      "metadata": {
        "id": "GgsdLQNICKwI"
      }
    },
    {
      "cell_type": "code",
      "source": [
        "def greeting(name):\n",
        "  print(\"Hello, \" + name)"
      ],
      "metadata": {
        "id": "Wk7LC9DzCN3G"
      },
      "execution_count": null,
      "outputs": []
    },
    {
      "cell_type": "markdown",
      "source": [
        "## Use a Module\n",
        "Now we can use the module we just created, by using the `import` statement:"
      ],
      "metadata": {
        "id": "yCCthizuCQL8"
      }
    },
    {
      "cell_type": "code",
      "source": [
        "import mymodule\n",
        "\n",
        "mymodule.greeting(\"Kweyu\")"
      ],
      "metadata": {
        "id": "RA8k6TOICVnz"
      },
      "execution_count": null,
      "outputs": []
    },
    {
      "cell_type": "markdown",
      "source": [
        "**Note**: When using a function from a module, use the syntax: `module_name.function_name`."
      ],
      "metadata": {
        "id": "9P-UuUxeCc13"
      }
    },
    {
      "cell_type": "markdown",
      "source": [
        "## Variables in Module\n",
        "The module can contain functions, as already described, but also variables of all types (arrays, dictionaries, objects etc):"
      ],
      "metadata": {
        "id": "vcV6tHySC3YO"
      }
    },
    {
      "cell_type": "markdown",
      "source": [
        "Save this code in the file `mymodule.py`"
      ],
      "metadata": {
        "id": "-hQqA641C8o7"
      }
    },
    {
      "cell_type": "code",
      "source": [
        "person1 = {\n",
        "  \"name\": \"John\",\n",
        "  \"age\": 36,\n",
        "  \"country\": \"Norway\"\n",
        "}"
      ],
      "metadata": {
        "id": "d2kdlJoRC-pm"
      },
      "execution_count": null,
      "outputs": []
    },
    {
      "cell_type": "code",
      "source": [
        "import mymodule\n",
        "\n",
        "a = mymodule.person1[\"age\"]\n",
        "print(a)"
      ],
      "metadata": {
        "id": "Vlptwg9bDLe8"
      },
      "execution_count": null,
      "outputs": []
    },
    {
      "cell_type": "markdown",
      "source": [
        "## Naming a Module\n",
        "You can name the module file whatever you like, but it must have the file extension `.py`"
      ],
      "metadata": {
        "id": "ECMKKMg9DPo_"
      }
    },
    {
      "cell_type": "markdown",
      "source": [
        "## Re-naming a Module\n",
        "You can create an alias when you import a module, by using the `as` keyword"
      ],
      "metadata": {
        "id": "zy1txKuiDV4W"
      }
    },
    {
      "cell_type": "code",
      "source": [
        "import mymodule as mx\n",
        "\n",
        "a = mx.person1[\"age\"]\n",
        "print(a)"
      ],
      "metadata": {
        "id": "W2LiuY5YDX1R"
      },
      "execution_count": null,
      "outputs": []
    },
    {
      "cell_type": "markdown",
      "source": [
        "## Built-in Modules\n",
        "There are several built-in modules in Python, which you can import whenever you like."
      ],
      "metadata": {
        "id": "2YqGY3VGDgI8"
      }
    },
    {
      "cell_type": "code",
      "source": [
        "import platform\n",
        "\n",
        "x = platform.system()\n",
        "print(x)"
      ],
      "metadata": {
        "id": "NNoZVC56Dh7m"
      },
      "execution_count": null,
      "outputs": []
    },
    {
      "cell_type": "markdown",
      "source": [
        "## Using the `dir()` Function\n",
        "There is a built-in function to list all the function names (or variable names) in a module. The `dir()` function:"
      ],
      "metadata": {
        "id": "4ZrOb69tDlsm"
      }
    },
    {
      "cell_type": "code",
      "source": [
        "import platform\n",
        "\n",
        "x = dir(platform)\n",
        "print(x)"
      ],
      "metadata": {
        "id": "9kWQWzdoDyxh"
      },
      "execution_count": null,
      "outputs": []
    },
    {
      "cell_type": "markdown",
      "source": [
        "**Note**: The `dir()` function can be used on all modules, also the ones you create yourself."
      ],
      "metadata": {
        "id": "urcxk3CpD7jq"
      }
    },
    {
      "cell_type": "markdown",
      "source": [
        "## Import From Module\n",
        "You can choose to import only parts from a module, by using the `from` keyword."
      ],
      "metadata": {
        "id": "jSxs9zXmEBUh"
      }
    },
    {
      "cell_type": "code",
      "source": [
        "def greeting(name):\n",
        "  print(\"Hello, \" + name)\n",
        "\n",
        "person1 = {\n",
        "  \"name\": \"John\",\n",
        "  \"age\": 36,\n",
        "  \"country\": \"Norway\"\n",
        "}"
      ],
      "metadata": {
        "id": "6bXGdz6HEDQk"
      },
      "execution_count": null,
      "outputs": []
    },
    {
      "cell_type": "code",
      "source": [
        "from mymodule import person1\n",
        "\n",
        "print (person1[\"age\"])"
      ],
      "metadata": {
        "id": "JZ5QM_xAEG6a"
      },
      "execution_count": null,
      "outputs": []
    },
    {
      "cell_type": "markdown",
      "source": [
        "**Note**: When importing using the from keyword, do not use the module name when referring to elements in the module. Example: `person1[\"age\"]`, not ~~mymodule.person1[\"age\"]~~`"
      ],
      "metadata": {
        "id": "1aKKmTMoEO0y"
      }
    }
  ]
}