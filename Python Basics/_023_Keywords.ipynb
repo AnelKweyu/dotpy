{
  "nbformat": 4,
  "nbformat_minor": 0,
  "metadata": {
    "colab": {
      "provenance": [],
      "authorship_tag": "ABX9TyMWk5hUd0YENAXkfuP11gMP",
      "include_colab_link": true
    },
    "kernelspec": {
      "name": "python3",
      "display_name": "Python 3"
    },
    "language_info": {
      "name": "python"
    }
  },
  "cells": [
    {
      "cell_type": "markdown",
      "metadata": {
        "id": "view-in-github",
        "colab_type": "text"
      },
      "source": [
        "<a href=\"https://colab.research.google.com/github/AnelKweyu/Python-Guide/blob/master/_23_Keywords.ipynb\" target=\"_parent\"><img src=\"https://colab.research.google.com/assets/colab-badge.svg\" alt=\"Open In Colab\"/></a>"
      ]
    },
    {
      "cell_type": "markdown",
      "source": [
        "# Python Keywords\n",
        "| **Keyword** | **Description**                                                                                                 |\n",
        "|:-----------:|:---------------------------------------------------------------------------------------------------------------:|\n",
        "| `and`         | A logical operator                                                                                              |\n",
        "| `as`          | To create an alias                                                                                              |\n",
        "| `assert`      | For debugging                                                                                                   |\n",
        "| `break`       | To break out of a loop                                                                                          |\n",
        "| `class`       | To define a class                                                                                               |\n",
        "| `continue`    | To continue to the next iteration of a loop                                                                |\n",
        "| `def`         | To define a function                                                                                            |\n",
        "| `del`         | To delete an object                                                                                             |\n",
        "| `elif`        | Used in conditional statements, same as else if                                                            |\n",
        "| `else`        | Used in conditional statements                                                                             |\n",
        "| `except`      | Used with exceptions, what to do when an exception occurs                                                  |\n",
        "| `False`       | Boolean value, result of comparison operations                                                             |\n",
        "| `finally`     | Used with exceptions, a block of code that will be executed no matter if there is an exception or not |\n",
        "| `for`         | To create a for ;oop                                                                                            |\n",
        "| `from`        | To import specific parts of a module                                                                       |\n",
        "| `global`      | To declare a global variable                                                                               |\n",
        "| `if`          | To make a conditional     statement                                                                            |\n",
        "| `import`      | To import a module                                                                                              |\n",
        "| `in`          | To check if a value is present in a list, tuple, etc.                                                      |\n",
        "| `is`          | To test if two variables are     equal                                                                         |\n",
        "| `lambda`      | To create an anonymous     function                                                                            |\n",
        "| `None`        | Represents a null value                                                                                         |\n",
        "| `nonlocal`    | To declare a non-local variable                                                                            |\n",
        "| `not`         | A logical operator                                                                                              |\n",
        "| `or`          | A logical operator                                                                                              |\n",
        "| `pass`        | A null statement, a statement that will nothing                                                           |\n",
        "| `raise`       | To raise an exception                                                                                           |\n",
        "| `return`      | To exit a function and return a value                                                                        |\n",
        "| `True`       | Boolean value, result of comparison operations                                                             |\n",
        "| `try`         | To make a try...except statement                                                                             |\n",
        "| `while`       | To create a while loop                                                                                          |\n",
        "| `with`        | Used to simplify exception handling                                                                          |\n",
        "| `yield`       | To end a function, returns a generator                                                                       |\n"
      ],
      "metadata": {
        "id": "s2QKmGSPOlHS"
      }
    }
  ]
}