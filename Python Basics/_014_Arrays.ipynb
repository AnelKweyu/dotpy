{
  "nbformat": 4,
  "nbformat_minor": 0,
  "metadata": {
    "colab": {
      "provenance": [],
      "authorship_tag": "ABX9TyO8SEnCn4QwGtha/s8eknUE",
      "include_colab_link": true
    },
    "kernelspec": {
      "name": "python3",
      "display_name": "Python 3"
    },
    "language_info": {
      "name": "python"
    }
  },
  "cells": [
    {
      "cell_type": "markdown",
      "metadata": {
        "id": "view-in-github",
        "colab_type": "text"
      },
      "source": [
        "<a href=\"https://colab.research.google.com/github/AnelKweyu/Python-Guide/blob/master/_14_Arrays.ipynb\" target=\"_parent\"><img src=\"https://colab.research.google.com/assets/colab-badge.svg\" alt=\"Open In Colab\"/></a>"
      ]
    },
    {
      "cell_type": "markdown",
      "source": [
        "**Note**: Python does not have built-in support for Arrays, but Python Lists can be used instead."
      ],
      "metadata": {
        "id": "8TvjbrDMCRfB"
      }
    },
    {
      "cell_type": "markdown",
      "source": [
        "**Note**: This shows you how to use LISTS as ARRAYS, however, to work with arrays in Python you will have to import a library, like the NumPy library."
      ],
      "metadata": {
        "id": "7e65DZ_bChXE"
      }
    },
    {
      "cell_type": "markdown",
      "source": [
        "Arrays are used to store multiple values in one single variable:"
      ],
      "metadata": {
        "id": "KUIiWmEQCrmk"
      }
    },
    {
      "cell_type": "code",
      "source": [
        "cars = [\"Ford\", \"Volvo\", \"BMW\"]"
      ],
      "metadata": {
        "id": "C2flMcuzCqzA"
      },
      "execution_count": 1,
      "outputs": []
    },
    {
      "cell_type": "markdown",
      "source": [
        "### What is an Array?\n",
        "An array is a special variable, which can hold more than one value at a time.\n",
        "\n",
        "If you have a list of items (a list of car names, for example), storing the cars in single variables could look like this:\n",
        "\n",
        "```\n",
        "car1 = \"Ford\"\n",
        "car2 = \"Volvo\"\n",
        "car3 = \"BMW\n",
        "```\n",
        "\n",
        "\n",
        "However, what if you want to loop through the cars and find a specific one? And what if you had not 3 cars, but 300?\n",
        "\n",
        "The solution is an array!\n",
        "\n",
        "An array can hold many values under a single name, and you can access the values by referring to an index number."
      ],
      "metadata": {
        "id": "CZUu1fawC9BG"
      }
    },
    {
      "cell_type": "markdown",
      "source": [
        "### Access the Elements of an Array\n",
        "You refer to an array element by referring to the index number."
      ],
      "metadata": {
        "id": "tRGO6VdqDNPR"
      }
    },
    {
      "cell_type": "code",
      "source": [
        "x = cars[0]"
      ],
      "metadata": {
        "id": "T0AQbUQxDTqu"
      },
      "execution_count": 2,
      "outputs": []
    },
    {
      "cell_type": "code",
      "source": [
        "cars[0] = \"Toyota\""
      ],
      "metadata": {
        "id": "-aOKJx0GDWBp"
      },
      "execution_count": 3,
      "outputs": []
    },
    {
      "cell_type": "markdown",
      "source": [
        "### The Length of an Array\n",
        "Use the `len()` method to return the length of an array (the number of elements in an array)."
      ],
      "metadata": {
        "id": "85chOP6EDdQs"
      }
    },
    {
      "cell_type": "code",
      "source": [
        "x = len(cars)"
      ],
      "metadata": {
        "id": "OwDuYR0fDgZj"
      },
      "execution_count": 4,
      "outputs": []
    },
    {
      "cell_type": "markdown",
      "source": [
        "**Note**: The length of an array is always one more than the highest array index."
      ],
      "metadata": {
        "id": "xHd90scDDjIs"
      }
    },
    {
      "cell_type": "markdown",
      "source": [
        "### Looping Array Elements\n",
        "You can use the `for in` loop to loop through all the elements of an array."
      ],
      "metadata": {
        "id": "D8Quj_LODwpd"
      }
    },
    {
      "cell_type": "code",
      "source": [
        "for x in cars:\n",
        "  print(x)"
      ],
      "metadata": {
        "colab": {
          "base_uri": "https://localhost:8080/"
        },
        "id": "V1epE-m3D4U9",
        "outputId": "ffe9acc0-f166-4d21-a1dc-2ef37945a45e"
      },
      "execution_count": 5,
      "outputs": [
        {
          "output_type": "stream",
          "name": "stdout",
          "text": [
            "Toyota\n",
            "Volvo\n",
            "BMW\n"
          ]
        }
      ]
    },
    {
      "cell_type": "markdown",
      "source": [
        "### Adding Array Elements\n",
        "You can use the `append()` method to add an element to an array."
      ],
      "metadata": {
        "id": "EddjrUBED49c"
      }
    },
    {
      "cell_type": "code",
      "source": [
        "cars.append(\"Honda\")"
      ],
      "metadata": {
        "id": "ym17ef1cD9c0"
      },
      "execution_count": 6,
      "outputs": []
    },
    {
      "cell_type": "markdown",
      "source": [
        "### Removing Array Elements\n",
        "You can use the `pop()` method to remove an element from the array."
      ],
      "metadata": {
        "id": "uPIMgbrXEDDs"
      }
    },
    {
      "cell_type": "code",
      "source": [
        "cars.pop(1)"
      ],
      "metadata": {
        "colab": {
          "base_uri": "https://localhost:8080/",
          "height": 36
        },
        "id": "OzP4sN5cEGHT",
        "outputId": "ae37db2c-a2b1-44ae-e471-c95b49591672"
      },
      "execution_count": 9,
      "outputs": [
        {
          "output_type": "execute_result",
          "data": {
            "text/plain": [
              "'BMW'"
            ],
            "application/vnd.google.colaboratory.intrinsic+json": {
              "type": "string"
            }
          },
          "metadata": {},
          "execution_count": 9
        }
      ]
    },
    {
      "cell_type": "markdown",
      "source": [
        "You can also use the `remove()` method to remove an element from the array."
      ],
      "metadata": {
        "id": "udhlHYvCEP9L"
      }
    },
    {
      "cell_type": "code",
      "source": [
        "cars = [\"Ford\", \"Volvo\", \"BMW\"]\n",
        "\n",
        "cars.remove(\"Volvo\")\n",
        "\n",
        "print(cars)"
      ],
      "metadata": {
        "colab": {
          "base_uri": "https://localhost:8080/"
        },
        "id": "3diP27aSETTK",
        "outputId": "16cae2fe-6c71-4221-f872-1c089d2bdd29"
      },
      "execution_count": 10,
      "outputs": [
        {
          "output_type": "stream",
          "name": "stdout",
          "text": [
            "['Ford', 'BMW']\n"
          ]
        }
      ]
    },
    {
      "cell_type": "markdown",
      "source": [
        "**Note**: The list's `remove()` method only removes the first occurrence of the specified value."
      ],
      "metadata": {
        "id": "gZR4RGeNEWC7"
      }
    },
    {
      "cell_type": "markdown",
      "source": [
        "### Array Methods"
      ],
      "metadata": {
        "id": "SuwIcs7REbf7"
      }
    },
    {
      "cell_type": "markdown",
      "source": [
        "| **Method** | **Description**                                                                 |\n",
        "|:----------:|:-------------------------------------------------------------------------------:|\n",
        "| `append()`   | Adds an element at the end of the list |\n",
        "| `clear() `   | Removes all the elements from the list |\n",
        "| `copy()`     | Returns a copy of the list |\n",
        "| `count()`    | Returns the number of elements with the specified value |\n",
        "|`extend()`   | Add the elements of a list (or any iterable), to the end of the current list |\n",
        "| `index()`    | Returns the index of the first element with the specified value              |\n",
        "|`insert()`   | Adds an element at the specified position                                    |\n",
        "| `pop()`      | Removes the element at the specified position                                |\n",
        "| `remove()`   | Removes the first item with the specified value                              |\n",
        "| `reverse()`  | Reverses the order of the list                                               |\n",
        "| `sort()`     | Sorts the list                                                                  |\n"
      ],
      "metadata": {
        "id": "TO66zIW3Eq54"
      }
    }
  ]
}