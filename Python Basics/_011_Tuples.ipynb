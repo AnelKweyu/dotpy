{
  "nbformat": 4,
  "nbformat_minor": 0,
  "metadata": {
    "colab": {
      "provenance": [],
      "authorship_tag": "ABX9TyOA9A2Mv0uPlyMuZcfuuVL8",
      "include_colab_link": true
    },
    "kernelspec": {
      "name": "python3",
      "display_name": "Python 3"
    },
    "language_info": {
      "name": "python"
    }
  },
  "cells": [
    {
      "cell_type": "markdown",
      "metadata": {
        "id": "view-in-github",
        "colab_type": "text"
      },
      "source": [
        "<a href=\"https://colab.research.google.com/github/AnelKweyu/Python-Guide/blob/master/_11_Tuples.ipynb\" target=\"_parent\"><img src=\"https://colab.research.google.com/assets/colab-badge.svg\" alt=\"Open In Colab\"/></a>"
      ]
    },
    {
      "cell_type": "markdown",
      "source": [
        "Tuples are used to store multiple items in a single variable.\n",
        "\n",
        "Tuple is one of 4 built-in data types in Python used to store collections of data, the other 3 are List, Set, and Dictionary, all with different qualities and usage.\n",
        "\n",
        "A tuple is a collection which is ordered and unchangeable.\n",
        "\n",
        "Tuples are written with round brackets."
      ],
      "metadata": {
        "id": "lqVThr6VGN1i"
      }
    },
    {
      "cell_type": "code",
      "source": [
        "thistuple = (\"apple\", \"banana\", \"cherry\")\n",
        "print(thistuple)"
      ],
      "metadata": {
        "colab": {
          "base_uri": "https://localhost:8080/"
        },
        "id": "VfkA0WEsGSGY",
        "outputId": "67242815-4e0a-494e-d3d0-084e1cb2f38a"
      },
      "execution_count": null,
      "outputs": [
        {
          "output_type": "stream",
          "name": "stdout",
          "text": [
            "('apple', 'banana', 'cherry')\n"
          ]
        }
      ]
    },
    {
      "cell_type": "markdown",
      "source": [
        "### Tuple Items\n",
        "Tuple items are ordered, unchangeable, and allow duplicate values.\n",
        "\n",
        "Tuple items are indexed, the first item has index `[0]`, the second item has index `[1]` etc."
      ],
      "metadata": {
        "id": "_6kvqB3OGZPI"
      }
    },
    {
      "cell_type": "markdown",
      "source": [
        "### Ordered\n",
        "When we say that tuples are ordered, it means that the items have a defined order, and that order will not change."
      ],
      "metadata": {
        "id": "hBmMPxEsGiNf"
      }
    },
    {
      "cell_type": "markdown",
      "source": [
        "### Unchangeable\n",
        "Tuples are unchangeable, meaning that we cannot change, add or remove items after the tuple has been created.\n",
        "\n"
      ],
      "metadata": {
        "id": "6inDhwbRGl6z"
      }
    },
    {
      "cell_type": "markdown",
      "source": [
        "### Allow Duplicates\n",
        "Since tuples are indexed, they can have items with the same value:"
      ],
      "metadata": {
        "id": "1RpEe0dXGvQ1"
      }
    },
    {
      "cell_type": "code",
      "source": [
        "thistuple = (\"apple\", \"banana\", \"cherry\", \"apple\", \"cherry\")\n",
        "print(thistuple)"
      ],
      "metadata": {
        "colab": {
          "base_uri": "https://localhost:8080/"
        },
        "id": "IHjhou4JG09V",
        "outputId": "527d5c6d-2844-48a7-ee56-6a868f6a7989"
      },
      "execution_count": null,
      "outputs": [
        {
          "output_type": "stream",
          "name": "stdout",
          "text": [
            "('apple', 'banana', 'cherry', 'apple', 'cherry')\n"
          ]
        }
      ]
    },
    {
      "cell_type": "markdown",
      "source": [
        "### Tuple Length\n",
        "To determine how many items a tuple has, use the len() function:"
      ],
      "metadata": {
        "id": "EqHcfia4G4Q2"
      }
    },
    {
      "cell_type": "code",
      "source": [
        "thistuple = (\"apple\", \"banana\", \"cherry\")\n",
        "print(len(thistuple))"
      ],
      "metadata": {
        "colab": {
          "base_uri": "https://localhost:8080/"
        },
        "id": "wA2Pcib-G8dF",
        "outputId": "2d30269b-862f-4586-d299-7767eb6216bb"
      },
      "execution_count": null,
      "outputs": [
        {
          "output_type": "stream",
          "name": "stdout",
          "text": [
            "3\n"
          ]
        }
      ]
    },
    {
      "cell_type": "markdown",
      "source": [
        "### Create Tuple With One Item\n",
        "To create a tuple with only one item, you have to add a `,` after the item, otherwise Python will not recognize it as a tuple."
      ],
      "metadata": {
        "id": "WJlJeAj1G_Za"
      }
    },
    {
      "cell_type": "code",
      "source": [
        "thistuple = (\"apple\",)\n",
        "print(type(thistuple))\n",
        "\n",
        "#NOT a tuple\n",
        "thistuple = (\"apple\")\n",
        "print(type(thistuple))"
      ],
      "metadata": {
        "colab": {
          "base_uri": "https://localhost:8080/"
        },
        "id": "wWKE8QGkHItg",
        "outputId": "9a145552-6495-4e5c-8ca4-a37d170f51c0"
      },
      "execution_count": null,
      "outputs": [
        {
          "output_type": "stream",
          "name": "stdout",
          "text": [
            "<class 'tuple'>\n",
            "<class 'str'>\n"
          ]
        }
      ]
    },
    {
      "cell_type": "markdown",
      "source": [
        "### Tuple Items - Data Types\n",
        "Tuple items can be of any data type:"
      ],
      "metadata": {
        "id": "1LVjPmqKHYAC"
      }
    },
    {
      "cell_type": "code",
      "source": [
        "tuple1 = (\"apple\", \"banana\", \"cherry\")\n",
        "tuple2 = (1, 5, 7, 9, 3)\n",
        "tuple3 = (True, False, False)"
      ],
      "metadata": {
        "id": "vq0tenkFHZig"
      },
      "execution_count": null,
      "outputs": []
    },
    {
      "cell_type": "code",
      "source": [
        "tuple1 = (\"abc\", 34, True, 40, \"male\")"
      ],
      "metadata": {
        "id": "qd8heRF4He7h"
      },
      "execution_count": null,
      "outputs": []
    },
    {
      "cell_type": "markdown",
      "source": [
        "### type()\n",
        "From Python's perspective, tuples are defined as objects with the data type 'tuple':\n",
        "\n",
        "\n",
        "```\n",
        "<class 'tuple'>\n",
        "```\n",
        "\n"
      ],
      "metadata": {
        "id": "40EoFkf4JGrB"
      }
    },
    {
      "cell_type": "code",
      "source": [
        "mytuple = (\"apple\", \"banana\", \"cherry\")\n",
        "print(type(mytuple))"
      ],
      "metadata": {
        "colab": {
          "base_uri": "https://localhost:8080/"
        },
        "id": "183zhpYbJJsW",
        "outputId": "70a8e532-c68b-4053-d19c-16f39bb04701"
      },
      "execution_count": null,
      "outputs": [
        {
          "output_type": "stream",
          "name": "stdout",
          "text": [
            "<class 'tuple'>\n"
          ]
        }
      ]
    },
    {
      "cell_type": "markdown",
      "source": [
        "### The tuple() Constructor\n",
        "It is also possible to use the `tuple()` constructor to make a tuple."
      ],
      "metadata": {
        "id": "rVWmyKe2Jjb0"
      }
    },
    {
      "cell_type": "code",
      "source": [
        "thistuple = tuple((\"apple\", \"banana\", \"cherry\")) # note the double round-brackets\n",
        "print(thistuple)"
      ],
      "metadata": {
        "colab": {
          "base_uri": "https://localhost:8080/"
        },
        "id": "BbUGznMoJnfq",
        "outputId": "2d2b7ab7-b10e-4867-dd4e-01e6bad3c8d1"
      },
      "execution_count": null,
      "outputs": [
        {
          "output_type": "stream",
          "name": "stdout",
          "text": [
            "('apple', 'banana', 'cherry')\n"
          ]
        }
      ]
    },
    {
      "cell_type": "markdown",
      "source": [
        "## Access Tuple Items"
      ],
      "metadata": {
        "id": "3OI5uLRRxpgL"
      }
    },
    {
      "cell_type": "markdown",
      "source": [
        "You can access tuple items by referring to the index number, inside square brackets:"
      ],
      "metadata": {
        "id": "SkH2S_NPxofS"
      }
    },
    {
      "cell_type": "code",
      "source": [
        "thistuple = (\"apple\", \"banana\", \"cherry\")\n",
        "print(thistuple[1])"
      ],
      "metadata": {
        "colab": {
          "base_uri": "https://localhost:8080/"
        },
        "id": "g4m-jhWbx72a",
        "outputId": "4268a7ff-95e1-44e0-8a1e-88b2197588b2"
      },
      "execution_count": null,
      "outputs": [
        {
          "output_type": "stream",
          "name": "stdout",
          "text": [
            "banana\n"
          ]
        }
      ]
    },
    {
      "cell_type": "markdown",
      "source": [
        "### Negative Indexing\n",
        "Negative indexing means start from the end.\n",
        "\n",
        "-1 refers to the last item, -2 refers to the second last item etc."
      ],
      "metadata": {
        "id": "o9KeUfUDyH0h"
      }
    },
    {
      "cell_type": "code",
      "source": [
        "thistuple = (\"apple\", \"banana\", \"cherry\")\n",
        "print(thistuple[-1])"
      ],
      "metadata": {
        "colab": {
          "base_uri": "https://localhost:8080/"
        },
        "id": "VtSxkm3SyKMh",
        "outputId": "751bb0c6-925f-454b-f4c3-df239d1ff7e8"
      },
      "execution_count": null,
      "outputs": [
        {
          "output_type": "stream",
          "name": "stdout",
          "text": [
            "cherry\n"
          ]
        }
      ]
    },
    {
      "cell_type": "markdown",
      "source": [
        "### Range of Indexes\n",
        "You can specify a range of indexes by specifying where to start and where to end the range.\n",
        "\n",
        "When specifying a range, the return value will be a new tuple with the specified items."
      ],
      "metadata": {
        "id": "wTjqQd30zP9S"
      }
    },
    {
      "cell_type": "code",
      "source": [
        "thistuple = (\"apple\", \"banana\", \"cherry\", \"orange\", \"kiwi\", \"melon\", \"mango\")\n",
        "print(thistuple[2:5])"
      ],
      "metadata": {
        "colab": {
          "base_uri": "https://localhost:8080/"
        },
        "id": "4JB9CLD00e3i",
        "outputId": "cb208eaf-e7c1-4589-dc2b-e0031d945118"
      },
      "execution_count": null,
      "outputs": [
        {
          "output_type": "stream",
          "name": "stdout",
          "text": [
            "('cherry', 'orange', 'kiwi')\n"
          ]
        }
      ]
    },
    {
      "cell_type": "markdown",
      "source": [
        "**Note**: The search will start at index 2 (included) and end at index 5 (not included)."
      ],
      "metadata": {
        "id": "DdW6aOtZ0jQE"
      }
    },
    {
      "cell_type": "markdown",
      "source": [
        "By leaving out the start value, the range will start at the first item:"
      ],
      "metadata": {
        "id": "srMd7Q9Q0q11"
      }
    },
    {
      "cell_type": "code",
      "source": [
        "thistuple = (\"apple\", \"banana\", \"cherry\", \"orange\", \"kiwi\", \"melon\", \"mango\")\n",
        "print(thistuple[:4])"
      ],
      "metadata": {
        "colab": {
          "base_uri": "https://localhost:8080/"
        },
        "id": "CTd1Cvs40rzx",
        "outputId": "9692d3f7-53ec-4079-b7a8-d13bce36af45"
      },
      "execution_count": null,
      "outputs": [
        {
          "output_type": "stream",
          "name": "stdout",
          "text": [
            "('apple', 'banana', 'cherry', 'orange')\n"
          ]
        }
      ]
    },
    {
      "cell_type": "markdown",
      "source": [
        "By leaving out the end value, the range will go on to the end of the tuple:"
      ],
      "metadata": {
        "id": "CS7_t1oe0yFY"
      }
    },
    {
      "cell_type": "code",
      "source": [
        "thistuple = (\"apple\", \"banana\", \"cherry\", \"orange\", \"kiwi\", \"melon\", \"mango\")\n",
        "print(thistuple[2:])"
      ],
      "metadata": {
        "colab": {
          "base_uri": "https://localhost:8080/"
        },
        "id": "_PHvAJWD0zLn",
        "outputId": "4a6f33c8-472d-4cb2-bc00-6bcce1365792"
      },
      "execution_count": null,
      "outputs": [
        {
          "output_type": "stream",
          "name": "stdout",
          "text": [
            "('cherry', 'orange', 'kiwi', 'melon', 'mango')\n"
          ]
        }
      ]
    },
    {
      "cell_type": "markdown",
      "source": [
        "### Range of Negative Indexes\n",
        "Specify negative indexes if you want to start the search from the end of the tuple:"
      ],
      "metadata": {
        "id": "RMeQygH50_3m"
      }
    },
    {
      "cell_type": "code",
      "source": [
        "thistuple = (\"apple\", \"banana\", \"cherry\", \"orange\", \"kiwi\", \"melon\", \"mango\")\n",
        "print(thistuple[-4:-1])"
      ],
      "metadata": {
        "colab": {
          "base_uri": "https://localhost:8080/"
        },
        "id": "-TOP8xTL1Eep",
        "outputId": "b32396f5-2ac3-426e-f0ec-18a7c54612b3"
      },
      "execution_count": null,
      "outputs": [
        {
          "output_type": "stream",
          "name": "stdout",
          "text": [
            "('orange', 'kiwi', 'melon')\n"
          ]
        }
      ]
    },
    {
      "cell_type": "markdown",
      "source": [
        "### Check if Item Exists\n",
        "To determine if a specified item is present in a tuple use the `in` keyword:"
      ],
      "metadata": {
        "id": "HADyR59D1Jwx"
      }
    },
    {
      "cell_type": "code",
      "source": [
        "thistuple = (\"apple\", \"banana\", \"cherry\")\n",
        "if \"apple\" in thistuple:\n",
        "  print(\"Yes, 'apple' is in the fruits tuple\")"
      ],
      "metadata": {
        "colab": {
          "base_uri": "https://localhost:8080/"
        },
        "id": "4CJu6NsB1WSu",
        "outputId": "78ef8229-de73-42ff-c328-6b04567d462c"
      },
      "execution_count": null,
      "outputs": [
        {
          "output_type": "stream",
          "name": "stdout",
          "text": [
            "Yes, 'apple' is in the fruits tuple\n"
          ]
        }
      ]
    },
    {
      "cell_type": "markdown",
      "source": [
        "## Update Tuples\n",
        "\n",
        "Tuples are unchangeable, meaning that you cannot change, add, or remove items once the tuple is created.\n",
        "\n",
        "But there are some workarounds."
      ],
      "metadata": {
        "id": "ltxaqMak8acH"
      }
    },
    {
      "cell_type": "markdown",
      "source": [
        "### Change Tuple Values\n",
        "Once a tuple is created, you cannot change its values. Tuples are unchangeable, or immutable as it also is called.\n",
        "\n",
        "But there is a workaround. You can convert the tuple into a list, change the list, and convert the list back into a tuple."
      ],
      "metadata": {
        "id": "bvOMGPWS9DjY"
      }
    },
    {
      "cell_type": "code",
      "source": [
        "x = (\"apple\", \"banana\", \"cherry\")\n",
        "y = list(x)\n",
        "y[1] = \"kiwi\"\n",
        "x = tuple(y)\n",
        "\n",
        "print(x)"
      ],
      "metadata": {
        "colab": {
          "base_uri": "https://localhost:8080/"
        },
        "id": "f7ygnUkn9K95",
        "outputId": "042948dc-f081-4e67-8184-fab03d7e0bca"
      },
      "execution_count": null,
      "outputs": [
        {
          "output_type": "stream",
          "name": "stdout",
          "text": [
            "('apple', 'kiwi', 'cherry')\n"
          ]
        }
      ]
    },
    {
      "cell_type": "markdown",
      "source": [
        "### Add Items\n",
        "Since tuples are immutable, they do not have a built-in `append()` method, but there are other ways to add items to a tuple"
      ],
      "metadata": {
        "id": "bkMbtbgl9TNg"
      }
    },
    {
      "cell_type": "markdown",
      "source": [
        "1. **Convert into a list**: Just like the workaround for changing a tuple, you can convert it into a list, add your item(s), and convert it back into a tuple."
      ],
      "metadata": {
        "id": "jHQxEsYJ9bBE"
      }
    },
    {
      "cell_type": "code",
      "source": [
        "thistuple = (\"apple\", \"banana\", \"cherry\")\n",
        "y = list(thistuple)\n",
        "y.append(\"orange\")\n",
        "thistuple = tuple(y)"
      ],
      "metadata": {
        "id": "f9KnJXza9b-f"
      },
      "execution_count": null,
      "outputs": []
    },
    {
      "cell_type": "markdown",
      "source": [
        "2. **Add tuple to a tuple**. You are allowed to add tuples to tuples, so if you want to add one item, (or many), create a new tuple with the item(s), and add it to the existing tuple:"
      ],
      "metadata": {
        "id": "9oVtYW35RHUK"
      }
    },
    {
      "cell_type": "code",
      "source": [
        "thistuple = (\"apple\", \"banana\", \"cherry\")\n",
        "y = (\"orange\",)\n",
        "thistuple += y\n",
        "\n",
        "print(thistuple)"
      ],
      "metadata": {
        "colab": {
          "base_uri": "https://localhost:8080/"
        },
        "id": "hxfuyZvxRTAi",
        "outputId": "e57b34ab-b919-459b-fe85-aa8dcde5f968"
      },
      "execution_count": null,
      "outputs": [
        {
          "output_type": "stream",
          "name": "stdout",
          "text": [
            "('apple', 'banana', 'cherry', 'orange')\n"
          ]
        }
      ]
    },
    {
      "cell_type": "markdown",
      "source": [
        "### Remove Items\n",
        "**Note**: You cannot remove items in a tuple.\n",
        "\n",
        "Tuples are unchangeable, so you cannot remove items from it, but you can use the same workaround as we used for changing and adding tuple items:"
      ],
      "metadata": {
        "id": "LJtRLUxTRmOl"
      }
    },
    {
      "cell_type": "code",
      "source": [
        "thistuple = (\"apple\", \"banana\", \"cherry\")\n",
        "y = list(thistuple)\n",
        "y.remove(\"apple\")\n",
        "thistuple = tuple(y)"
      ],
      "metadata": {
        "id": "9wCb1093RqNk"
      },
      "execution_count": null,
      "outputs": []
    },
    {
      "cell_type": "markdown",
      "source": [
        "Or you can delete the tuple completely:"
      ],
      "metadata": {
        "id": "4Iw2ta6XR5FB"
      }
    },
    {
      "cell_type": "code",
      "source": [
        "thistuple = (\"apple\", \"banana\", \"cherry\")\n",
        "del thistuple\n",
        "print(thistuple) #this will raise an error because the tuple no longer exists"
      ],
      "metadata": {
        "colab": {
          "base_uri": "https://localhost:8080/",
          "height": 217
        },
        "id": "pB4vEzRQR6HS",
        "outputId": "c18b35ed-6849-4e34-cd98-5e56a3aac2e3"
      },
      "execution_count": null,
      "outputs": [
        {
          "output_type": "error",
          "ename": "NameError",
          "evalue": "ignored",
          "traceback": [
            "\u001b[0;31m---------------------------------------------------------------------------\u001b[0m",
            "\u001b[0;31mNameError\u001b[0m                                 Traceback (most recent call last)",
            "\u001b[0;32m<ipython-input-21-8a57ed92fc5d>\u001b[0m in \u001b[0;36m<cell line: 3>\u001b[0;34m()\u001b[0m\n\u001b[1;32m      1\u001b[0m \u001b[0mthistuple\u001b[0m \u001b[0;34m=\u001b[0m \u001b[0;34m(\u001b[0m\u001b[0;34m\"apple\"\u001b[0m\u001b[0;34m,\u001b[0m \u001b[0;34m\"banana\"\u001b[0m\u001b[0;34m,\u001b[0m \u001b[0;34m\"cherry\"\u001b[0m\u001b[0;34m)\u001b[0m\u001b[0;34m\u001b[0m\u001b[0;34m\u001b[0m\u001b[0m\n\u001b[1;32m      2\u001b[0m \u001b[0;32mdel\u001b[0m \u001b[0mthistuple\u001b[0m\u001b[0;34m\u001b[0m\u001b[0;34m\u001b[0m\u001b[0m\n\u001b[0;32m----> 3\u001b[0;31m \u001b[0mprint\u001b[0m\u001b[0;34m(\u001b[0m\u001b[0mthistuple\u001b[0m\u001b[0;34m)\u001b[0m \u001b[0;31m#this will raise an error because the tuple no longer exists\u001b[0m\u001b[0;34m\u001b[0m\u001b[0;34m\u001b[0m\u001b[0m\n\u001b[0m",
            "\u001b[0;31mNameError\u001b[0m: name 'thistuple' is not defined"
          ]
        }
      ]
    },
    {
      "cell_type": "markdown",
      "source": [
        "## Unpack Tuples"
      ],
      "metadata": {
        "id": "7hv1IfdaSdiI"
      }
    },
    {
      "cell_type": "markdown",
      "source": [
        "### Unpacking a Tuple\n",
        "When we create a tuple, we normally assign values to it. This is called \"packing\" a tuple:\n",
        "\n",
        "Packing a tuple:"
      ],
      "metadata": {
        "id": "C_XsiUvtSnNR"
      }
    },
    {
      "cell_type": "code",
      "source": [
        "fruits = (\"apple\", \"banana\", \"cherry\")"
      ],
      "metadata": {
        "id": "z8TG72gTSpaa"
      },
      "execution_count": null,
      "outputs": []
    },
    {
      "cell_type": "markdown",
      "source": [
        "But, in Python, we are also allowed to extract the values back into variables. This is called \"unpacking\":\n",
        "Unpacking a tuple:"
      ],
      "metadata": {
        "id": "JIrXiRc1S5J8"
      }
    },
    {
      "cell_type": "code",
      "source": [
        "fruits = (\"apple\", \"banana\", \"cherry\")\n",
        "\n",
        "(green, yellow, red) = fruits\n",
        "\n",
        "print(green)\n",
        "print(yellow)\n",
        "print(red)"
      ],
      "metadata": {
        "colab": {
          "base_uri": "https://localhost:8080/"
        },
        "id": "QFI7C_b6S-ao",
        "outputId": "b1e5b6dc-e7c8-43c0-8c92-24d759a49a65"
      },
      "execution_count": null,
      "outputs": [
        {
          "output_type": "stream",
          "name": "stdout",
          "text": [
            "apple\n",
            "banana\n",
            "cherry\n"
          ]
        }
      ]
    },
    {
      "cell_type": "markdown",
      "source": [
        "**Note**: The number of variables must match the number of values in the tuple, if not, you must use an asterisk to collect the remaining values as a list."
      ],
      "metadata": {
        "id": "ez7OQUgbTFzp"
      }
    },
    {
      "cell_type": "markdown",
      "source": [
        "### Using Asterisk`*`\n",
        "If the number of variables is less than the number of values, you can add an `*` to the variable name and the values will be assigned to the variable as a list:"
      ],
      "metadata": {
        "id": "1d1aJT4dTMFK"
      }
    },
    {
      "cell_type": "code",
      "source": [
        "fruits = (\"apple\", \"banana\", \"cherry\", \"strawberry\", \"raspberry\")\n",
        "\n",
        "(green, yellow, *red) = fruits\n",
        "\n",
        "print(green)\n",
        "print(yellow)\n",
        "print(red)"
      ],
      "metadata": {
        "colab": {
          "base_uri": "https://localhost:8080/"
        },
        "id": "pSpgdEOATZnq",
        "outputId": "31b79ef8-95ff-4bf2-8fce-d8b390042b40"
      },
      "execution_count": null,
      "outputs": [
        {
          "output_type": "stream",
          "name": "stdout",
          "text": [
            "apple\n",
            "banana\n",
            "['cherry', 'strawberry', 'raspberry']\n"
          ]
        }
      ]
    },
    {
      "cell_type": "markdown",
      "source": [
        "If the asterisk is added to another variable name than the last, Python will assign values to the variable until the number of values left matches the number of variables left."
      ],
      "metadata": {
        "id": "4DmODrMGTfi5"
      }
    },
    {
      "cell_type": "code",
      "source": [
        "fruits = (\"apple\", \"mango\", \"papaya\", \"pineapple\", \"cherry\")\n",
        "\n",
        "(green, *tropic, red) = fruits\n",
        "\n",
        "print(green)\n",
        "print(tropic)\n",
        "print(red)"
      ],
      "metadata": {
        "colab": {
          "base_uri": "https://localhost:8080/"
        },
        "id": "iEnV_eIpTjzp",
        "outputId": "7967c5db-60cb-4e46-9f6a-f2aea1a35c3c"
      },
      "execution_count": null,
      "outputs": [
        {
          "output_type": "stream",
          "name": "stdout",
          "text": [
            "apple\n",
            "['mango', 'papaya', 'pineapple']\n",
            "cherry\n"
          ]
        }
      ]
    },
    {
      "cell_type": "markdown",
      "source": [
        "## Loop Tuples"
      ],
      "metadata": {
        "id": "7vglePLzUR3T"
      }
    },
    {
      "cell_type": "markdown",
      "source": [
        "### Loop Through a Tuple\n",
        "You can loop through the tuple items by using a `for` loop."
      ],
      "metadata": {
        "id": "dhz_EYwSUYb5"
      }
    },
    {
      "cell_type": "code",
      "source": [
        "thistuple = (\"apple\", \"banana\", \"cherry\")\n",
        "for x in thistuple:\n",
        "  print(x)"
      ],
      "metadata": {
        "colab": {
          "base_uri": "https://localhost:8080/"
        },
        "id": "5DU-pV99Ug_K",
        "outputId": "4d5efeaa-f12d-4a31-82a2-ac6b062e60ae"
      },
      "execution_count": null,
      "outputs": [
        {
          "output_type": "stream",
          "name": "stdout",
          "text": [
            "apple\n",
            "banana\n",
            "cherry\n"
          ]
        }
      ]
    },
    {
      "cell_type": "markdown",
      "source": [
        "### Loop Through the Index Numbers\n",
        "You can also loop through the tuple items by referring to their index number.\n",
        "\n",
        "Use the `range()` and `len()` functions to create a suitable iterable."
      ],
      "metadata": {
        "id": "9V0ilJDqUnuY"
      }
    },
    {
      "cell_type": "code",
      "source": [
        "thistuple = (\"apple\", \"banana\", \"cherry\")\n",
        "for i in range(len(thistuple)):\n",
        "  print(thistuple[i])"
      ],
      "metadata": {
        "colab": {
          "base_uri": "https://localhost:8080/"
        },
        "id": "r9vbv31yUvj_",
        "outputId": "aabb9af6-a699-40d0-e92a-db3b2294d6b6"
      },
      "execution_count": null,
      "outputs": [
        {
          "output_type": "stream",
          "name": "stdout",
          "text": [
            "apple\n",
            "banana\n",
            "cherry\n"
          ]
        }
      ]
    },
    {
      "cell_type": "markdown",
      "source": [
        "### Using a While Loop\n",
        "You can loop through the tuple items by using a `while` loop.\n",
        "\n",
        "Use the `len()` function to determine the length of the tuple, then start at 0 and loop your way through the tuple items by referring to their indexes.\n",
        "\n",
        "Remember to increase the index by 1 after each iteration."
      ],
      "metadata": {
        "id": "hv20CjdnU5pM"
      }
    },
    {
      "cell_type": "code",
      "source": [
        "thistuple = (\"apple\", \"banana\", \"cherry\")\n",
        "i = 0\n",
        "while i < len(thistuple):\n",
        "  print(thistuple[i])\n",
        "  i = i + 1"
      ],
      "metadata": {
        "colab": {
          "base_uri": "https://localhost:8080/"
        },
        "id": "p7X5J2JOVFIr",
        "outputId": "0682ec9e-3f25-492e-cc37-d5156bc998e6"
      },
      "execution_count": null,
      "outputs": [
        {
          "output_type": "stream",
          "name": "stdout",
          "text": [
            "apple\n",
            "banana\n",
            "cherry\n"
          ]
        }
      ]
    },
    {
      "cell_type": "markdown",
      "source": [
        "## Join Tuples"
      ],
      "metadata": {
        "id": "4Xs0LCK9VRwo"
      }
    },
    {
      "cell_type": "markdown",
      "source": [
        "### Join Two Tuples\n",
        "To join two or more tuples you can use the `+` operator:"
      ],
      "metadata": {
        "id": "HzBgfhdMVT4o"
      }
    },
    {
      "cell_type": "code",
      "source": [
        "tuple1 = (\"a\", \"b\" , \"c\")\n",
        "tuple2 = (1, 2, 3)\n",
        "\n",
        "tuple3 = tuple1 + tuple2\n",
        "print(tuple3)"
      ],
      "metadata": {
        "colab": {
          "base_uri": "https://localhost:8080/"
        },
        "id": "5uiEbeqbVbJF",
        "outputId": "f473bee6-62e6-4dc6-c73b-6fc11adcf3d0"
      },
      "execution_count": null,
      "outputs": [
        {
          "output_type": "stream",
          "name": "stdout",
          "text": [
            "('a', 'b', 'c', 1, 2, 3)\n"
          ]
        }
      ]
    },
    {
      "cell_type": "markdown",
      "source": [
        "### Multiply Tuples\n",
        "If you want to multiply the content of a tuple a given number of times, you can use the `*` operator:"
      ],
      "metadata": {
        "id": "PhGcNW_-Vi_U"
      }
    },
    {
      "cell_type": "code",
      "source": [
        "fruits = (\"apple\", \"banana\", \"cherry\")\n",
        "mytuple = fruits * 2\n",
        "\n",
        "print(mytuple)"
      ],
      "metadata": {
        "colab": {
          "base_uri": "https://localhost:8080/"
        },
        "id": "DPJnd9UfV1AP",
        "outputId": "34613b4a-2273-47cf-ca87-91640c851575"
      },
      "execution_count": null,
      "outputs": [
        {
          "output_type": "stream",
          "name": "stdout",
          "text": [
            "('apple', 'banana', 'cherry', 'apple', 'banana', 'cherry')\n"
          ]
        }
      ]
    },
    {
      "cell_type": "markdown",
      "source": [
        "## Tuple Methods"
      ],
      "metadata": {
        "id": "sGtL9rK6V_6P"
      }
    },
    {
      "cell_type": "markdown",
      "source": [
        "| **Method** | **Description**                                                                         |\n",
        "|:----------:|:---------------------------------------------------------------------------------------:|\n",
        "| `count()`    | Returns the number of times a specified value occurs in a tuple                         |\n",
        "| `index()`    | Searches the tuple for a specified value and returns the position of where it was found |\n"
      ],
      "metadata": {
        "id": "0jdl7hTsWB1Z"
      }
    }
  ]
}