{
  "nbformat": 4,
  "nbformat_minor": 0,
  "metadata": {
    "colab": {
      "provenance": [],
      "authorship_tag": "ABX9TyOxjxoBeisWgTW+6HalucKo",
      "include_colab_link": true
    },
    "kernelspec": {
      "name": "python3",
      "display_name": "Python 3"
    },
    "language_info": {
      "name": "python"
    }
  },
  "cells": [
    {
      "cell_type": "markdown",
      "metadata": {
        "id": "view-in-github",
        "colab_type": "text"
      },
      "source": [
        "<a href=\"https://colab.research.google.com/github/AnelKweyu/Python-Guide/blob/master/_5_Python_Strings.ipynb\" target=\"_parent\"><img src=\"https://colab.research.google.com/assets/colab-badge.svg\" alt=\"Open In Colab\"/></a>"
      ]
    },
    {
      "cell_type": "markdown",
      "source": [
        "# Strings\n",
        "Strings in python are surrounded by either single quotation marks, or double quotation marks.\n",
        "\n",
        "`'hello'` is the same as `\"hello\"`.\n",
        "\n",
        "You can display a string literal with the `print()` function:"
      ],
      "metadata": {
        "id": "8i8jSfv4CUJx"
      }
    },
    {
      "cell_type": "code",
      "execution_count": 1,
      "metadata": {
        "colab": {
          "base_uri": "https://localhost:8080/"
        },
        "id": "Ipw21vuIU0tN",
        "outputId": "cf308983-8c35-434f-a703-3d9ef7651cb3"
      },
      "outputs": [
        {
          "output_type": "stream",
          "name": "stdout",
          "text": [
            "Hello\n",
            "Hello\n"
          ]
        }
      ],
      "source": [
        "print(\"Hello\")\n",
        "print('Hello')"
      ]
    },
    {
      "cell_type": "markdown",
      "source": [
        "### Assign String to a Variable\n",
        "Assigning a string to a variable is done with the variable name followed by an equal sign and the string:"
      ],
      "metadata": {
        "id": "3S7j8jXtCpHI"
      }
    },
    {
      "cell_type": "code",
      "source": [
        "a = \"Hello\"\n",
        "print(a)"
      ],
      "metadata": {
        "colab": {
          "base_uri": "https://localhost:8080/"
        },
        "id": "_UHz4GQrC82X",
        "outputId": "82c5bdc4-30b5-4600-efc7-c38682cf2d42"
      },
      "execution_count": 2,
      "outputs": [
        {
          "output_type": "stream",
          "name": "stdout",
          "text": [
            "Hello\n"
          ]
        }
      ]
    },
    {
      "cell_type": "markdown",
      "source": [
        "### Multiline Strings\n",
        "You can assign a multiline string to a variable by using three quotes:"
      ],
      "metadata": {
        "id": "6jp9OtYuDJ8_"
      }
    },
    {
      "cell_type": "markdown",
      "source": [
        "**double tripple quote**"
      ],
      "metadata": {
        "id": "_x_aP9w_DhnO"
      }
    },
    {
      "cell_type": "code",
      "source": [
        "a = \"\"\"Lorem ipsum dolor sit amet,\n",
        "consectetur adipiscing elit,\n",
        "sed do eiusmod tempor incididunt\n",
        "ut labore et dolore magna aliqua.\"\"\"\n",
        "print(a)"
      ],
      "metadata": {
        "colab": {
          "base_uri": "https://localhost:8080/"
        },
        "id": "FhNNSvkYDXeF",
        "outputId": "cb1fdc21-2cde-44ce-dc96-9f477cb2d1f2"
      },
      "execution_count": 3,
      "outputs": [
        {
          "output_type": "stream",
          "name": "stdout",
          "text": [
            "Lorem ipsum dolor sit amet,\n",
            "consectetur adipiscing elit,\n",
            "sed do eiusmod tempor incididunt\n",
            "ut labore et dolore magna aliqua.\n"
          ]
        }
      ]
    },
    {
      "cell_type": "markdown",
      "source": [
        "**single tripple quote**"
      ],
      "metadata": {
        "id": "prwrnpZLDqEA"
      }
    },
    {
      "cell_type": "code",
      "source": [
        "a = '''Lorem ipsum dolor sit amet,\n",
        "consectetur adipiscing elit,\n",
        "sed do eiusmod tempor incididunt\n",
        "ut labore et dolore magna aliqua.'''\n",
        "print(a)"
      ],
      "metadata": {
        "colab": {
          "base_uri": "https://localhost:8080/"
        },
        "id": "NWveRd0JDYME",
        "outputId": "0570404e-1005-41e7-c57c-af9be2830fc9"
      },
      "execution_count": 4,
      "outputs": [
        {
          "output_type": "stream",
          "name": "stdout",
          "text": [
            "Lorem ipsum dolor sit amet,\n",
            "consectetur adipiscing elit,\n",
            "sed do eiusmod tempor incididunt\n",
            "ut labore et dolore magna aliqua.\n"
          ]
        }
      ]
    },
    {
      "cell_type": "markdown",
      "source": [
        "**Note**: in the result, the line breaks are inserted at the same position as in the code."
      ],
      "metadata": {
        "id": "69Bdb_7mDzy2"
      }
    },
    {
      "cell_type": "markdown",
      "source": [
        "## Strings are Arrays\n",
        "Like many other popular programming languages, strings in Python are arrays of bytes representing unicode characters.\n",
        "\n",
        "However, Python does not have a character data type, a single character is simply a string with a length of 1.\n",
        "\n",
        "Square brackets can be used to access elements of the string.**bold text**"
      ],
      "metadata": {
        "id": "Vq8lU79OGcA6"
      }
    },
    {
      "cell_type": "code",
      "source": [
        "a = \"Hello, World!\"\n",
        "print(a[1])"
      ],
      "metadata": {
        "colab": {
          "base_uri": "https://localhost:8080/"
        },
        "id": "8NorBt73HNUS",
        "outputId": "d9b780f3-947a-49f3-fcff-5f0e8e3a60e6"
      },
      "execution_count": 5,
      "outputs": [
        {
          "output_type": "stream",
          "name": "stdout",
          "text": [
            "e\n"
          ]
        }
      ]
    },
    {
      "cell_type": "markdown",
      "source": [
        "### Looping Through a String\n",
        "Since strings are arrays, we can loop through the characters in a string, with a `for` loop."
      ],
      "metadata": {
        "id": "LyD6gOkoHRUO"
      }
    },
    {
      "cell_type": "code",
      "source": [
        "for x in \"banana\":\n",
        "  print(x)"
      ],
      "metadata": {
        "colab": {
          "base_uri": "https://localhost:8080/"
        },
        "id": "1feBBcieHeO5",
        "outputId": "15ce7735-4a0b-440e-feac-80083732635c"
      },
      "execution_count": 6,
      "outputs": [
        {
          "output_type": "stream",
          "name": "stdout",
          "text": [
            "b\n",
            "a\n",
            "n\n",
            "a\n",
            "n\n",
            "a\n"
          ]
        }
      ]
    },
    {
      "cell_type": "markdown",
      "source": [
        "### String Length\n",
        "To get the length of a string, use the `len()` function."
      ],
      "metadata": {
        "id": "xPAIO_wqHrwt"
      }
    },
    {
      "cell_type": "code",
      "source": [
        "a = \"Hello, World!\"\n",
        "print(len(a))"
      ],
      "metadata": {
        "colab": {
          "base_uri": "https://localhost:8080/"
        },
        "id": "0GWSxtFZIGWC",
        "outputId": "83e56bf0-29fa-4c0e-8725-005a9d292fcd"
      },
      "execution_count": 7,
      "outputs": [
        {
          "output_type": "stream",
          "name": "stdout",
          "text": [
            "13\n"
          ]
        }
      ]
    },
    {
      "cell_type": "markdown",
      "source": [
        "### Check String\n",
        "To check if a certain phrase or character is present in a string, we can use the keyword `in`."
      ],
      "metadata": {
        "id": "VJOVQ21zITL7"
      }
    },
    {
      "cell_type": "code",
      "source": [
        "txt = \"The best things in life are free!\"\n",
        "print(\"free\" in txt)"
      ],
      "metadata": {
        "colab": {
          "base_uri": "https://localhost:8080/"
        },
        "id": "oMW5wspRIbrR",
        "outputId": "33c26f2f-3c9b-4d64-879f-0a29c2d4326e"
      },
      "execution_count": 8,
      "outputs": [
        {
          "output_type": "stream",
          "name": "stdout",
          "text": [
            "True\n"
          ]
        }
      ]
    },
    {
      "cell_type": "markdown",
      "source": [
        "Use it in an `if` statement:"
      ],
      "metadata": {
        "id": "dhio5VCtIcId"
      }
    },
    {
      "cell_type": "code",
      "source": [
        "txt = \"The best things in life are free!\"\n",
        "if \"free\" in txt:\n",
        "  print(\"Yes, 'free' is present.\")"
      ],
      "metadata": {
        "colab": {
          "base_uri": "https://localhost:8080/"
        },
        "id": "GkWIIyTSIezI",
        "outputId": "79a525f2-0260-4d99-8796-b7748ee9542a"
      },
      "execution_count": 9,
      "outputs": [
        {
          "output_type": "stream",
          "name": "stdout",
          "text": [
            "Yes, 'free' is present.\n"
          ]
        }
      ]
    },
    {
      "cell_type": "markdown",
      "source": [
        "### Check if NOT\n",
        "To check if a certain phrase or character is NOT present in a string, we can use the keyword `not in`."
      ],
      "metadata": {
        "id": "8UDw95DgIjxe"
      }
    },
    {
      "cell_type": "code",
      "source": [
        "txt = \"The best things in life are free!\"\n",
        "print(\"expensive\" not in txt)"
      ],
      "metadata": {
        "colab": {
          "base_uri": "https://localhost:8080/"
        },
        "id": "uefacMPSIlqX",
        "outputId": "9258a5fe-9ced-467d-f7ad-04dccf163bb0"
      },
      "execution_count": 10,
      "outputs": [
        {
          "output_type": "stream",
          "name": "stdout",
          "text": [
            "True\n"
          ]
        }
      ]
    },
    {
      "cell_type": "markdown",
      "source": [
        "Use it in an if statement:"
      ],
      "metadata": {
        "id": "ANRIiS4UImPl"
      }
    },
    {
      "cell_type": "code",
      "source": [
        "txt = \"The best things in life are free!\"\n",
        "if \"expensive\" not in txt:\n",
        "  print(\"No, 'expensive' is NOT present.\")"
      ],
      "metadata": {
        "colab": {
          "base_uri": "https://localhost:8080/"
        },
        "id": "gexklZVJInZc",
        "outputId": "f51d5103-cd5f-4321-d8f0-3b9c26e08a4c"
      },
      "execution_count": 11,
      "outputs": [
        {
          "output_type": "stream",
          "name": "stdout",
          "text": [
            "No, 'expensive' is NOT present.\n"
          ]
        }
      ]
    },
    {
      "cell_type": "markdown",
      "source": [
        "### Slicing Strings\n",
        "You can return a range of characters by using the slice syntax.\n",
        "\n",
        "Specify the start index and the end index, separated by a colon, to return a part of the string."
      ],
      "metadata": {
        "id": "lIdqu4KwJjJ3"
      }
    },
    {
      "cell_type": "code",
      "source": [
        "b = \"Hello, World!\"\n",
        "print(b[2:5])"
      ],
      "metadata": {
        "colab": {
          "base_uri": "https://localhost:8080/"
        },
        "id": "G2PnQ_IbJu-k",
        "outputId": "8b1b6e88-029d-4f2f-ada1-013639d7a731"
      },
      "execution_count": 12,
      "outputs": [
        {
          "output_type": "stream",
          "name": "stdout",
          "text": [
            "llo\n"
          ]
        }
      ]
    },
    {
      "cell_type": "markdown",
      "source": [
        "**Note**: The first character has index 0."
      ],
      "metadata": {
        "id": "xMmJfEjMJ22R"
      }
    },
    {
      "cell_type": "markdown",
      "source": [
        "***Slice From the Start***\n",
        "\n",
        "By leaving out the start index, the range will start at the first character:"
      ],
      "metadata": {
        "id": "dhk3PE7BJ8x1"
      }
    },
    {
      "cell_type": "code",
      "source": [
        "b = \"Hello, World!\"\n",
        "print(b[:5])"
      ],
      "metadata": {
        "colab": {
          "base_uri": "https://localhost:8080/"
        },
        "id": "Q0-J594xJ76V",
        "outputId": "075bc805-7521-40cc-9baf-fc75a3e1b789"
      },
      "execution_count": 13,
      "outputs": [
        {
          "output_type": "stream",
          "name": "stdout",
          "text": [
            "Hello\n"
          ]
        }
      ]
    },
    {
      "cell_type": "markdown",
      "source": [
        "***Slice To the End***\n",
        "\n",
        "By leaving out the end index, the range will go to the end:"
      ],
      "metadata": {
        "id": "rzud2I6SKJeB"
      }
    },
    {
      "cell_type": "code",
      "source": [
        "b = \"Hello, World!\"\n",
        "print(b[2:])"
      ],
      "metadata": {
        "colab": {
          "base_uri": "https://localhost:8080/"
        },
        "id": "sKbfho99Kn8L",
        "outputId": "81d2c31d-fb94-4a4c-d245-034607e4c824"
      },
      "execution_count": 14,
      "outputs": [
        {
          "output_type": "stream",
          "name": "stdout",
          "text": [
            "llo, World!\n"
          ]
        }
      ]
    },
    {
      "cell_type": "markdown",
      "source": [
        "***Negative Indexing***\n",
        "\n",
        "Use negative indexes to start the slice from the end of the string:"
      ],
      "metadata": {
        "id": "YH3IlheCKoyC"
      }
    },
    {
      "cell_type": "code",
      "source": [
        "b = \"Hello, World!\"\n",
        "print(b[-5:-2])"
      ],
      "metadata": {
        "colab": {
          "base_uri": "https://localhost:8080/"
        },
        "id": "p-sVT5yQKpPY",
        "outputId": "45309dd0-4d64-40ab-aefb-1a2a1fdbdfda"
      },
      "execution_count": 15,
      "outputs": [
        {
          "output_type": "stream",
          "name": "stdout",
          "text": [
            "orl\n"
          ]
        }
      ]
    },
    {
      "cell_type": "markdown",
      "source": [
        "### Concatenation\n",
        "To concatenate, or combine, two strings you can use the `+` operator."
      ],
      "metadata": {
        "id": "YwYs9xAZL50S"
      }
    },
    {
      "cell_type": "code",
      "source": [
        "a = \"Hello\"\n",
        "b = \"World\"\n",
        "c = a + b\n",
        "print(c)"
      ],
      "metadata": {
        "colab": {
          "base_uri": "https://localhost:8080/"
        },
        "id": "oZSJdyQsL5Wf",
        "outputId": "39baf6ad-7467-4933-92cd-fbcf44c695b5"
      },
      "execution_count": 16,
      "outputs": [
        {
          "output_type": "stream",
          "name": "stdout",
          "text": [
            "HelloWorld\n"
          ]
        }
      ]
    },
    {
      "cell_type": "code",
      "source": [
        "a = \"Hello\"\n",
        "b = \"World\"\n",
        "c = a + \" \" + b\n",
        "print(c)"
      ],
      "metadata": {
        "colab": {
          "base_uri": "https://localhost:8080/"
        },
        "id": "XlTLsUigMYSZ",
        "outputId": "9d1d3d32-e46d-418b-bd5d-67f2fdccada7"
      },
      "execution_count": 17,
      "outputs": [
        {
          "output_type": "stream",
          "name": "stdout",
          "text": [
            "Hello World\n"
          ]
        }
      ]
    },
    {
      "cell_type": "markdown",
      "source": [
        "##String Methods"
      ],
      "metadata": {
        "id": "r6R3HDgIMqPb"
      }
    },
    {
      "cell_type": "markdown",
      "source": [
        "| Method      | Description |\n",
        "| ----------- | ----------- |\n",
        "|`capitalize()`|\tConverts the first character to upper case|\n",
        "|`casefold()`|\tConverts string into lower case|\n",
        "|`center()`|\tReturns a centered string|\n",
        "|`count()`\t| Returns the number of times a specified value occurs in a string|\n",
        "|`encode()` | Returns an encoded version of the string|\n",
        "|`endswith()` |\tReturns true if the string ends with the specified value|\n",
        "|`expandtabs()` |\tSets the tab size of the string\n",
        "|`find()` | Searches the string for a specified value and returns the position of where it was found|\n",
        "|`format()` |\tFormats specified values in a string|\n",
        "|`format_map()`| Formats specified values in a string|\n",
        "|`index()` |\tSearches the string for a specified value and returns the position of where it was found |\n",
        "|`isalnum()` |\tReturns True if all characters in the string are alphanumeric|\n",
        "|`isalpha()` |\tReturns True if all characters in the string are in the alphabet|\n",
        "|`isascii()`\t| Returns True if all characters in the string are ascii characters|\n",
        "|`isdecimal()`\t| Returns True if all characters in the string are decimals|\n",
        "|`isdigit()` |\tReturns True if all characters in the string are digits|\n",
        "|`isidentifier()` |\tReturns True if the string is an identifier|\n",
        "|`islower()` |\tReturns True if all characters in the string are lower case|\n",
        "|`isnumeric()`\t| Returns True if all characters in the string are numeric|\n",
        "|`isprintable()`\t| Returns True if all characters in the string are printable|\n",
        "|`isspace()`\t| Returns True if all characters in the string are whitespaces|\n",
        "|`istitle()`\t| Returns True if the string follows the rules of a title|\n",
        "|`isupper()` |\tReturns True if all characters in the string are upper case|\n",
        "|`join()` | Joins the elements of an iterable to the end of the string|\n",
        "|`ljust()`\t| Returns a left justified version of the string|\n",
        "|`lower()`\t| Converts a string into lower case|\n",
        "|`lstrip()`\t| Returns a left trim version of the string|\n",
        "|`maketrans()`\t| Returns a translation table to be used in translations|\n",
        "|`partition()`\t| Returns a tuple where the string is parted into three parts|\n",
        "|`replace()`\t| Returns a string where a specified value is replaced with a specified value\n",
        "|`rfind()`\t| Searches the string for a specified value and returns the last position of where it was found|\n",
        "|`rindex()`\t| Searches the string for a specified value and returns the last position of where it was found|\n",
        "|`rjust()`\t| Returns a right justified version of the string|\n",
        "|`rpartition()`\t| Returns a tuple where the string is parted into three parts|\n",
        "|`rsplit()`\t| Splits the string at the specified separator, and returns a list |\n",
        "|`rstrip()`\t| Returns a right trim version of the string |\n",
        "|`split()`\t| Splits the string at the specified separator, and returns a list |\n",
        "|`splitlines()` |\tSplits the string at line breaks and returns a list |\n",
        "|`startswith()`\t| Returns true if the string starts with the specified value |\n",
        "|`strip()`\t| Returns a trimmed version of the string |\n",
        "|`swapcase()` |\tSwaps cases, lower case becomes upper case and vice versa |\n",
        "|`title()`\t| Converts the first character of each word to upper case |\n",
        "|`translate()`\t| Returns a translated string |\n",
        "|`upper()`\t| Converts a string into upper case |\n",
        "|`zfill()`\t| Fills the string with a specified number of 0 values at the beginning    |"
      ],
      "metadata": {
        "id": "I5NAKSn1UfJV"
      }
    },
    {
      "cell_type": "markdown",
      "source": [
        "## Escape Characters"
      ],
      "metadata": {
        "id": "nHAyGmgHRj4b"
      }
    },
    {
      "cell_type": "markdown",
      "source": [
        "| Code      | Result |\n",
        "| ----------- | ----------- |\n",
        "| `\\'`      | Single Quote\t|       |\n",
        "| `\\\\`   | Backslash        |\n",
        "| `\\n` | New Line|\n",
        "| `\\r` | Carriage Return|\n",
        "| `\\t` |Tab |\n",
        "| `\\b` | Backspace|\n",
        "| `\\f` | Form Feed|\n",
        "| `\\ooo` | \tOctal value|\n",
        "| `\\xhh` | \tHex value|\n"
      ],
      "metadata": {
        "id": "xc1Ex6v-SYmH"
      }
    }
  ]
}