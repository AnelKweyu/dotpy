{
  "nbformat": 4,
  "nbformat_minor": 0,
  "metadata": {
    "colab": {
      "provenance": [],
      "authorship_tag": "ABX9TyNRTKbtkwTRFD4PYLytJFou",
      "include_colab_link": true
    },
    "kernelspec": {
      "name": "python3",
      "display_name": "Python 3"
    },
    "language_info": {
      "name": "python"
    }
  },
  "cells": [
    {
      "cell_type": "markdown",
      "metadata": {
        "id": "view-in-github",
        "colab_type": "text"
      },
      "source": [
        "<a href=\"https://colab.research.google.com/github/AnelKweyu/Python-Guide/blob/master/_30_File_Handling.ipynb\" target=\"_parent\"><img src=\"https://colab.research.google.com/assets/colab-badge.svg\" alt=\"Open In Colab\"/></a>"
      ]
    },
    {
      "cell_type": "markdown",
      "source": [
        "# Python File Handling\n"
      ],
      "metadata": {
        "id": "AsDYUFr15zrn"
      }
    },
    {
      "cell_type": "markdown",
      "source": [
        "File handling is an important part of any web application.\n",
        "\n",
        "Python has several functions for creating, reading, updating, and deleting files."
      ],
      "metadata": {
        "id": "_VaPpv6f6WZi"
      }
    },
    {
      "cell_type": "markdown",
      "source": [
        "The key function for working with files in Python is the `open()` function.\n",
        "\n",
        "The `open()` function takes two parameters; filename, and mode.\n",
        "\n",
        "There are four different methods (modes) for opening a file:"
      ],
      "metadata": {
        "id": "8xbFCA7265g3"
      }
    },
    {
      "cell_type": "markdown",
      "source": [
        "`\"r\"` - Read - Default value. Opens a file for reading, error if the file does not exist\n",
        "\n",
        "`\"a\"` - Append - Opens a file for appending, creates the file if it does not exist\n",
        "\n",
        "`\"w\" `- Write - Opens a file for writing, creates the file if it does not exist\n",
        "\n",
        "`\"x\"` - Create - Creates the specified file, returns an error if the file exists"
      ],
      "metadata": {
        "id": "pAGVH5BO7BfC"
      }
    },
    {
      "cell_type": "markdown",
      "source": [
        "In addition you can specify if the file should be handled as binary or text mode"
      ],
      "metadata": {
        "id": "HWIJwbfD7QUe"
      }
    },
    {
      "cell_type": "markdown",
      "source": [
        "`\"t\"` - Text - Default value. Text mode\n",
        "\n",
        "`\"b\"` - Binary - Binary mode (e.g. images)"
      ],
      "metadata": {
        "id": "CvYvgpb47Rnz"
      }
    },
    {
      "cell_type": "markdown",
      "source": [
        "Syntax\n",
        "To open a file for reading it is enough to specify the name of the file:\n",
        "\n",
        "\n",
        "```\n",
        "f = open(\"demofile.txt\")\n",
        "```\n",
        "\n",
        "\n",
        "```\n",
        "f = open(\"demofile.txt\", \"rt\")\n",
        "```\n",
        "\n",
        "\n",
        "\n"
      ],
      "metadata": {
        "id": "AHZRYovq7k2q"
      }
    },
    {
      "cell_type": "markdown",
      "source": [
        "Because `\"r\"` for read, and `\"t\"` for text are the default values, you do not need to specify them."
      ],
      "metadata": {
        "id": "_dgonX3X8DED"
      }
    },
    {
      "cell_type": "markdown",
      "source": [
        "**Note**: Make sure the file exists, or else you will get an error."
      ],
      "metadata": {
        "id": "2Ik8IVng8I4G"
      }
    },
    {
      "cell_type": "markdown",
      "source": [
        "## Python File Open/Read"
      ],
      "metadata": {
        "id": "-D7vG-UC8wb8"
      }
    },
    {
      "cell_type": "markdown",
      "source": [
        "Open a File on the Server\n",
        "Assume we have the following file, located in the same folder as Python:\n",
        "\n",
        "demofile.txt\n",
        "```\n",
        "Hello! Welcome to demofile.txt\n",
        "This file is for testing purposes.\n",
        "Good Luck!\n",
        "```\n",
        "\n",
        "\n"
      ],
      "metadata": {
        "id": "5WR96TKd8-uc"
      }
    },
    {
      "cell_type": "markdown",
      "source": [
        "To open the file, use the built-in `open()` function.\n",
        "\n",
        "The `open()` function returns a file object, which has a `read()` method for reading the content of the file:"
      ],
      "metadata": {
        "id": "tFLx7ldM9Sf-"
      }
    },
    {
      "cell_type": "code",
      "source": [
        "f = open(\"demofile.txt\", \"r\")\n",
        "print(f.read())"
      ],
      "metadata": {
        "id": "DSYr0Hd79bx2"
      },
      "execution_count": null,
      "outputs": []
    },
    {
      "cell_type": "markdown",
      "source": [
        "If the file is located in a different location, you will have to specify the file path, like this:\n",
        "\n"
      ],
      "metadata": {
        "id": "8Cs9nKmp9kGe"
      }
    },
    {
      "cell_type": "code",
      "source": [
        "f = open(\"D:\\\\myfiles\\welcome.txt\", \"r\")\n",
        "print(f.read())"
      ],
      "metadata": {
        "id": "RlDEJGRw9lJk"
      },
      "execution_count": null,
      "outputs": []
    },
    {
      "cell_type": "markdown",
      "source": [
        "### Read Only Parts of the File\n",
        "By default the `read()` method returns the whole text, but you can also specify how many characters you want to return:"
      ],
      "metadata": {
        "id": "unvgxhnh_CLu"
      }
    },
    {
      "cell_type": "code",
      "source": [
        "#Return the 5 first characters of the file:\n",
        "f = open(\"demofile.txt\", \"r\")\n",
        "print(f.read(5))"
      ],
      "metadata": {
        "id": "fAkI8RC2_Iq2"
      },
      "execution_count": null,
      "outputs": []
    },
    {
      "cell_type": "markdown",
      "source": [
        "### Read Lines\n",
        "You can return one line by using the `readline()` method:"
      ],
      "metadata": {
        "id": "gDIsox2g_NhG"
      }
    },
    {
      "cell_type": "code",
      "source": [
        "#Read one line of the file:\n",
        "f = open(\"demofile.txt\", \"r\")\n",
        "print(f.readline())"
      ],
      "metadata": {
        "id": "dalP5_EW_tQC"
      },
      "execution_count": null,
      "outputs": []
    },
    {
      "cell_type": "markdown",
      "source": [
        "By looping through the lines of the file, you can read the whole file, line by line:"
      ],
      "metadata": {
        "id": "reC7LX-9_beG"
      }
    },
    {
      "cell_type": "code",
      "source": [
        "#Loop through the file line by line:\n",
        "f = open(\"demofile.txt\", \"r\")\n",
        "for x in f:\n",
        "  print(x)"
      ],
      "metadata": {
        "id": "lp3_-zx-_7O3"
      },
      "execution_count": null,
      "outputs": []
    },
    {
      "cell_type": "markdown",
      "source": [
        "### Close Files\n",
        "It is a good practice to always close the file when you are done with it."
      ],
      "metadata": {
        "id": "0Bjq7cHoAPR3"
      }
    },
    {
      "cell_type": "code",
      "source": [
        "#Close the file when you are finish with it:\n",
        "f = open(\"demofile.txt\", \"r\")\n",
        "print(f.readline())\n",
        "f.close()"
      ],
      "metadata": {
        "id": "UVsbnif4AWgQ"
      },
      "execution_count": null,
      "outputs": []
    },
    {
      "cell_type": "markdown",
      "source": [
        "**Note**: You should always close your files, in some cases, due to buffering, changes made to a file may not show until you close the file."
      ],
      "metadata": {
        "id": "T9B1wJbpAjZV"
      }
    },
    {
      "cell_type": "markdown",
      "source": [
        "## Python File Write/Create"
      ],
      "metadata": {
        "id": "kVZW-QpPBwSL"
      }
    },
    {
      "cell_type": "markdown",
      "source": [
        "### Write to an Existing File\n",
        "To write to an existing file, you must add a parameter to the `open()` function:\n",
        "\n",
        "`\"a\"` - Append - will append to the end of the file\n",
        "\n",
        "`\"w\"` - Write - will overwrite any existing content"
      ],
      "metadata": {
        "id": "GTdg6mpDC4CU"
      }
    },
    {
      "cell_type": "code",
      "source": [
        "#Open the file \"demofile2.txt\" and append content to the file:\n",
        "f = open(\"demofile2.txt\", \"a\")\n",
        "f.write(\"Now the file has more content!\")\n",
        "f.close()\n",
        "\n",
        "#open and read the file after the appending:\n",
        "f = open(\"demofile2.txt\", \"r\")\n",
        "print(f.read())"
      ],
      "metadata": {
        "id": "GSaYakLCDE_6"
      },
      "execution_count": null,
      "outputs": []
    },
    {
      "cell_type": "code",
      "source": [
        "#Open the file \"demofile3.txt\" and overwrite the content:\n",
        "f = open(\"demofile3.txt\", \"w\")\n",
        "f.write(\"Woops! I have deleted the content!\")\n",
        "f.close()\n",
        "\n",
        "#open and read the file after the overwriting:\n",
        "f = open(\"demofile3.txt\", \"r\")\n",
        "print(f.read())"
      ],
      "metadata": {
        "id": "4KPXJ89BDhmI"
      },
      "execution_count": null,
      "outputs": []
    },
    {
      "cell_type": "markdown",
      "source": [
        "### Create a New File\n",
        "To create a new file in Python, use the `open()` method, with one of the following parameters:\n",
        "\n",
        "`\"x\"` - Create - will create a file, returns an error if the file exist\n",
        "\n",
        "`\"a\"` - Append - will create a file if the specified file does not exist\n",
        "\n",
        "`\"w\"` - Write - will create a file if the specified file does not exist"
      ],
      "metadata": {
        "id": "Ph31ORbEEJKM"
      }
    },
    {
      "cell_type": "code",
      "source": [
        "#Create a file called \"myfile.txt\":\n",
        "f = open(\"myfile.txt\", \"x\")\n",
        "\n",
        "#Result: a new empty file is created!\n",
        "\n",
        "#Create a new file if it does not exist:\n",
        "f = open(\"myfile.txt\", \"w\")"
      ],
      "metadata": {
        "id": "TC-gLhWYElem"
      },
      "execution_count": null,
      "outputs": []
    },
    {
      "cell_type": "markdown",
      "source": [
        "## Python Delete File"
      ],
      "metadata": {
        "id": "-vGEXGw2FGFo"
      }
    },
    {
      "cell_type": "markdown",
      "source": [
        "### Delete a File\n",
        "To delete a file, you must import the OS module, and run its `os.remove()` function:"
      ],
      "metadata": {
        "id": "2_dcS1pYFMjA"
      }
    },
    {
      "cell_type": "code",
      "source": [
        "import os\n",
        "os.remove(\"demofile.txt\")"
      ],
      "metadata": {
        "id": "PwQ8e4fVFam5"
      },
      "execution_count": null,
      "outputs": []
    },
    {
      "cell_type": "markdown",
      "source": [
        "### Check if File exist:\n",
        "To avoid getting an error, you might want to check if the file exists before you try to delete it:"
      ],
      "metadata": {
        "id": "pFoHn9eqFgy_"
      }
    },
    {
      "cell_type": "code",
      "source": [
        "import os\n",
        "if os.path.exists(\"demofile.txt\"):\n",
        "  os.remove(\"demofile.txt\")\n",
        "else:\n",
        "  print(\"The file does not exist\")"
      ],
      "metadata": {
        "id": "NadimfdoFmFm"
      },
      "execution_count": null,
      "outputs": []
    },
    {
      "cell_type": "markdown",
      "source": [
        "### Delete Folder\n",
        "To delete an entire folder, use the `os.rmdir()` method:"
      ],
      "metadata": {
        "id": "T4E3sTs0Fr4W"
      }
    },
    {
      "cell_type": "code",
      "source": [
        "import os\n",
        "os.rmdir(\"myfolder\")"
      ],
      "metadata": {
        "id": "hRrSpqjJFzYr"
      },
      "execution_count": null,
      "outputs": []
    },
    {
      "cell_type": "markdown",
      "source": [
        "**Note**: You can only remove empty folders."
      ],
      "metadata": {
        "id": "DZY7YzLvF_bt"
      }
    },
    {
      "cell_type": "markdown",
      "source": [
        "## Python File Methods\n"
      ],
      "metadata": {
        "id": "Vlm7Qu8JPHVR"
      }
    },
    {
      "cell_type": "markdown",
      "source": [
        "| **Method**   | **Description**                                                                           |\n",
        "|:------------:|:-----------------------------------------------------------------------------------------:|\n",
        "| `close()`      | Closes the file                                                                           |\n",
        "| `detach()`     | Returns the separated raw stream from the buffer                                     |\n",
        "| `fileno()`     | Returns a number that  represents the stream, from the operating system's perspective |\n",
        "| `flush()`      | Flushes the internal     buffer                                                          |\n",
        "| `isatty()`     | Returns whether the     file stream is interactive or not                                |\n",
        "| `read()`       | Returns the file content                                                                  |\n",
        "| `readable()`   | Returns whether     the file stream can be read or not                                   |\n",
        "| `readline()`   | Returns one line     from the file                                                       |\n",
        "| `readlines()`  | Returns a list     of lines from the file                                                |\n",
        "| `seek()`       | Change the file position                                                                  |\n",
        "| `seekable()`   | Returns whether     the file allows us to change the file position                       |\n",
        "| `tell()`       | Returns the current file     position                                                    |\n",
        "| `truncate()`   | Resizes the file     to a specified size                                                 |\n",
        "| `writable()`   | Returns whether     the file can be written to or not                                    |\n",
        "| `write()`      | Writes the specified     string to the file                                              |\n",
        "| `writelines()` | Writes a list     of strings to the file                                                 |\n"
      ],
      "metadata": {
        "id": "QI2qwFx4PIe-"
      }
    }
  ]
}