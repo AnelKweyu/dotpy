{
  "nbformat": 4,
  "nbformat_minor": 0,
  "metadata": {
    "colab": {
      "provenance": [],
      "authorship_tag": "ABX9TyMvSVW1iY7zNLlesmGSwdZ9",
      "include_colab_link": true
    },
    "kernelspec": {
      "name": "python3",
      "display_name": "Python 3"
    },
    "language_info": {
      "name": "python"
    }
  },
  "cells": [
    {
      "cell_type": "markdown",
      "metadata": {
        "id": "view-in-github",
        "colab_type": "text"
      },
      "source": [
        "<a href=\"https://colab.research.google.com/github/AnelKweyu/Python-Guide/blob/master/_16_Functions.ipynb\" target=\"_parent\"><img src=\"https://colab.research.google.com/assets/colab-badge.svg\" alt=\"Open In Colab\"/></a>"
      ]
    },
    {
      "cell_type": "markdown",
      "source": [
        "A function is a block of code which only runs when it is called.\n",
        "\n",
        "You can pass data, known as parameters, into a function.\n",
        "\n",
        "A function can return data as a result."
      ],
      "metadata": {
        "id": "YBaCTpdv34zK"
      }
    },
    {
      "cell_type": "markdown",
      "source": [
        "### Creating a Function\n",
        "In Python a function is defined using the `def` keyword:"
      ],
      "metadata": {
        "id": "bAS_Jg5T4Zul"
      }
    },
    {
      "cell_type": "code",
      "source": [
        "def my_function():\n",
        "  print(\"Hello from a function\")"
      ],
      "metadata": {
        "id": "gD-Kn6zP4jfU"
      },
      "execution_count": null,
      "outputs": []
    },
    {
      "cell_type": "markdown",
      "source": [
        "### Calling a Function\n",
        "To call a function, use the function name followed by parenthesis:"
      ],
      "metadata": {
        "id": "DvVJcxzN4p42"
      }
    },
    {
      "cell_type": "code",
      "source": [
        "def my_function():\n",
        "  print(\"Hello from a function\")\n",
        "\n",
        "my_function()"
      ],
      "metadata": {
        "id": "6P-n1HjV4sB0",
        "colab": {
          "base_uri": "https://localhost:8080/"
        },
        "outputId": "db7bb2aa-734a-47b4-961f-e96cd91045a3"
      },
      "execution_count": null,
      "outputs": [
        {
          "output_type": "stream",
          "name": "stdout",
          "text": [
            "Hello from a function\n"
          ]
        }
      ]
    },
    {
      "cell_type": "markdown",
      "source": [
        "### Arguments\n",
        "Information can be passed into functions as arguments.\n",
        "\n",
        "Arguments are specified after the function name, inside the parentheses. You can add as many arguments as you want, just separate them with a comma.\n",
        "\n",
        "The following example has a function with one argument (fname). When the function is called, we pass along a first name, which is used inside the function to print the full name:"
      ],
      "metadata": {
        "id": "xZuU10vY4wcb"
      }
    },
    {
      "cell_type": "code",
      "source": [
        "def my_function(fname):\n",
        "  print(fname + \" Refsnes\")\n",
        "\n",
        "my_function(\"Emil\")\n",
        "my_function(\"Tobias\")\n",
        "my_function(\"Linus\")"
      ],
      "metadata": {
        "id": "OAgbmUi_44H6",
        "colab": {
          "base_uri": "https://localhost:8080/"
        },
        "outputId": "8081914b-c290-4cc1-f46b-5d7cd7fed179"
      },
      "execution_count": null,
      "outputs": [
        {
          "output_type": "stream",
          "name": "stdout",
          "text": [
            "Emil Refsnes\n",
            "Tobias Refsnes\n",
            "Linus Refsnes\n"
          ]
        }
      ]
    },
    {
      "cell_type": "markdown",
      "source": [
        "Arguments are often shortened to args in Python documentations."
      ],
      "metadata": {
        "id": "YMhX5FM36YfO"
      }
    },
    {
      "cell_type": "markdown",
      "source": [
        "### Parameters or Arguments?\n",
        "The terms parameter and argument can be used for the same thing: information that are passed into a function.\n",
        "\n",
        "From a function's perspective:\n",
        "\n",
        "A parameter is the variable listed inside the parentheses in the function definition.\n",
        "\n",
        "An argument is the value that is sent to the function when it is called."
      ],
      "metadata": {
        "id": "8oSQHh1r6kLM"
      }
    },
    {
      "cell_type": "markdown",
      "source": [
        "### Number of Arguments\n",
        "By default, a function must be called with the correct number of arguments. Meaning that if your function expects 2 arguments, you have to call the function with 2 arguments, not more, and not less."
      ],
      "metadata": {
        "id": "J9EV7j3s6tbL"
      }
    },
    {
      "cell_type": "code",
      "source": [
        "def my_function(fname, lname):\n",
        "  print(fname + \" \" + lname)\n",
        "\n",
        "my_function(\"Emil\", \"Refsnes\")"
      ],
      "metadata": {
        "id": "IvO-HqVw6mLu",
        "colab": {
          "base_uri": "https://localhost:8080/"
        },
        "outputId": "12cc2d5b-a991-449e-dc69-e2f70252d0b9"
      },
      "execution_count": null,
      "outputs": [
        {
          "output_type": "stream",
          "name": "stdout",
          "text": [
            "Emil Refsnes\n"
          ]
        }
      ]
    },
    {
      "cell_type": "markdown",
      "source": [
        " you try to call the function with 1 or 3 arguments, you will get an error:"
      ],
      "metadata": {
        "id": "_Mnd6c1A67-v"
      }
    },
    {
      "cell_type": "code",
      "source": [
        "def my_function(fname, lname):\n",
        "  print(fname + \" \" + lname)\n",
        "\n",
        "my_function(\"Emil\")"
      ],
      "metadata": {
        "id": "BD7gB8xL68y_",
        "colab": {
          "base_uri": "https://localhost:8080/",
          "height": 217
        },
        "outputId": "6351b66e-ced5-4435-a383-09f9b2246271"
      },
      "execution_count": null,
      "outputs": [
        {
          "output_type": "error",
          "ename": "TypeError",
          "evalue": "ignored",
          "traceback": [
            "\u001b[0;31m---------------------------------------------------------------------------\u001b[0m",
            "\u001b[0;31mTypeError\u001b[0m                                 Traceback (most recent call last)",
            "\u001b[0;32m<ipython-input-6-49655f8043be>\u001b[0m in \u001b[0;36m<cell line: 4>\u001b[0;34m()\u001b[0m\n\u001b[1;32m      2\u001b[0m   \u001b[0mprint\u001b[0m\u001b[0;34m(\u001b[0m\u001b[0mfname\u001b[0m \u001b[0;34m+\u001b[0m \u001b[0;34m\" \"\u001b[0m \u001b[0;34m+\u001b[0m \u001b[0mlname\u001b[0m\u001b[0;34m)\u001b[0m\u001b[0;34m\u001b[0m\u001b[0;34m\u001b[0m\u001b[0m\n\u001b[1;32m      3\u001b[0m \u001b[0;34m\u001b[0m\u001b[0m\n\u001b[0;32m----> 4\u001b[0;31m \u001b[0mmy_function\u001b[0m\u001b[0;34m(\u001b[0m\u001b[0;34m\"Emil\"\u001b[0m\u001b[0;34m)\u001b[0m\u001b[0;34m\u001b[0m\u001b[0;34m\u001b[0m\u001b[0m\n\u001b[0m",
            "\u001b[0;31mTypeError\u001b[0m: my_function() missing 1 required positional argument: 'lname'"
          ]
        }
      ]
    },
    {
      "cell_type": "markdown",
      "source": [
        "### Arbitrary Arguments, *args\n",
        "If you do not know how many arguments that will be passed into your function, add a `*` before the parameter name in the function definition.\n",
        "\n",
        "This way the function will receive a tuple of arguments, and can access the items accordingly:"
      ],
      "metadata": {
        "id": "ZtgMDHd77Kcq"
      }
    },
    {
      "cell_type": "code",
      "source": [
        "def my_function(*kids):\n",
        "  print(\"The youngest child is \" + kids[2])\n",
        "\n",
        "my_function(\"Emil\", \"Tobias\", \"Linus\")"
      ],
      "metadata": {
        "id": "iWBp9Bdk7L-Z",
        "colab": {
          "base_uri": "https://localhost:8080/"
        },
        "outputId": "e4239318-0924-4060-c559-7411b6952751"
      },
      "execution_count": null,
      "outputs": [
        {
          "output_type": "stream",
          "name": "stdout",
          "text": [
            "The youngest child is Linus\n"
          ]
        }
      ]
    },
    {
      "cell_type": "markdown",
      "source": [
        "Arbitrary Arguments are often shortened to `*args` in Python documentations."
      ],
      "metadata": {
        "id": "hSGBSpTB7thg"
      }
    },
    {
      "cell_type": "markdown",
      "source": [
        "### Keyword Arguments\n",
        "You can also send arguments with the key = value syntax.\n",
        "\n",
        "This way the order of the arguments does not matter.\n",
        "\n",
        "\n"
      ],
      "metadata": {
        "id": "jnm7PJwr7MfQ"
      }
    },
    {
      "cell_type": "code",
      "source": [
        "def my_function(child3, child2, child1):\n",
        "  print(\"The youngest child is \" + child3)\n",
        "\n",
        "my_function(child1 = \"Emil\", child2 = \"Tobias\", child3 = \"Linus\")"
      ],
      "metadata": {
        "id": "kQzgzWoL7NpJ",
        "colab": {
          "base_uri": "https://localhost:8080/"
        },
        "outputId": "29b316d6-2584-4919-9905-261191a2629c"
      },
      "execution_count": null,
      "outputs": [
        {
          "output_type": "stream",
          "name": "stdout",
          "text": [
            "The youngest child is Linus\n"
          ]
        }
      ]
    },
    {
      "cell_type": "markdown",
      "source": [
        "The phrase Keyword Arguments are often shortened to kwargs in Python documentations."
      ],
      "metadata": {
        "id": "ubBUqYmx8GlI"
      }
    },
    {
      "cell_type": "markdown",
      "source": [
        "### Arbitrary Keyword Arguments, **kwargs\n",
        "If you do not know how many keyword arguments that will be passed into your function, add two asterisk: `**` before the parameter name in the function definition.\n",
        "\n",
        "This way the function will receive a dictionary of arguments, and can access the items accordingly:"
      ],
      "metadata": {
        "id": "5chmF-Kj7N_R"
      }
    },
    {
      "cell_type": "code",
      "source": [
        "def my_function(**kid):\n",
        "  print(\"His last name is \" + kid[\"lname\"])\n",
        "\n",
        "my_function(fname = \"Tobias\", lname = \"Refsnes\")"
      ],
      "metadata": {
        "id": "b9NiXb-B7PSo",
        "colab": {
          "base_uri": "https://localhost:8080/"
        },
        "outputId": "2d27257d-081e-46e8-ef31-a8a245b392da"
      },
      "execution_count": null,
      "outputs": [
        {
          "output_type": "stream",
          "name": "stdout",
          "text": [
            "His last name is Refsnes\n"
          ]
        }
      ]
    },
    {
      "cell_type": "markdown",
      "source": [
        "Arbitrary Kword Arguments are often shortened to **kwargs in Python documentations."
      ],
      "metadata": {
        "id": "21vpDa7P8iyl"
      }
    },
    {
      "cell_type": "markdown",
      "source": [
        "### Default Parameter Value\n",
        "The following example shows how to use a default parameter value.\n",
        "\n",
        "If we call the function without argument, it uses the default value:"
      ],
      "metadata": {
        "id": "_xe6l7Y17PqQ"
      }
    },
    {
      "cell_type": "code",
      "source": [
        "def my_function(country = \"Norway\"):\n",
        "  print(\"I am from \" + country)\n",
        "\n",
        "my_function(\"Sweden\")\n",
        "my_function(\"India\")\n",
        "my_function()\n",
        "my_function(\"Brazil\")"
      ],
      "metadata": {
        "id": "gdgyGgvp7Rhh",
        "colab": {
          "base_uri": "https://localhost:8080/"
        },
        "outputId": "5d6d4132-b7bf-4620-d3ab-58657d9609a4"
      },
      "execution_count": null,
      "outputs": [
        {
          "output_type": "stream",
          "name": "stdout",
          "text": [
            "I am from Sweden\n",
            "I am from India\n",
            "I am from Norway\n",
            "I am from Brazil\n"
          ]
        }
      ]
    },
    {
      "cell_type": "markdown",
      "source": [
        "### Passing a List as an Argument\n",
        "You can send any data types of argument to a function (string, number, list, dictionary etc.), and it will be treated as the same data type inside the function.\n",
        "\n",
        "E.g. if you send a List as an argument, it will still be a List when it reaches the function:"
      ],
      "metadata": {
        "id": "qib8X--Z7TF5"
      }
    },
    {
      "cell_type": "code",
      "source": [
        "def my_function(food):\n",
        "  for x in food:\n",
        "    print(x)\n",
        "\n",
        "fruits = [\"apple\", \"banana\", \"cherry\"]\n",
        "\n",
        "my_function(fruits)"
      ],
      "metadata": {
        "id": "5PLNmkfY7Uv8",
        "colab": {
          "base_uri": "https://localhost:8080/"
        },
        "outputId": "d8af15e5-45ff-449f-865e-554fb5a53f86"
      },
      "execution_count": null,
      "outputs": [
        {
          "output_type": "stream",
          "name": "stdout",
          "text": [
            "apple\n",
            "banana\n",
            "cherry\n"
          ]
        }
      ]
    },
    {
      "cell_type": "markdown",
      "source": [
        "### Return Values\n",
        "To let a function return a value, use the `return` statement:"
      ],
      "metadata": {
        "id": "2hVv0UBD7VDp"
      }
    },
    {
      "cell_type": "code",
      "source": [
        "def my_function(x):\n",
        "  return 5 * x\n",
        "\n",
        "print(my_function(3))\n",
        "print(my_function(5))\n",
        "print(my_function(9))"
      ],
      "metadata": {
        "id": "zTEy3Ihs7W9p",
        "colab": {
          "base_uri": "https://localhost:8080/"
        },
        "outputId": "6c0a2e67-d546-4dde-af76-74a25b0b0959"
      },
      "execution_count": null,
      "outputs": [
        {
          "output_type": "stream",
          "name": "stdout",
          "text": [
            "15\n",
            "25\n",
            "45\n"
          ]
        }
      ]
    },
    {
      "cell_type": "markdown",
      "source": [
        "### The pass Statement\n",
        "function definitions cannot be empty, but if you for some reason have a function definition with no content, put in the `pass` statement to avoid getting an error."
      ],
      "metadata": {
        "id": "3FENTP6W7XNB"
      }
    },
    {
      "cell_type": "code",
      "source": [
        "def myfunction():\n",
        "  pass"
      ],
      "metadata": {
        "id": "gt8NlNRz7ZTi"
      },
      "execution_count": null,
      "outputs": []
    },
    {
      "cell_type": "markdown",
      "source": [
        "### Recursion\n",
        "Python also accepts function recursion, which means a defined function can call itself.\n",
        "\n",
        "Recursion is a common mathematical and programming concept. It means that a function calls itself. This has the benefit of meaning that you can loop through data to reach a result.\n",
        "\n",
        "The developer should be very careful with recursion as it can be quite easy to slip into writing a function which never terminates, or one that uses excess amounts of memory or processor power. However, when written correctly recursion can be a very efficient and mathematically-elegant approach to programming.\n",
        "\n",
        "In this example, `tri_recursion()` is a function that we have defined to call itself (\"recurse\"). We use the `k` variable as the data, which decrements (`-1`) every time we recurse. The recursion ends when the condition is not greater than 0 (i.e. when it is 0).\n",
        "\n",
        "To a new developer it can take some time to work out how exactly this works, best way to find out is by testing and modifying it.\n",
        "\n"
      ],
      "metadata": {
        "id": "HOHLG9gF7Zq7"
      }
    },
    {
      "cell_type": "code",
      "source": [
        "def tri_recursion(k):\n",
        "  if(k > 0):\n",
        "    result = k + tri_recursion(k - 1)\n",
        "    print(result)\n",
        "  else:\n",
        "    result = 0\n",
        "  return result\n",
        "\n",
        "print(\"\\n\\nRecursion Example Results\")\n",
        "tri_recursion(6)"
      ],
      "metadata": {
        "id": "wYSAeBnz7a7Y",
        "colab": {
          "base_uri": "https://localhost:8080/"
        },
        "outputId": "1ebd8e08-1dd1-496d-bdbe-592b80ce2d9e"
      },
      "execution_count": null,
      "outputs": [
        {
          "output_type": "stream",
          "name": "stdout",
          "text": [
            "\n",
            "\n",
            "Recursion Example Results\n",
            "1\n",
            "3\n",
            "6\n",
            "10\n",
            "15\n",
            "21\n"
          ]
        },
        {
          "output_type": "execute_result",
          "data": {
            "text/plain": [
              "21"
            ]
          },
          "metadata": {},
          "execution_count": 14
        }
      ]
    },
    {
      "cell_type": "markdown",
      "source": [
        "## Python Lambda\n",
        "A lambda function is a small anonymous function.\n",
        "\n",
        "A lambda function can take any number of arguments, but can only have one expression.\n",
        "\n"
      ],
      "metadata": {
        "id": "tXujaypvORcK"
      }
    },
    {
      "cell_type": "markdown",
      "source": [
        "### Syntax\n",
        "\n",
        "```\n",
        "lambda arguments : expression\n",
        "```\n",
        "\n"
      ],
      "metadata": {
        "id": "48oEHUh8OZf7"
      }
    },
    {
      "cell_type": "markdown",
      "source": [
        "The expression is executed and the result is returned:\n",
        "\n"
      ],
      "metadata": {
        "id": "i_QjYEVZOjwl"
      }
    },
    {
      "cell_type": "code",
      "source": [
        "x = lambda a : a + 10\n",
        "print(x(5))"
      ],
      "metadata": {
        "colab": {
          "base_uri": "https://localhost:8080/"
        },
        "id": "oGXe6XrVOkhc",
        "outputId": "65cabbf8-2dc8-4244-9ccf-54466ca6ff70"
      },
      "execution_count": null,
      "outputs": [
        {
          "output_type": "stream",
          "name": "stdout",
          "text": [
            "15\n"
          ]
        }
      ]
    },
    {
      "cell_type": "markdown",
      "source": [
        "Lambda functions can take any number of arguments:"
      ],
      "metadata": {
        "id": "7SZiXmVoOpR8"
      }
    },
    {
      "cell_type": "code",
      "source": [
        "x = lambda a, b : a * b\n",
        "print(x(5, 6))"
      ],
      "metadata": {
        "colab": {
          "base_uri": "https://localhost:8080/"
        },
        "id": "v-quUrRNOqDO",
        "outputId": "4e7e29e4-c0f3-41d3-a722-68babb5d54a4"
      },
      "execution_count": null,
      "outputs": [
        {
          "output_type": "stream",
          "name": "stdout",
          "text": [
            "30\n"
          ]
        }
      ]
    },
    {
      "cell_type": "code",
      "source": [
        "x = lambda a, b, c : a + b + c\n",
        "print(x(5, 6, 2))"
      ],
      "metadata": {
        "colab": {
          "base_uri": "https://localhost:8080/"
        },
        "id": "rDJmD4B7O0yR",
        "outputId": "f6be32bd-56b9-4f3c-fb64-40cc458a3406"
      },
      "execution_count": null,
      "outputs": [
        {
          "output_type": "stream",
          "name": "stdout",
          "text": [
            "13\n"
          ]
        }
      ]
    },
    {
      "cell_type": "markdown",
      "source": [
        "### Why Use Lambda Functions?\n",
        "The power of lambda is better shown when you use them as an anonymous function inside another function.\n",
        "\n",
        "Say you have a function definition that takes one argument, and that argument will be multiplied with an unknown number:"
      ],
      "metadata": {
        "id": "_Wn2Q_YdOukK"
      }
    },
    {
      "cell_type": "code",
      "source": [
        "def myfunc(n):\n",
        "  return lambda a : a * n"
      ],
      "metadata": {
        "id": "EfQYDbTlPA1w"
      },
      "execution_count": null,
      "outputs": []
    },
    {
      "cell_type": "markdown",
      "source": [
        "Use that function definition to make a function that always doubles the number you send in:\n",
        "\n"
      ],
      "metadata": {
        "id": "Idm5GIcWPBWy"
      }
    },
    {
      "cell_type": "code",
      "source": [
        "def myfunc(n):\n",
        "  return lambda a : a * n\n",
        "\n",
        "mydoubler = myfunc(2)\n",
        "\n",
        "print(mydoubler(11))"
      ],
      "metadata": {
        "colab": {
          "base_uri": "https://localhost:8080/"
        },
        "id": "BynLkMAEPCZs",
        "outputId": "e33a3a61-2756-4434-dd55-1593f0f9b0d8"
      },
      "execution_count": null,
      "outputs": [
        {
          "output_type": "stream",
          "name": "stdout",
          "text": [
            "22\n"
          ]
        }
      ]
    },
    {
      "cell_type": "markdown",
      "source": [
        "Or, use the same function definition to make a function that always triples the number you send in:\n",
        "\n"
      ],
      "metadata": {
        "id": "9PRcReHSPF64"
      }
    },
    {
      "cell_type": "code",
      "source": [
        "def myfunc(n):\n",
        "  return lambda a : a * n\n",
        "\n",
        "mytripler = myfunc(3)\n",
        "\n",
        "print(mytripler(11))"
      ],
      "metadata": {
        "colab": {
          "base_uri": "https://localhost:8080/"
        },
        "id": "THdV10CFPG8x",
        "outputId": "3feaecc3-c76d-4ece-97f1-c9f5a4eed195"
      },
      "execution_count": null,
      "outputs": [
        {
          "output_type": "stream",
          "name": "stdout",
          "text": [
            "33\n"
          ]
        }
      ]
    },
    {
      "cell_type": "markdown",
      "source": [
        "Or, use the same function definition to make both functions, in the same program:\n",
        "\n"
      ],
      "metadata": {
        "id": "y_ZG_7UwPHd-"
      }
    },
    {
      "cell_type": "code",
      "source": [
        "def myfunc(n):\n",
        "  return lambda a : a * n\n",
        "\n",
        "mydoubler = myfunc(2)\n",
        "mytripler = myfunc(3)\n",
        "\n",
        "print(mydoubler(11))\n",
        "print(mytripler(11))"
      ],
      "metadata": {
        "colab": {
          "base_uri": "https://localhost:8080/"
        },
        "id": "AzLMU6OfPMy9",
        "outputId": "d8ae5e11-08f2-442e-9579-fdd9176af113"
      },
      "execution_count": null,
      "outputs": [
        {
          "output_type": "stream",
          "name": "stdout",
          "text": [
            "22\n",
            "33\n"
          ]
        }
      ]
    },
    {
      "cell_type": "markdown",
      "source": [
        "## Built in Functions"
      ],
      "metadata": {
        "id": "7NRXzS-9SI8N"
      }
    },
    {
      "cell_type": "markdown",
      "source": [
        "| **Function**   | **Description**                                                                               |\n",
        "|:--------------:|:---------------------------------------------------------------------------------------------:|\n",
        "| `abs()`          | Returns the absolute value of a number                                                        |\n",
        "| `all()`          | Returns True if all items in an iterable object are true                                      |\n",
        "| `any()`          | Returns True if any item in an iterable object is true                                        |\n",
        "| `ascii()`        | Returns a readable version of an object. Replaces none-ascii characters with escape character |\n",
        "| `bin()`          | Returns the binary version of a number                                                        |\n",
        "| `bool()`         | Returns the boolean value of the specified object                                             |\n",
        "| `bytearray()`    | Returns an array of bytes                                                                     |\n",
        "| `bytes()`        | Returns a bytes object                                                                        |\n",
        "| `callable()`     | Returns True if the specified object is callable, otherwise False                             |\n",
        "| `chr()`          | Returns a character from the specified Unicode code.                                       |\n",
        "| `classmethod()`  | Converts a method into a class method                                                         |\n",
        "| `compile()`      | Returns the specified source as an object, ready to be executed                               |\n",
        "| `complex()`      | Returns a complex number                                                                      |\n",
        "| `delattr()`      | Deletes the specified attribute (property or method) from the specified object                |\n",
        "| `dict()`         | Returns a dictionary (Array)                                                                  |\n",
        "| `dir()`          | Returns a list of the specified object's properties and methods                               |\n",
        "| `divmod()`       | Returns the quotient and the remainder when argument1 is divided by argument2                 |\n",
        "| `enumerate()`    | Takes a collection (e.g. a tuple) and returns it as an enumerate object                       |\n",
        "| `eval()`         | Evaluates and executes an expression                                                          |\n",
        "| `exec()`         | Executes the specified code (or object)                                                       |\n",
        "| `filter()`       | Use a filter function to exclude items in an iterable object                                  |\n",
        "| `float()`        | Returns a floating point number                                                               |\n",
        "| `format()`       | Formats a specified value                                                                     |\n",
        "| `frozenset()`    | Returns a frozenset object                                                                    |\n",
        "| `getattr()`      | Returns the value of the specified attribute (property or method)                             |\n",
        "| `globals()`      | Returns the current global symbol table as a dictionary                                       |\n",
        "| `hasattr()`      | Returns True if the specified object has the specified attribute (property/method)            |\n",
        "| `hash()`         | Returns the hash value of a specified object                                                  |\n",
        "| `help()`         | Executes the built-in help system                                                             |\n",
        "| `hex()`          | Converts a number into a hexadecimal value                                                    |\n",
        "| `id()`           | Returns the id of an object                                                                   |\n",
        "| `input()`        | Allowing user input                                                                           |\n",
        "| `int()`          | Returns an integer number                                                                     |\n",
        "| `isinstance()`   | Returns True if a specified object is an instance of a specified object                       |\n",
        "| `issubclass()`   | Returns True if a specified class is a subclass of a specified object                         |\n",
        "| `iter()`         | Returns an iterator object                                                                    |\n",
        "|`len()`          | Returns the length of an object                                                               |\n",
        "| `list()`         | Returns a list                                                                                |\n",
        "| `locals()`       | Returns an updated dictionary of the current local symbol table                               |\n",
        "| `map()`          | Returns the specified iterator with the specified function applied to each item               |\n",
        "| `max()`          | Returns the largest item in an iterable                                                       |\n",
        "| `memoryview()`   | Returns a memory view object                                                                  |\n",
        "| `min()`          | Returns the smallest item in an iterable                                                      |\n",
        "| `next()`         | Returns the next item in an iterable                                                          |\n",
        "|`object()`       | Returns a new object                                                                          |\n",
        "| `oct() `         | Converts a number into an octal                                                               |\n",
        "| `open()`         | Opens a file and returns a file object                                                        |\n",
        "| `ord()`         | Convert an integer representing the Unicode of the specified character                     |\n",
        "| `pow()`          | Returns the value of x to the power of y                                                      |\n",
        "| `print()`        | Prints to the standard output device                                                          |\n",
        "| `property()`     | Gets, sets, deletes a property                                                                |\n",
        "| `range()`        | Returns a sequence of numbers, starting from 0 and increments by 1 (by default)               |\n",
        "| `repr()`         | Returns a readable version of an object                                                       |\n",
        "| `reversed()`     | Returns a reversed iterator                                                                   |\n",
        "| `round()`        | Rounds a numbers                                                                              |\n",
        "| `set()`          | Returns a new set object                                                                      |\n",
        "| `setattr()`      | Sets an attribute (property/method) of an object                                              |\n",
        "| `slice()`        | Returns a slice object                                                                        |\n",
        "| `sorted()`       | Returns a sorted list                                                                         |\n",
        "| `staticmethod()` | Converts a method into a static method                                                        |\n",
        "| `str()`          | Returns a string object                                                                       |\n",
        "| `sum()`          | Sums the items of an iterator                                                                 |\n",
        "| `super()`        | Returns an object that represents the parent class                                            |\n",
        "| `tuple()`        | Returns a tuple                                                                               |\n",
        "| `type()`         | Returns the type of an object                                                                 |\n",
        "|`vars()`         | Returns the __dict__ property of an object                                                    |\n",
        "| `zip()`          | Returns an iterator, from two or more iterators                                               |\n"
      ],
      "metadata": {
        "id": "RQF2Omo_SZdl"
      }
    }
  ]
}