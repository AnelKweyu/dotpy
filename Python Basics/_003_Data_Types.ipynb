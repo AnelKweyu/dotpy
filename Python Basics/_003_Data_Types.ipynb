{
  "cells": [
    {
      "cell_type": "markdown",
      "metadata": {
        "id": "view-in-github",
        "colab_type": "text"
      },
      "source": [
        "<a href=\"https://colab.research.google.com/github/AnelKweyu/Python-Guide/blob/master/_3_Data_Types.ipynb\" target=\"_parent\"><img src=\"https://colab.research.google.com/assets/colab-badge.svg\" alt=\"Open In Colab\"/></a>"
      ]
    },
    {
      "cell_type": "markdown",
      "metadata": {
        "id": "rdSKMP7DAjh8"
      },
      "source": [
        "## Built-in Data Types\n",
        "Variables can store data of different types, and different types can do different things."
      ]
    },
    {
      "cell_type": "markdown",
      "metadata": {
        "id": "S5bnGZNpANFh"
      },
      "source": [
        "Python has the following data types built-in by default, in these categories:\n",
        "- Text Type:\t`str`\n",
        "- Numeric Types:\t`int`, `float`, `complex`\n",
        "- Mapping Type:\t`dict`\n",
        "- Set Types:\t`set`, `frozenset`\n",
        "- Boolean Type:\t`bool`\n",
        "- Binary Types:\t`bytes`, `bytearray`, `memoryview`\n",
        "- None Type:\t`NoneType`"
      ]
    },
    {
      "cell_type": "markdown",
      "metadata": {
        "id": "r6xSzelNAvAu"
      },
      "source": [
        "### Getting the Data Type\n",
        "You can get the data type of any object by using the `type()` function:"
      ]
    },
    {
      "cell_type": "code",
      "execution_count": null,
      "metadata": {
        "colab": {
          "base_uri": "https://localhost:8080/"
        },
        "id": "Aq11lIrsA1mu",
        "outputId": "d6e44655-eb0f-4e89-c50f-85047c7f0062"
      },
      "outputs": [
        {
          "name": "stdout",
          "output_type": "stream",
          "text": [
            "<class 'int'>\n"
          ]
        }
      ],
      "source": [
        "x = 5\n",
        "print(type(x))"
      ]
    },
    {
      "cell_type": "markdown",
      "metadata": {
        "id": "ucYjuSWsBHGh"
      },
      "source": [
        "### Setting the Data Type\n",
        "In Python, the data type is set when you assign a value to a variable:\n",
        "\n",
        "Example\tData Type\tTry it\n",
        "- x = \"Hello World\"\t    **str**\n",
        "- x = 20\t**int**\n",
        "- x = 20.5\t**float**\n",
        "- x = 1j\t**complex**\n",
        "- x = [\"apple\", \"banana\", \"cherry\"]\t**list**\n",
        "- x = (\"apple\", \"banana\", \"cherry\")\t**tuple**\n",
        "- x = range(6)\t**range**\n",
        "- x = {\"name\" : \"John\", \"age\" : 36}\t**dict**\n",
        "- x = {\"apple\", \"banana\", \"cherry\"}\t**set**\n",
        "- x = frozenset({\"apple\", \"banana\", \"cherry\"})\t**frozenset**\n",
        "- x = True\t**bool**\n",
        "- x = b\"Hello\"\t**bytes**\n",
        "- x = bytearray(5)\t**bytearray**\n",
        "- x = memoryview(bytes(5))\t**memoryview**\n",
        "- x = None\t**NoneType**\n"
      ]
    },
    {
      "cell_type": "markdown",
      "metadata": {
        "id": "rsA-UoF9Dj7m"
      },
      "source": [
        "### Setting the Specific Data Type\n",
        "If you want to specify the data type, you can use the following constructor functions:\n",
        "- x = str(\"Hello World\")\t*str*\n",
        "- x = int(20)\t**int**\n",
        "- x = float(20.5)\t**float**\n",
        "- x = complex(1j)\t**complex**\n",
        "- x = list((\"apple\", \"banana\", \"cherry\"))\t**list**\n",
        "- x = tuple((\"apple\", \"banana\", \"cherry\"))\t**tuple**\n",
        "- x = range(6)\t**range**\n",
        "- x = dict(name=\"John\", age=36)\t**dict**\n",
        "- x = set((\"apple\", \"banana\", \"cherry\"))\t**set**\n",
        "- x = frozenset((\"apple\", \"banana\", \"cherry\"))\t**frozenset**\n",
        "- x = bool(5)\t**bool**\n",
        "- x = bytes(5)\t**bytes**\n",
        "- x = bytearray(5)\t**bytearray**\n",
        "- x = memoryview(bytes(5))\t**memoryview**"
      ]
    }
  ],
  "metadata": {
    "colab": {
      "provenance": [],
      "include_colab_link": true
    },
    "kernelspec": {
      "display_name": "Python 3 (ipykernel)",
      "language": "python",
      "name": "python3"
    },
    "language_info": {
      "codemirror_mode": {
        "name": "ipython",
        "version": 3
      },
      "file_extension": ".py",
      "mimetype": "text/x-python",
      "name": "python",
      "nbconvert_exporter": "python",
      "pygments_lexer": "ipython3",
      "version": "3.11.5"
    }
  },
  "nbformat": 4,
  "nbformat_minor": 0
}