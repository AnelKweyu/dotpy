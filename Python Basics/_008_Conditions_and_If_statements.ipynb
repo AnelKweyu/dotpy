{
  "nbformat": 4,
  "nbformat_minor": 0,
  "metadata": {
    "colab": {
      "provenance": [],
      "authorship_tag": "ABX9TyPBpZrWZEqM3Sm4fKlOhigt",
      "include_colab_link": true
    },
    "kernelspec": {
      "name": "python3",
      "display_name": "Python 3"
    },
    "language_info": {
      "name": "python"
    }
  },
  "cells": [
    {
      "cell_type": "markdown",
      "metadata": {
        "id": "view-in-github",
        "colab_type": "text"
      },
      "source": [
        "<a href=\"https://colab.research.google.com/github/AnelKweyu/Python-Guide/blob/master/_8_Python_Conditions_and_If_statements.ipynb\" target=\"_parent\"><img src=\"https://colab.research.google.com/assets/colab-badge.svg\" alt=\"Open In Colab\"/></a>"
      ]
    },
    {
      "cell_type": "markdown",
      "source": [
        "#Python If ... Else"
      ],
      "metadata": {
        "id": "Odc90-Ya9xwj"
      }
    },
    {
      "cell_type": "markdown",
      "source": [
        "Python supports the usual logical conditions from mathematics:\n",
        "\n",
        "- Equals: `a == b`\n",
        "- Not Equals: `a != b`\n",
        "- Less than: `a < b`\n",
        "- Less than or equal to: `a <= b`\n",
        "- Greater than: `a > b`\n",
        "- Greater than or equal to: `a >= b`\n",
        "\n",
        "These conditions can be used in several ways, most commonly in \"if statements\" and loops.\n",
        "\n",
        "An \"if statement\" is written by using the `if` keyword."
      ],
      "metadata": {
        "id": "rh1tPyhp9zwL"
      }
    },
    {
      "cell_type": "code",
      "source": [
        "a = 33\n",
        "b = 200\n",
        "if b > a:\n",
        "  print(\"b is greater than a\")"
      ],
      "metadata": {
        "colab": {
          "base_uri": "https://localhost:8080/"
        },
        "id": "N-e0mU3P-coU",
        "outputId": "8bc4bbf3-487b-4664-e104-cb4d0ca2b3ff"
      },
      "execution_count": 1,
      "outputs": [
        {
          "output_type": "stream",
          "name": "stdout",
          "text": [
            "b is greater than a\n"
          ]
        }
      ]
    },
    {
      "cell_type": "markdown",
      "source": [
        "Python relies on indentation (whitespace at the beginning of a line) to define scope in the code. Other programming languages often use curly-brackets for this purpose."
      ],
      "metadata": {
        "id": "FS4T6Ieu-lAN"
      }
    },
    {
      "cell_type": "markdown",
      "source": [
        "### Short Hand If"
      ],
      "metadata": {
        "id": "CpP8Zyct_Lmr"
      }
    },
    {
      "cell_type": "code",
      "source": [
        "if a > b: print(\"a is greater than b\")"
      ],
      "metadata": {
        "id": "eGez6YPw_PvG"
      },
      "execution_count": 2,
      "outputs": []
    },
    {
      "cell_type": "markdown",
      "source": [
        "##Elif\n",
        "The elif keyword is Python's way of saying \"if the previous conditions were not true, then try this condition\"."
      ],
      "metadata": {
        "id": "zeyZEzP--p73"
      }
    },
    {
      "cell_type": "code",
      "source": [
        "a = 33\n",
        "b = 33\n",
        "if b > a:\n",
        "  print(\"b is greater than a\")\n",
        "elif a == b:\n",
        "  print(\"a and b are equal\")"
      ],
      "metadata": {
        "colab": {
          "base_uri": "https://localhost:8080/"
        },
        "id": "k_yGERoM-wCT",
        "outputId": "69ece6bb-acc1-42b0-bc8e-87fb8749a03a"
      },
      "execution_count": 3,
      "outputs": [
        {
          "output_type": "stream",
          "name": "stdout",
          "text": [
            "a and b are equal\n"
          ]
        }
      ]
    },
    {
      "cell_type": "markdown",
      "source": [
        "##Else\n",
        "The else keyword catches anything which isn't caught by the preceding conditions."
      ],
      "metadata": {
        "id": "OAoe4akG-5-n"
      }
    },
    {
      "cell_type": "code",
      "source": [
        "a = 200\n",
        "b = 33\n",
        "if b > a:\n",
        "  print(\"b is greater than a\")\n",
        "elif a == b:\n",
        "  print(\"a and b are equal\")\n",
        "else:\n",
        "  print(\"a is greater than b\")"
      ],
      "metadata": {
        "colab": {
          "base_uri": "https://localhost:8080/"
        },
        "id": "WGuijfeb-8Td",
        "outputId": "1917a325-d0b6-42ce-8845-9a1dcf5088e8"
      },
      "execution_count": 4,
      "outputs": [
        {
          "output_type": "stream",
          "name": "stdout",
          "text": [
            "a is greater than b\n"
          ]
        }
      ]
    },
    {
      "cell_type": "code",
      "source": [
        "a = 200\n",
        "b = 33\n",
        "if b > a:\n",
        "  print(\"b is greater than a\")\n",
        "else:\n",
        "  print(\"b is not greater than a\")"
      ],
      "metadata": {
        "colab": {
          "base_uri": "https://localhost:8080/"
        },
        "id": "R1eS9DB9_DOh",
        "outputId": "31db1600-9df5-4a5b-ec00-6b5b23e9a689"
      },
      "execution_count": 5,
      "outputs": [
        {
          "output_type": "stream",
          "name": "stdout",
          "text": [
            "b is not greater than a\n"
          ]
        }
      ]
    },
    {
      "cell_type": "markdown",
      "source": [
        "###Short Hand If ... Else\n",
        "This technique is known as **Ternary Operators**, or **Conditional Expressions**."
      ],
      "metadata": {
        "id": "2I4_b69B_iyG"
      }
    },
    {
      "cell_type": "code",
      "source": [
        "a = 2\n",
        "b = 330\n",
        "print(\"A\") if a > b else print(\"B\")"
      ],
      "metadata": {
        "colab": {
          "base_uri": "https://localhost:8080/"
        },
        "id": "XVco-y5N_oFL",
        "outputId": "4c293c97-3f19-4801-e3f4-3a518a6c8ed4"
      },
      "execution_count": 6,
      "outputs": [
        {
          "output_type": "stream",
          "name": "stdout",
          "text": [
            "B\n"
          ]
        }
      ]
    },
    {
      "cell_type": "code",
      "source": [
        "a = 330\n",
        "b = 330\n",
        "print(\"A\") if a > b else print(\"=\") if a == b else print(\"B\")"
      ],
      "metadata": {
        "colab": {
          "base_uri": "https://localhost:8080/"
        },
        "id": "Bn65QuJS_6SZ",
        "outputId": "849d07db-2870-4c24-e5cd-85dd5608439e"
      },
      "execution_count": 7,
      "outputs": [
        {
          "output_type": "stream",
          "name": "stdout",
          "text": [
            "=\n"
          ]
        }
      ]
    },
    {
      "cell_type": "markdown",
      "source": [
        "##And"
      ],
      "metadata": {
        "id": "Gk4kbudRAJEm"
      }
    },
    {
      "cell_type": "code",
      "source": [
        "a = 200\n",
        "b = 33\n",
        "c = 500\n",
        "if a > b and c > a:\n",
        "  print(\"Both conditions are True\")"
      ],
      "metadata": {
        "colab": {
          "base_uri": "https://localhost:8080/"
        },
        "id": "lxd3z_hlAfGv",
        "outputId": "7a7b1b4b-b0c2-4593-f0a2-a147a29e6cb5"
      },
      "execution_count": 8,
      "outputs": [
        {
          "output_type": "stream",
          "name": "stdout",
          "text": [
            "Both conditions are True\n"
          ]
        }
      ]
    },
    {
      "cell_type": "markdown",
      "source": [
        "##Or"
      ],
      "metadata": {
        "id": "HAkffyiVAJeW"
      }
    },
    {
      "cell_type": "code",
      "source": [
        "a = 200\n",
        "b = 33\n",
        "c = 500\n",
        "if a > b or a > c:\n",
        "  print(\"At least one of the conditions is True\")"
      ],
      "metadata": {
        "colab": {
          "base_uri": "https://localhost:8080/"
        },
        "id": "sYuEEabkAhwV",
        "outputId": "3f9b2531-1be8-44e4-b212-88b3d9abb591"
      },
      "execution_count": 9,
      "outputs": [
        {
          "output_type": "stream",
          "name": "stdout",
          "text": [
            "At least one of the conditions is True\n"
          ]
        }
      ]
    },
    {
      "cell_type": "markdown",
      "source": [
        "##Not"
      ],
      "metadata": {
        "id": "mF8skqcHAKKQ"
      }
    },
    {
      "cell_type": "code",
      "source": [
        "a = 33\n",
        "b = 200\n",
        "if not a > b:\n",
        "  print(\"a is NOT greater than b\")"
      ],
      "metadata": {
        "colab": {
          "base_uri": "https://localhost:8080/"
        },
        "id": "rcmGdiY6AneB",
        "outputId": "bef2abe5-4be3-4254-9671-4139dd17d07b"
      },
      "execution_count": 10,
      "outputs": [
        {
          "output_type": "stream",
          "name": "stdout",
          "text": [
            "a is NOT greater than b\n"
          ]
        }
      ]
    },
    {
      "cell_type": "markdown",
      "source": [
        "##Nested If"
      ],
      "metadata": {
        "id": "JVpA0gbfAKpq"
      }
    },
    {
      "cell_type": "code",
      "source": [
        "x = 41\n",
        "\n",
        "if x > 10:\n",
        "  print(\"Above ten,\")\n",
        "  if x > 20:\n",
        "    print(\"and also above 20!\")\n",
        "  else:\n",
        "    print(\"but not above 20.\")"
      ],
      "metadata": {
        "colab": {
          "base_uri": "https://localhost:8080/"
        },
        "id": "FpzWhAFHAsoM",
        "outputId": "d3949eeb-7b8e-4682-dffa-71f6c2a18f02"
      },
      "execution_count": 11,
      "outputs": [
        {
          "output_type": "stream",
          "name": "stdout",
          "text": [
            "Above ten,\n",
            "and also above 20!\n"
          ]
        }
      ]
    },
    {
      "cell_type": "markdown",
      "source": [
        "##The pass Statement\n",
        "if statements cannot be empty, but if you for some reason have an if statement with no content, put in the `pass` statement to avoid getting an error."
      ],
      "metadata": {
        "id": "wg1t7oKIALBy"
      }
    },
    {
      "cell_type": "code",
      "source": [
        "a = 33\n",
        "b = 200\n",
        "\n",
        "if b > a:\n",
        "  pass"
      ],
      "metadata": {
        "id": "3fGHx6jTAw3Z"
      },
      "execution_count": 12,
      "outputs": []
    }
  ]
}