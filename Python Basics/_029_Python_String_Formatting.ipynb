{
  "nbformat": 4,
  "nbformat_minor": 0,
  "metadata": {
    "colab": {
      "provenance": [],
      "authorship_tag": "ABX9TyOyG7uFo2HnforTMgEIGwkX",
      "include_colab_link": true
    },
    "kernelspec": {
      "name": "python3",
      "display_name": "Python 3"
    },
    "language_info": {
      "name": "python"
    }
  },
  "cells": [
    {
      "cell_type": "markdown",
      "metadata": {
        "id": "view-in-github",
        "colab_type": "text"
      },
      "source": [
        "<a href=\"https://colab.research.google.com/github/AnelKweyu/Python-Guide/blob/master/_29_Python_String_Formatting.ipynb\" target=\"_parent\"><img src=\"https://colab.research.google.com/assets/colab-badge.svg\" alt=\"Open In Colab\"/></a>"
      ]
    },
    {
      "cell_type": "markdown",
      "source": [
        "# Python String Formatting\n",
        "To make sure a string will display as expected, we can format the result with the `format()` method.\n",
        "\n"
      ],
      "metadata": {
        "id": "PQx_q12OTG-3"
      }
    },
    {
      "cell_type": "markdown",
      "source": [
        "## String format()\n",
        "The `format()` method allows you to format selected parts of a string.\n",
        "\n",
        "Sometimes there are parts of a text that you do not control, maybe they come from a database, or user input?\n",
        "\n",
        "To control such values, add placeholders (curly brackets `{}`) in the text, and run the values through the `format()` method:\n",
        "\n",
        "\n",
        "```\n",
        "string.format(value1, value2...)\n",
        "```\n",
        "\n"
      ],
      "metadata": {
        "id": "pFTzhjtKXWcJ"
      }
    },
    {
      "cell_type": "markdown",
      "source": [
        "| **Parameter**     | **Description**                                                                                                                                                                                                                       |\n",
        "|:-----------------:|:-------------------------------------------------------------------------------------------------------------------------------------------------------------------------------------------------------------------------------------:|\n",
        "| value1, value2... | Required. One or more values that should be formatted and inserted in the string.The values are either a list of values separated by commas, a key=value list, or a combination of both.The values can be of any data type. |\n"
      ],
      "metadata": {
        "id": "cRe0Bpvyb3nH"
      }
    },
    {
      "cell_type": "code",
      "execution_count": 1,
      "metadata": {
        "colab": {
          "base_uri": "https://localhost:8080/"
        },
        "id": "xQgBUFZTQ4DX",
        "outputId": "2d520059-dfca-4d87-e1e4-27fe0e95984d"
      },
      "outputs": [
        {
          "output_type": "stream",
          "name": "stdout",
          "text": [
            "The price is 49 Shillings\n"
          ]
        }
      ],
      "source": [
        "price = 49\n",
        "txt = \"The price is {} Shillings\"\n",
        "print(txt.format(price))"
      ]
    },
    {
      "cell_type": "markdown",
      "source": [
        "You can add parameters inside the curly brackets to specify how to convert the value:"
      ],
      "metadata": {
        "id": "bl0wSPITXoAf"
      }
    },
    {
      "cell_type": "code",
      "source": [
        "#Format the price to be displayed as a number with two decimals:\n",
        "txt = \"The price is {:.2f} Shillings\""
      ],
      "metadata": {
        "id": "pOk8DMlNXoxr"
      },
      "execution_count": 2,
      "outputs": []
    },
    {
      "cell_type": "markdown",
      "source": [
        "## Multiple Values\n",
        "If you want to use more values, just add more values to the `format()` method:"
      ],
      "metadata": {
        "id": "1LJdlQDyZLT3"
      }
    },
    {
      "cell_type": "markdown",
      "source": [
        "\n",
        "\n",
        "```\n",
        "print(txt.format(price, itemno, count))\n",
        "```\n",
        "\n"
      ],
      "metadata": {
        "id": "aV2F6oNmZbSO"
      }
    },
    {
      "cell_type": "code",
      "source": [
        "quantity = 3\n",
        "itemno = 567\n",
        "price = 49\n",
        "myorder = \"I want {} pieces of item number {} for {:.2f} Shillings.\"\n",
        "print(myorder.format(quantity, itemno, price))"
      ],
      "metadata": {
        "colab": {
          "base_uri": "https://localhost:8080/"
        },
        "id": "0tUDIPqMZfzu",
        "outputId": "bf8390dc-4a9e-45e9-cc43-143be1902570"
      },
      "execution_count": 3,
      "outputs": [
        {
          "output_type": "stream",
          "name": "stdout",
          "text": [
            "I want 3 pieces of item number 567 for 49.00 Shillings.\n"
          ]
        }
      ]
    },
    {
      "cell_type": "markdown",
      "source": [
        "## The Placeholders\n",
        "The placeholders can be identified using named indexes `{price}`, numbered indexes `{0}`, or even empty placeholders `{}`."
      ],
      "metadata": {
        "id": "FQeRQMRAbYi5"
      }
    },
    {
      "cell_type": "code",
      "source": [
        "txt1 = \"My name is {fname}, I'm {age}\".format(fname = \"Kweyu\", age = 36)\n",
        "txt2 = \"My name is {0}, I'm {1}\".format(\"Kweyu\",36)\n",
        "txt3 = \"My name is {}, I'm {}\".format(\"Kweyu\",36)"
      ],
      "metadata": {
        "id": "580NbzygblXz"
      },
      "execution_count": 4,
      "outputs": []
    },
    {
      "cell_type": "markdown",
      "source": [
        "## Index Numbers\n",
        "You can use index numbers (a number inside the curly brackets `{0}`) to be sure the values are placed in the correct placeholders:"
      ],
      "metadata": {
        "id": "HiQq2u6fZpgn"
      }
    },
    {
      "cell_type": "code",
      "source": [
        "quantity = 3\n",
        "itemno = 567\n",
        "price = 49\n",
        "myorder = \"I want {0} pieces of item number {1} for {2:.2f} dollars.\"\n",
        "print(myorder.format(quantity, itemno, price))"
      ],
      "metadata": {
        "colab": {
          "base_uri": "https://localhost:8080/"
        },
        "id": "wVIAo8IxZwnE",
        "outputId": "a4136b25-fbed-41e6-e78f-83773c2a36bc"
      },
      "execution_count": 5,
      "outputs": [
        {
          "output_type": "stream",
          "name": "stdout",
          "text": [
            "I want 3 pieces of item number 567 for 49.00 dollars.\n"
          ]
        }
      ]
    },
    {
      "cell_type": "markdown",
      "source": [
        "Also, if you want to refer to the same value more than once, use the index number:\n",
        "\n"
      ],
      "metadata": {
        "id": "4IGTNYF1ZzJF"
      }
    },
    {
      "cell_type": "code",
      "source": [
        "age = 36\n",
        "name = \"John\"\n",
        "txt = \"His name is {1}. {1} is {0} years old.\"\n",
        "print(txt.format(age, name))"
      ],
      "metadata": {
        "colab": {
          "base_uri": "https://localhost:8080/"
        },
        "id": "CcGjZmrrZ1zU",
        "outputId": "0a9ddada-2f6a-4c1b-cdd1-183f7536a8e0"
      },
      "execution_count": 6,
      "outputs": [
        {
          "output_type": "stream",
          "name": "stdout",
          "text": [
            "His name is John. John is 36 years old.\n"
          ]
        }
      ]
    },
    {
      "cell_type": "markdown",
      "source": [
        "## Named Indexes\n",
        "You can also use named indexes by entering a name inside the curly brackets `{carname}`, but then you must use names when you pass the parameter values `txt.format(carname = \"Ford\")`:"
      ],
      "metadata": {
        "id": "bhB1ch8eZ7jU"
      }
    },
    {
      "cell_type": "code",
      "source": [
        "myorder = \"I have a {carname}, it is a {model}.\"\n",
        "print(myorder.format(carname = \"Ford\", model = \"Mustang\"))"
      ],
      "metadata": {
        "colab": {
          "base_uri": "https://localhost:8080/"
        },
        "id": "PcHv1LGnaPSu",
        "outputId": "2b0d671b-a16d-40ea-8807-f87566bec13f"
      },
      "execution_count": 7,
      "outputs": [
        {
          "output_type": "stream",
          "name": "stdout",
          "text": [
            "I have a Ford, it is a Mustang.\n"
          ]
        }
      ]
    },
    {
      "cell_type": "markdown",
      "source": [
        "## Formatting Types"
      ],
      "metadata": {
        "id": "cZpP8xu8cfGT"
      }
    },
    {
      "cell_type": "markdown",
      "source": [
        "<table class=\"ws-table-all notranslate\">\n",
        "<tbody>\n",
        "<tr>\n",
        "  <td><code class=\"w3-codespan\">:&lt;</code></td>\n",
        "  <td>Left aligns the result (within the available space)</td>\n",
        "</tr>\n",
        "<tr>\n",
        "  <td><code class=\"w3-codespan\">:&gt;</code></td>\n",
        "  <td>Right aligns the result (within the available space)</td>\n",
        "</tr>\n",
        "<tr>\n",
        "  <td><code class=\"w3-codespan\">:^</code></td>\n",
        "  <td>Center aligns the result (within the available space)</td>\n",
        "</tr>\n",
        "<tr>\n",
        "  <td><code class=\"w3-codespan\">:=</code></td>\n",
        "  <td>Places the sign to the left most position</td>\n",
        "</tr>\n",
        "<tr>\n",
        "  <td><code class=\"w3-codespan\">:+</code></td>\n",
        "  <td>Use a plus sign to indicate if the result is positive or negative</td>\n",
        "</tr>\n",
        "<tr>\n",
        "  <td><code class=\"w3-codespan\">:-</code></td>\n",
        "  <td>Use a minus sign for negative values only</td>\n",
        "</tr>\n",
        "<tr>\n",
        "  <td><code class=\"w3-codespan\">:&nbsp;</code></td>\n",
        "  <td>Use a space to insert an extra space before positive numbers (and a minus sign\n",
        "  before negative numbers)</td>\n",
        "</tr>\n",
        "<tr>\n",
        "  <td><code class=\"w3-codespan\">:,</code></td>\n",
        "  <td>Use a comma as a thousand separator</td>\n",
        "</tr>\n",
        "<tr>\n",
        "  <td><code class=\"w3-codespan\">:_</code></td>\n",
        "  <td>Use a underscore as a thousand separator</td>\n",
        "</tr>\n",
        "<tr>\n",
        "  <td><code class=\"w3-codespan\">:b</code></td>\n",
        "  <td>Binary format</td>\n",
        "</tr>\n",
        "<tr>\n",
        "  <td><code class=\"w3-codespan\">:c</code></td>\n",
        "  <td>Converts the value into the corresponding unicode character</td>\n",
        "</tr>\n",
        "<tr>\n",
        "  <td><code class=\"w3-codespan\">:d</code></td>\n",
        "  <td>Decimal format</td>\n",
        "</tr>\n",
        "<tr>\n",
        "  <td><code class=\"w3-codespan\">:e</code></td>\n",
        "  <td>Scientific format, with a lower case e</td>\n",
        "</tr>\n",
        "<tr>\n",
        "  <td><code class=\"w3-codespan\">:E</code></td>\n",
        "  <td>Scientific format, with an upper case E</td>\n",
        "</tr>\n",
        "<tr>\n",
        "  <td><code class=\"w3-codespan\">:f</code></td>\n",
        "  <td>Fix point number format</td>\n",
        "</tr>\n",
        "<tr>\n",
        "  <td><code class=\"w3-codespan\">:F</code></td>\n",
        "  <td>Fix point number format, in uppercase format (show\n",
        "  <code class=\"w3-codespan\">inf</code> and\n",
        "  <code class=\"w3-codespan\">nan</code> as <code class=\"w3-codespan\">INF</code>\n",
        "  and <code class=\"w3-codespan\">NAN</code>)</td>\n",
        "</tr>\n",
        "<tr>\n",
        "  <td><code class=\"w3-codespan\">:g</code></td>\n",
        "  <td>General format</td>\n",
        "</tr>\n",
        "<tr>\n",
        "  <td><code class=\"w3-codespan\">:G</code></td>\n",
        "  <td>General format (using a upper case E for scientific notations)</td>\n",
        "</tr>\n",
        "<tr>\n",
        "  <td><code class=\"w3-codespan\">:o</code></td>\n",
        "  <td>Octal format</td>\n",
        "</tr>\n",
        "<tr>\n",
        "  <td><code class=\"w3-codespan\">:x</code></td>\n",
        "  <td>Hex format, lower case</td>\n",
        "</tr>\n",
        "<tr>\n",
        "  <td><code class=\"w3-codespan\">:X</code></td>\n",
        "  <td>Hex format, upper case</td>\n",
        "</tr>\n",
        "<tr>\n",
        "  <td><code class=\"w3-codespan\">:n</code></td>\n",
        "  <td>Number format</td>\n",
        "</tr>\n",
        "<tr>\n",
        "  <td><code class=\"w3-codespan\">:%</code></td>\n",
        "  <td>Percentage format</td>\n",
        "</tr>\n",
        "</tbody></table>"
      ],
      "metadata": {
        "id": "XPHn61eFcf3i"
      }
    }
  ]
}