{
  "nbformat": 4,
  "nbformat_minor": 0,
  "metadata": {
    "colab": {
      "provenance": [],
      "authorship_tag": "ABX9TyPcx6Qa1F2qJC3RNE607Ed8",
      "include_colab_link": true
    },
    "kernelspec": {
      "name": "python3",
      "display_name": "Python 3"
    },
    "language_info": {
      "name": "python"
    }
  },
  "cells": [
    {
      "cell_type": "markdown",
      "metadata": {
        "id": "view-in-github",
        "colab_type": "text"
      },
      "source": [
        "<a href=\"https://colab.research.google.com/github/AnelKweyu/Python-Guide/blob/master/_22_Dates.ipynb\" target=\"_parent\"><img src=\"https://colab.research.google.com/assets/colab-badge.svg\" alt=\"Open In Colab\"/></a>"
      ]
    },
    {
      "cell_type": "markdown",
      "source": [
        "# Python Datetime\n"
      ],
      "metadata": {
        "id": "LS6BbAf3F19n"
      }
    },
    {
      "cell_type": "markdown",
      "source": [
        "## Python Dates\n",
        "A date in Python is not a data type of its own, but we can import a module named `datetime` to work with dates as date objects."
      ],
      "metadata": {
        "id": "WuF7P8qjGCjf"
      }
    },
    {
      "cell_type": "code",
      "source": [
        "import datetime\n",
        "\n",
        "x = datetime.datetime.now()\n",
        "print(x)"
      ],
      "metadata": {
        "colab": {
          "base_uri": "https://localhost:8080/"
        },
        "id": "QPtJ1cMxGPKw",
        "outputId": "2bd44e40-5c4d-4f67-ae1d-cce36446dad7"
      },
      "execution_count": 1,
      "outputs": [
        {
          "output_type": "stream",
          "name": "stdout",
          "text": [
            "2023-12-29 01:23:35.523205\n"
          ]
        }
      ]
    },
    {
      "cell_type": "markdown",
      "source": [
        "## Date Output\n",
        "When we execute the code from the example above the result will be:\n",
        "\n",
        "`2023-12-29 03:59:52.837436`\n",
        "The date contains year, month, day, hour, minute, second, and microsecond.\n",
        "\n",
        "The `datetime` module has many methods to return information about the date object.\n",
        "\n",
        "Here are a few examples, you will learn more about them later in this chapter:"
      ],
      "metadata": {
        "id": "5Q2R6onVGWqj"
      }
    },
    {
      "cell_type": "code",
      "source": [
        "import datetime\n",
        "\n",
        "x = datetime.datetime.now()\n",
        "\n",
        "print(x.year)\n",
        "print(x.strftime(\"%A\"))"
      ],
      "metadata": {
        "colab": {
          "base_uri": "https://localhost:8080/"
        },
        "id": "fZbRxaFVGyb7",
        "outputId": "c0d0a630-1d7a-425e-a9d7-7e3176f04faa"
      },
      "execution_count": 2,
      "outputs": [
        {
          "output_type": "stream",
          "name": "stdout",
          "text": [
            "2023\n",
            "Friday\n"
          ]
        }
      ]
    },
    {
      "cell_type": "markdown",
      "source": [
        "## Creating Date Objects\n",
        "To create a date, we can use the `datetime()` class (constructor) of the `datetime` module.\n",
        "\n",
        "The `datetime()` class requires three parameters to create a date: year, month, day."
      ],
      "metadata": {
        "id": "l20ccqr1G4lp"
      }
    },
    {
      "cell_type": "code",
      "source": [
        "import datetime\n",
        "\n",
        "x = datetime.datetime(2020, 5, 17)\n",
        "\n",
        "print(x)"
      ],
      "metadata": {
        "colab": {
          "base_uri": "https://localhost:8080/"
        },
        "id": "WXVxK2j_HX7i",
        "outputId": "78fef670-11f7-4819-9904-b809e1975148"
      },
      "execution_count": 3,
      "outputs": [
        {
          "output_type": "stream",
          "name": "stdout",
          "text": [
            "2020-05-17 00:00:00\n"
          ]
        }
      ]
    },
    {
      "cell_type": "markdown",
      "source": [
        "The `datetime()` class also takes parameters for time and timezone (hour, minute, second, microsecond, tzone), but they are optional, and has a default value of 0, (None for timezone).\n",
        "\n"
      ],
      "metadata": {
        "id": "XzBGft0XHKdg"
      }
    },
    {
      "cell_type": "markdown",
      "source": [
        "## The `strftime()` Method\n",
        "The `datetime` object has a method for formatting date objects into readable strings.\n",
        "\n",
        "The method is called `strftime()`, and takes one parameter, format, to specify the format of the returned string:\n",
        "\n"
      ],
      "metadata": {
        "id": "DDYlWSoDHmBA"
      }
    },
    {
      "cell_type": "code",
      "source": [
        "import datetime\n",
        "\n",
        "x = datetime.datetime(2018, 6, 1)\n",
        "\n",
        "print(x.strftime(\"%B\"))"
      ],
      "metadata": {
        "colab": {
          "base_uri": "https://localhost:8080/"
        },
        "id": "uZh927IQH6zb",
        "outputId": "fea62cb3-a9f0-49b2-cbeb-4f85ed4d23ef"
      },
      "execution_count": 4,
      "outputs": [
        {
          "output_type": "stream",
          "name": "stdout",
          "text": [
            "June\n"
          ]
        }
      ]
    },
    {
      "cell_type": "markdown",
      "source": [
        "## A reference of all the legal format codes:"
      ],
      "metadata": {
        "id": "66gPyJxHJyXV"
      }
    },
    {
      "cell_type": "markdown",
      "source": [
        "| **Directive** | **Description**                                             | **Example**              |\n",
        "|:-------------:|:-----------------------------------------------------------:|:------------------------:|\n",
        "| `%a`        | Weekday, short version                                      | Wed                      |\n",
        "| `%A`        | Weekday, full version                                       | Wednesday                |\n",
        "| `%w`        | Weekday as a number 0-6, 0 is Sunday                        | 3                        |\n",
        "| `%d`        | Day of month 01-31                                          | 31                       |\n",
        "| `%b`        | Month name, short version                                   | Dec                      |\n",
        "| `%B`        | Month name, full version                                    | December                 |\n",
        "| `%m`        | Month as a number 01-12                                     | 12                       |\n",
        "| `%y`        | Year, short version, without century                        | 18                       |\n",
        "| `%Y`        | Year, full version                                          | 2018                     |\n",
        "| `%H`        | Hour 00-23                                                  | 17                       |\n",
        "| `%I`        | Hour 00-12                                                  | 05                       |\n",
        "| `%p`        | AM/PM                                                       | PM                       |\n",
        "| `%M`        | Minute 00-59                                                | 41                       |\n",
        "| `%S`        | Second 00-59                                                | 08                       | Try it » |\n",
        "| `%f`        | Microsecond 000000-999999                                   | 548513                   |\n",
        "| `%z`        | UTC offset                                                  | +0100                    |\n",
        "| `%Z`        | Timezone                                                    | CST                      |\n",
        "|`%j`        | Day number of year 001-366                                  | 365                      |\n",
        "| `%U`        | Week number of year, Sunday as the first day of week, 00-53 | 52                       |\n",
        "| `%W`        | Week number of year, Monday as the first day of week, 00-53 | 52                       |\n",
        "| `%c`        | Local version of date and time                              | Mon Dec 31 17:41:00 2018 |\n",
        "| `%C`        | Century                                                     | 20                       |\n",
        "| `%x`        | Local version of date                                       | 12/31/18                 |\n",
        "| `%X`        | Local version of time                                       | 17:41:00                 |\n",
        "| `%%`        | A % character                                               | %                        |\n",
        "| `%G`        | ISO 8601 year                                               | 2018                     |\n",
        "| `%u`        | ISO 8601 weekday (1-7)                                      | 1                        |\n",
        "|`%V`        | ISO 8601 weeknumber (01-53)                                 | 01                       |\n"
      ],
      "metadata": {
        "id": "Ze4E5S2wJzUO"
      }
    }
  ]
}