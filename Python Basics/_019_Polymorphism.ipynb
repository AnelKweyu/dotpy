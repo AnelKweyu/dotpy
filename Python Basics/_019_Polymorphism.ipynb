{
  "nbformat": 4,
  "nbformat_minor": 0,
  "metadata": {
    "colab": {
      "provenance": [],
      "authorship_tag": "ABX9TyPrtvLV/DJSgFke2YeuLF8U",
      "include_colab_link": true
    },
    "kernelspec": {
      "name": "python3",
      "display_name": "Python 3"
    },
    "language_info": {
      "name": "python"
    }
  },
  "cells": [
    {
      "cell_type": "markdown",
      "metadata": {
        "id": "view-in-github",
        "colab_type": "text"
      },
      "source": [
        "<a href=\"https://colab.research.google.com/github/AnelKweyu/Python-Guide/blob/master/_19_Polymorphism.ipynb\" target=\"_parent\"><img src=\"https://colab.research.google.com/assets/colab-badge.svg\" alt=\"Open In Colab\"/></a>"
      ]
    },
    {
      "cell_type": "markdown",
      "source": [
        "# Python Polymorphism\n",
        "The word \"polymorphism\" means \"many forms\", and in programming it refers to methods/functions/operators with the same name that can be executed on many objects or classes."
      ],
      "metadata": {
        "id": "d4apVM2tbECh"
      }
    },
    {
      "cell_type": "markdown",
      "source": [
        "## Function Polymorphism"
      ],
      "metadata": {
        "id": "yv7SHh2mbe-W"
      }
    },
    {
      "cell_type": "markdown",
      "source": [
        "An example of a Python function that can be used on different objects is the `len()` function.\n",
        "\n"
      ],
      "metadata": {
        "id": "TV93FySVbjBQ"
      }
    },
    {
      "cell_type": "markdown",
      "source": [
        "### String\n",
        "For strings `len()` returns the number of characters:"
      ],
      "metadata": {
        "id": "-3jG_cNHbo3V"
      }
    },
    {
      "cell_type": "code",
      "source": [
        "x = \"Hello Kweyu!\"\n",
        "\n",
        "print(len(x))"
      ],
      "metadata": {
        "colab": {
          "base_uri": "https://localhost:8080/"
        },
        "id": "pPZ1HGLfbwI_",
        "outputId": "0aeece34-4b84-4a3b-9a7f-0d2d6f202dd2"
      },
      "execution_count": 1,
      "outputs": [
        {
          "output_type": "stream",
          "name": "stdout",
          "text": [
            "12\n"
          ]
        }
      ]
    },
    {
      "cell_type": "markdown",
      "source": [
        "### Tuple\n",
        "For tuples `len()` returns the number of items in the tuple:"
      ],
      "metadata": {
        "id": "RZtRN24Xb2C3"
      }
    },
    {
      "cell_type": "code",
      "source": [
        "mytuple = (\"apple\", \"banana\", \"cherry\")\n",
        "\n",
        "print(len(mytuple))"
      ],
      "metadata": {
        "colab": {
          "base_uri": "https://localhost:8080/"
        },
        "id": "0ba1K4Pbb5oa",
        "outputId": "5506c02b-5175-4ceb-f984-0bdc9851afea"
      },
      "execution_count": 2,
      "outputs": [
        {
          "output_type": "stream",
          "name": "stdout",
          "text": [
            "3\n"
          ]
        }
      ]
    },
    {
      "cell_type": "markdown",
      "source": [
        "### Dictionary\n",
        "For dictionaries `len()` returns the number of key/value pairs in the dictionary:"
      ],
      "metadata": {
        "id": "qqi-GnVab6Ix"
      }
    },
    {
      "cell_type": "code",
      "source": [
        "thisdict = {\n",
        "  \"brand\": \"Ford\",\n",
        "  \"model\": \"Mustang\",\n",
        "  \"year\": 1964\n",
        "}\n",
        "\n",
        "print(len(thisdict))"
      ],
      "metadata": {
        "colab": {
          "base_uri": "https://localhost:8080/"
        },
        "id": "WZw-ufCucKVK",
        "outputId": "4eadbb4e-6c49-48b5-bcf7-c05d7df60a79"
      },
      "execution_count": 3,
      "outputs": [
        {
          "output_type": "stream",
          "name": "stdout",
          "text": [
            "3\n"
          ]
        }
      ]
    },
    {
      "cell_type": "markdown",
      "source": [
        "## Class Polymorphism\n",
        "Polymorphism is often used in Class methods, where we can have multiple classes with the same method name.\n",
        "\n",
        "For example, say we have three classes: `Car`, `Boat`, and `Plane`, and they all have a method called `move()`:"
      ],
      "metadata": {
        "id": "xsFO88RccVYy"
      }
    },
    {
      "cell_type": "code",
      "source": [
        "class Car:\n",
        "  def __init__(self, brand, model):\n",
        "    self.brand = brand\n",
        "    self.model = model\n",
        "\n",
        "  def move(self):\n",
        "    print(\"Drive!\")\n",
        "\n",
        "class Boat:\n",
        "  def __init__(self, brand, model):\n",
        "    self.brand = brand\n",
        "    self.model = model\n",
        "\n",
        "  def move(self):\n",
        "    print(\"Sail!\")\n",
        "\n",
        "class Plane:\n",
        "  def __init__(self, brand, model):\n",
        "    self.brand = brand\n",
        "    self.model = model\n",
        "\n",
        "  def move(self):\n",
        "    print(\"Fly!\")\n",
        "\n",
        "car1 = Car(\"Ford\", \"Mustang\")       #Create a Car class\n",
        "boat1 = Boat(\"Ibiza\", \"Touring 20\") #Create a Boat class\n",
        "plane1 = Plane(\"Boeing\", \"747\")     #Create a Plane class\n",
        "\n",
        "for x in (car1, boat1, plane1):\n",
        "  x.move()"
      ],
      "metadata": {
        "colab": {
          "base_uri": "https://localhost:8080/"
        },
        "id": "4K7yqHyVcq6v",
        "outputId": "764ad0b4-52dd-4109-8328-331de763fae2"
      },
      "execution_count": 4,
      "outputs": [
        {
          "output_type": "stream",
          "name": "stdout",
          "text": [
            "Drive!\n",
            "Sail!\n",
            "Fly!\n"
          ]
        }
      ]
    },
    {
      "cell_type": "markdown",
      "source": [
        "Look at the for loop at the end. Because of polymorphism we can execute the same method for all three classes."
      ],
      "metadata": {
        "id": "lib2Zlr5c1Ki"
      }
    },
    {
      "cell_type": "markdown",
      "source": [
        "## Inheritance Class Polymorphism\n",
        "What about classes with child classes with the same name? Can we use polymorphism there?\n",
        "\n",
        "Yes. If we use the example above and make a parent class called Vehicle, and make Car, Boat, Plane child classes of Vehicle, the child classes inherits the Vehicle methods, but can override them:"
      ],
      "metadata": {
        "id": "3uYSWGZRc5p-"
      }
    },
    {
      "cell_type": "code",
      "source": [
        "class Vehicle:\n",
        "  def __init__(self, brand, model):\n",
        "    self.brand = brand\n",
        "    self.model = model\n",
        "\n",
        "  def move(self):\n",
        "    print(\"Move!\")\n",
        "\n",
        "class Car(Vehicle):\n",
        "  pass\n",
        "\n",
        "class Boat(Vehicle):\n",
        "  def move(self):\n",
        "    print(\"Sail!\")\n",
        "\n",
        "class Plane(Vehicle):\n",
        "  def move(self):\n",
        "    print(\"Fly!\")\n",
        "\n",
        "car1 = Car(\"Ford\", \"Mustang\") #Create a Car object\n",
        "boat1 = Boat(\"Ibiza\", \"Touring 20\") #Create a Boat object\n",
        "plane1 = Plane(\"Boeing\", \"747\") #Create a Plane object\n",
        "\n",
        "for x in (car1, boat1, plane1):\n",
        "  print(x.brand)\n",
        "  print(x.model)\n",
        "  x.move()"
      ],
      "metadata": {
        "colab": {
          "base_uri": "https://localhost:8080/"
        },
        "id": "NHARKuxmdEAz",
        "outputId": "6c84af03-3ee2-4d8c-d1ef-4671554d25bb"
      },
      "execution_count": 5,
      "outputs": [
        {
          "output_type": "stream",
          "name": "stdout",
          "text": [
            "Ford\n",
            "Mustang\n",
            "Move!\n",
            "Ibiza\n",
            "Touring 20\n",
            "Sail!\n",
            "Boeing\n",
            "747\n",
            "Fly!\n"
          ]
        }
      ]
    },
    {
      "cell_type": "markdown",
      "source": [
        "Child classes inherits the properties and methods from the parent class.\n",
        "\n",
        "In the example above you can see that the `Car` class is empty, but it inherits `brand`, `model`, and `move()` from Vehicle.\n",
        "\n",
        "The `Boat` and `Plane` classes also inherit `brand`, `model`, and `move()` from Vehicle, but they both override the `move()` method.\n",
        "\n",
        "Because of polymorphism we can execute the same method for all classes."
      ],
      "metadata": {
        "id": "1Pq_mLLCdE-h"
      }
    }
  ]
}